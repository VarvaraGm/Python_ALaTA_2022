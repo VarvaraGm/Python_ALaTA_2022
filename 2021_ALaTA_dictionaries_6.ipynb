{
 "cells": [
  {
   "cell_type": "markdown",
   "metadata": {},
   "source": [
    "### Dictionaries\n",
    "\n",
    "A dictionary is like a list, but more general.\n",
    "\n",
    "A set of indices in a dictionary is called **keys**. Each key maps to a **value**. \n",
    "\n",
    "The association of a\n",
    "key and a value is called a key-value pair or sometimes an item.\n",
    "\n",
    "The curly brackets, {}, represent an empty dictionary. \n",
    "\n",
    "To add items to the dictionary,you can use square brackets:"
   ]
  },
  {
   "cell_type": "code",
   "execution_count": 1,
   "metadata": {},
   "outputs": [
    {
     "name": "stdout",
     "output_type": "stream",
     "text": [
      "{'one': 'ein', 'two': 'zwei', 'three': 'drei'}\n"
     ]
    }
   ],
   "source": [
    "languages = {}\n",
    "languages ['one']= 'ein'\n",
    "languages ['two']= 'zwei'\n",
    "languages ['three']= 'drei'\n",
    "print(languages)"
   ]
  },
  {
   "cell_type": "markdown",
   "metadata": {},
   "source": [
    "If we print the dictionary, we see **a key-value pair** with a colon between the key\n",
    "and value.\n",
    "\n",
    "The key **'one'** maps the value **'ein'** etc.\n",
    "\n",
    "The **len** function works on dictionaries; it returns the number of key-value pairs:"
   ]
  },
  {
   "cell_type": "code",
   "execution_count": 2,
   "metadata": {},
   "outputs": [
    {
     "name": "stdout",
     "output_type": "stream",
     "text": [
      "3\n"
     ]
    }
   ],
   "source": [
    "print(len(languages))"
   ]
  },
  {
   "cell_type": "markdown",
   "metadata": {},
   "source": [
    "The **in** operator works on dictionaries; it tells you whether something appears as\n",
    "a key in the dictionary (appearing as a value is not good enough)."
   ]
  },
  {
   "cell_type": "code",
   "execution_count": 3,
   "metadata": {},
   "outputs": [
    {
     "data": {
      "text/plain": [
       "True"
      ]
     },
     "execution_count": 3,
     "metadata": {},
     "output_type": "execute_result"
    }
   ],
   "source": [
    "'one' in languages"
   ]
  },
  {
   "cell_type": "markdown",
   "metadata": {},
   "source": [
    "To see whether something appears as a value in a dictionary, you can use the\n",
    "method **values**, which returns the values as a type that can be converted to a list,\n",
    "and then use the **in** operator:"
   ]
  },
  {
   "cell_type": "code",
   "execution_count": 6,
   "metadata": {},
   "outputs": [
    {
     "name": "stdout",
     "output_type": "stream",
     "text": [
      "['ein', 'zwei', 'drei']\n"
     ]
    },
    {
     "data": {
      "text/plain": [
       "True"
      ]
     },
     "execution_count": 6,
     "metadata": {},
     "output_type": "execute_result"
    }
   ],
   "source": [
    "val = list(languages.values())\n",
    "print(val)\n",
    "'zwei' in val"
   ]
  },
  {
   "cell_type": "markdown",
   "metadata": {},
   "source": [
    "### Example\n",
    "\n",
    "Suppose you are given a string and you want to count how many times each letter appears.\n",
    "\n",
    "You could create a dictionary with characters as keys and counters as the\n",
    "corresponding values. \n",
    "\n",
    "The first time you see a character, you would add\n",
    "an item to the dictionary. \n",
    "\n",
    "After that you would increment the value of an\n",
    "existing item."
   ]
  },
  {
   "cell_type": "code",
   "execution_count": 1,
   "metadata": {},
   "outputs": [
    {
     "name": "stdout",
     "output_type": "stream",
     "text": [
      "{'b': 1, 'a': 3, 'n': 2}\n"
     ]
    }
   ],
   "source": [
    "word = 'banana'\n",
    "d = dict()\n",
    "for i in word:\n",
    "    if i not in d:\n",
    "        d[i] = 1\n",
    "    else:\n",
    "        d[i] = d[i] + 1\n",
    "print(d)"
   ]
  },
  {
   "cell_type": "markdown",
   "metadata": {},
   "source": [
    "Dictionaries have a method called **get** that takes a key and a default value. \n",
    "\n",
    "If the key appears in the dictionary, get returns the corresponding value; otherwise it\n",
    "returns the default value. \n",
    "\n",
    "For example:"
   ]
  },
  {
   "cell_type": "code",
   "execution_count": 8,
   "metadata": {},
   "outputs": [
    {
     "name": "stdout",
     "output_type": "stream",
     "text": [
      "ein\n"
     ]
    }
   ],
   "source": [
    "print(languages.get('one'))"
   ]
  },
  {
   "cell_type": "code",
   "execution_count": 9,
   "metadata": {},
   "outputs": [
    {
     "name": "stdout",
     "output_type": "stream",
     "text": [
      "None\n"
     ]
    }
   ],
   "source": [
    "print(languages.get('four'))"
   ]
  },
  {
   "cell_type": "code",
   "execution_count": 10,
   "metadata": {},
   "outputs": [
    {
     "name": "stdout",
     "output_type": "stream",
     "text": [
      "0\n",
      "not found\n"
     ]
    }
   ],
   "source": [
    "print(languages.get('four',0))\n",
    "print(languages.get('four', 'not found'))"
   ]
  },
  {
   "cell_type": "markdown",
   "metadata": {},
   "source": [
    "You can delete a single key or clear the entire dictionary using special operations."
   ]
  },
  {
   "cell_type": "code",
   "execution_count": 11,
   "metadata": {},
   "outputs": [
    {
     "name": "stdout",
     "output_type": "stream",
     "text": [
      "{'one': 'ein', 'two': 'zwei'}\n",
      "{}\n"
     ]
    }
   ],
   "source": [
    "del languages[\"three\"] \n",
    "print(languages)\n",
    "languages.clear() \n",
    "print(languages)"
   ]
  },
  {
   "cell_type": "markdown",
   "metadata": {},
   "source": [
    "Dictionaries have three methods by which we can generate a list of keys, values, and a list of key-value pairs. "
   ]
  },
  {
   "cell_type": "code",
   "execution_count": 2,
   "metadata": {},
   "outputs": [
    {
     "name": "stdout",
     "output_type": "stream",
     "text": [
      "dict_values([1, 3, 2])\n",
      "dict_keys(['b', 'a', 'n'])\n",
      "dict_items([('b', 1), ('a', 3), ('n', 2)])\n"
     ]
    }
   ],
   "source": [
    "print(d.values())\n",
    "print(d.keys()) \n",
    "print(d.items())"
   ]
  },
  {
   "cell_type": "code",
   "execution_count": 15,
   "metadata": {},
   "outputs": [
    {
     "data": {
      "text/plain": [
       "['maldecir', 'jurar']"
      ]
     },
     "execution_count": 15,
     "metadata": {},
     "output_type": "execute_result"
    }
   ],
   "source": [
    "my_dict = {'swear' : ['maldecir', 'jurar'], 'dream' : ['dormir', 'sueño']}\n",
    "my_dict['swear'] ### a list"
   ]
  },
  {
   "cell_type": "code",
   "execution_count": 16,
   "metadata": {},
   "outputs": [
    {
     "data": {
      "text/plain": [
       "'maldecir'"
      ]
     },
     "execution_count": 16,
     "metadata": {},
     "output_type": "execute_result"
    }
   ],
   "source": [
    "my_dict['swear'][0] ### we use index in a list of values"
   ]
  },
  {
   "cell_type": "markdown",
   "metadata": {},
   "source": [
    "The ***update()*** method updates the dictionary with the elements from another dictionary object or from an iterable of key/value pairs."
   ]
  },
  {
   "cell_type": "code",
   "execution_count": 3,
   "metadata": {},
   "outputs": [
    {
     "name": "stdout",
     "output_type": "stream",
     "text": [
      "{'one': 10, 'two': 20, 'three': 30, 'four': 40, 'five': 50}\n"
     ]
    }
   ],
   "source": [
    "x = {'one': 10, 'two': 20, 'three': 10}\n",
    "y = {'three': 30, 'four': 40, 'five': 50}\n",
    "x.update(y)\n",
    "print(x)"
   ]
  },
  {
   "cell_type": "code",
   "execution_count": 19,
   "metadata": {},
   "outputs": [
    {
     "name": "stdout",
     "output_type": "stream",
     "text": [
      "{'one': 10, 'two': 20, 'three': 30, 'four': 40, 'five': 50, 'six': 60}\n"
     ]
    }
   ],
   "source": [
    "z = {'six': 60}\n",
    "x.update (z)\n",
    "print(x)"
   ]
  },
  {
   "cell_type": "markdown",
   "metadata": {},
   "source": [
    "The **update()** method adds element(s) to the dictionary if the key is not in the dictionary. \n",
    "\n",
    "If the key is in the dictionary, it updates the key with the new value. "
   ]
  },
  {
   "cell_type": "markdown",
   "metadata": {},
   "source": [
    "We may use update() method and pass tuple:"
   ]
  },
  {
   "cell_type": "code",
   "execution_count": 24,
   "metadata": {},
   "outputs": [
    {
     "name": "stdout",
     "output_type": "stream",
     "text": [
      "{'one': 10, 'two': 20, 'three': 30, 'four': 40, 'five': 50, 'six': 60, 'seven': 70, 'eight': 80}\n"
     ]
    }
   ],
   "source": [
    "x.update(seven = 70, eight = 80)\n",
    "print(x)"
   ]
  },
  {
   "cell_type": "markdown",
   "metadata": {},
   "source": [
    "### Loops\n",
    "\n",
    "In the case of dictionaries, iteration (by default) occurs by keys:"
   ]
  },
  {
   "cell_type": "code",
   "execution_count": 22,
   "metadata": {},
   "outputs": [
    {
     "name": "stdout",
     "output_type": "stream",
     "text": [
      "one\n",
      "two\n",
      "three\n",
      "four\n",
      "five\n",
      "six\n",
      "seven\n",
      "eight\n"
     ]
    }
   ],
   "source": [
    "for i in x:\n",
    "    print(i)"
   ]
  },
  {
   "cell_type": "markdown",
   "metadata": {},
   "source": [
    "But the keys can be used to extract the corresponding values."
   ]
  },
  {
   "cell_type": "code",
   "execution_count": 25,
   "metadata": {},
   "outputs": [
    {
     "name": "stdout",
     "output_type": "stream",
     "text": [
      "10\n",
      "20\n",
      "30\n",
      "40\n",
      "50\n",
      "60\n",
      "70\n",
      "80\n"
     ]
    }
   ],
   "source": [
    "for i in x:\n",
    "    print(x[i])"
   ]
  },
  {
   "cell_type": "markdown",
   "metadata": {},
   "source": [
    "You can also directly specify whether we are iterating over keys, over values, or over pairs of key-values:"
   ]
  },
  {
   "cell_type": "code",
   "execution_count": 26,
   "metadata": {},
   "outputs": [
    {
     "name": "stdout",
     "output_type": "stream",
     "text": [
      "{'one': 10, 'two': 20, 'three': 30, 'four': 40, 'five': 50, 'six': 60, 'seven': 70, 'eight': 80}\n",
      "10\n",
      "20\n",
      "30\n",
      "40\n",
      "50\n",
      "60\n",
      "70\n",
      "80\n"
     ]
    }
   ],
   "source": [
    "print(x)\n",
    "for v in x.values():\n",
    "    print(v)"
   ]
  },
  {
   "cell_type": "code",
   "execution_count": 28,
   "metadata": {},
   "outputs": [
    {
     "name": "stdout",
     "output_type": "stream",
     "text": [
      "{'one': 10, 'two': 20, 'three': 30, 'four': 40, 'five': 50, 'six': 60, 'seven': 70, 'eight': 80}\n",
      "one\n",
      "two\n",
      "three\n",
      "four\n",
      "five\n",
      "six\n",
      "seven\n",
      "eight\n"
     ]
    }
   ],
   "source": [
    "print(x)\n",
    "for k in x.keys():\n",
    "    print(k)"
   ]
  },
  {
   "cell_type": "code",
   "execution_count": 29,
   "metadata": {},
   "outputs": [
    {
     "name": "stdout",
     "output_type": "stream",
     "text": [
      "{'one': 10, 'two': 20, 'three': 30, 'four': 40, 'five': 50, 'six': 60, 'seven': 70, 'eight': 80}\n",
      "('one', 10)\n",
      "('two', 20)\n",
      "('three', 30)\n",
      "('four', 40)\n",
      "('five', 50)\n",
      "('six', 60)\n",
      "('seven', 70)\n",
      "('eight', 80)\n"
     ]
    }
   ],
   "source": [
    "print(x)\n",
    "for v in x.items():\n",
    "    print(v)"
   ]
  },
  {
   "cell_type": "markdown",
   "metadata": {},
   "source": [
    "### Task 1\n",
    "\n",
    "You will be given an array of objects representing data about developers who have signed up to attend the coding meetup that you are organising for the first time.\n",
    "\n",
    "Your task is to return the number of JavaScript developers coming from Europe.\n",
    "\n",
    "For example, given the following list:\n",
    "\n",
    "lst = [\n",
    "  { 'firstName': 'Noah', 'lastName': 'M.', 'country': 'Switzerland', 'continent': 'Europe', 'age': 19, 'language': 'JavaScript' },\n",
    "  \n",
    "  { 'firstName': 'Maia', 'lastName': 'S.', 'country': 'Tahiti', 'continent': 'Oceania', 'age': 28, 'language': 'JavaScript' },\n",
    "  \n",
    "  { 'firstName': 'Shufen', 'lastName': 'L.', 'country': 'Taiwan', 'continent': 'Asia', 'age': 35, 'language': 'HTML' },\n",
    "  \n",
    "  { 'firstName': 'Sumayah', 'lastName': 'M.', 'country': 'Tajikistan', 'continent': 'Asia', 'age': 30, 'language': 'CSS' }\n",
    "]\n"
   ]
  },
  {
   "cell_type": "code",
   "execution_count": 37,
   "metadata": {},
   "outputs": [
    {
     "name": "stdout",
     "output_type": "stream",
     "text": [
      "1\n"
     ]
    }
   ],
   "source": [
    "lst = [{ 'firstName': 'Noah', 'lastName': 'M.', 'country': 'Switzerland', 'continent': 'Europe', 'age': 19, 'language': 'JavaScript' },{ 'firstName': 'Maia', 'lastName': 'S.', 'country': 'Tahiti', 'continent': 'Oceania', 'age': 28, 'language': 'JavaScript' }]\n",
    "count=0\n",
    "for i in lst:\n",
    "    if i['language']== 'JavaScript' and i['continent']== 'Europe':\n",
    "        count+=1\n",
    "print(count)\n"
   ]
  },
  {
   "cell_type": "code",
   "execution_count": 1,
   "metadata": {},
   "outputs": [
    {
     "name": "stdout",
     "output_type": "stream",
     "text": [
      "dict_values(['Noah', 'M.', 'Switzerland', 'Europe', 19, 'JavaScript'])\n",
      "dict_values(['Maia', 'S.', 'Tahiti', 'Oceania', 28, 'JavaScript'])\n",
      "dict_values(['Shufen', 'L.', 'Taiwan', 'Asia', 35, 'HTML'])\n",
      "dict_values(['Sumayah', 'M.', 'Tajikistan', 'Asia', 30, 'CSS'])\n",
      "1\n"
     ]
    }
   ],
   "source": [
    "lst = [ \n",
    "{ 'firstName': 'Noah', 'lastName': 'M.', 'country': 'Switzerland', 'continent': 'Europe', 'age': 19, 'language': 'JavaScript' },\n",
    "\n",
    "{ 'firstName': 'Maia', 'lastName': 'S.', 'country': 'Tahiti', 'continent': 'Oceania', 'age': 28, 'language': 'JavaScript' },\n",
    "\n",
    "{ 'firstName': 'Shufen', 'lastName': 'L.', 'country': 'Taiwan', 'continent': 'Asia', 'age': 35, 'language': 'HTML' },\n",
    "\n",
    "{ 'firstName': 'Sumayah', 'lastName': 'M.', 'country': 'Tajikistan', 'continent': 'Asia', 'age': 30, 'language': 'CSS' } \n",
    "]\n",
    "count=0\n",
    "for i in lst:\n",
    "    d = i.values()\n",
    "    if 'Europe' in d and 'JavaScript' in d:\n",
    "        count+=1\n",
    "print(count)"
   ]
  },
  {
   "cell_type": "code",
   "execution_count": 3,
   "metadata": {},
   "outputs": [
    {
     "name": "stdout",
     "output_type": "stream",
     "text": [
      "The number of developers coming from Europe with Javascript is  1\n"
     ]
    }
   ],
   "source": [
    "a = [ \n",
    "{ 'firstName': 'Noah', 'lastName': 'M.', 'country': 'Switzerland', 'continent': 'Europe', 'age': 19, 'language': 'JavaScript' },\n",
    "\n",
    "{ 'firstName': 'Maia', 'lastName': 'S.', 'country': 'Tahiti', 'continent': 'Oceania', 'age': 28, 'language': 'JavaScript' },\n",
    "\n",
    "{ 'firstName': 'Shufen', 'lastName': 'L.', 'country': 'Taiwan', 'continent': 'Asia', 'age': 35, 'language': 'HTML' },\n",
    "\n",
    "{ 'firstName': 'Sumayah', 'lastName': 'M.', 'country': 'Tajikistan', 'continent': 'Asia', 'age': 30, 'language': 'CSS' } \n",
    "]\n",
    "n = 0\n",
    "for i in a:\n",
    "    con = i.get('continent')\n",
    "    con1 = i.get('language')\n",
    "    if con =='Europe' and con1 == 'JavaScript':\n",
    "        n+=1\n",
    "print(\"The number of developers coming from Europe with Javascript is \", n)"
   ]
  },
  {
   "cell_type": "markdown",
   "metadata": {},
   "source": [
    "### Task 2\n",
    "\n",
    "You will be given an array of objects representing data about developers who have signed up to attend the next coding meetup that you are organising.\n",
    "\n",
    "Your task is to return:\n",
    "\n",
    "    **true** if at least one Ruby developer has signed up; or\n",
    "    **false** if there will be no Ruby developers.\n",
    "\n",
    "For example, given the following input array:\n",
    "\n",
    "list = [\n",
    "    \n",
    "    { 'firstName': 'Sofia', 'lastName': 'I.', 'country': 'Argentina', 'continent': 'Americas', 'age': 35, 'language': 'Java' },\n",
    "    \n",
    "    { 'firstName': 'Lukas', 'lastName': 'X.', 'country': 'Croatia', 'continent': 'Europe', 'age': 35, 'language': 'Python' },\n",
    "    \n",
    "    { 'firstName': 'Madison', 'lastName': 'U.', 'country': 'United States', 'continent': 'Americas', 'age': 32, 'language': 'Ruby' } \n",
    "    ]\n"
   ]
  },
  {
   "cell_type": "code",
   "execution_count": 8,
   "metadata": {},
   "outputs": [
    {
     "name": "stdout",
     "output_type": "stream",
     "text": [
      "True\n"
     ]
    }
   ],
   "source": [
    "list = [\n",
    "\n",
    "{ 'firstName': 'Sofia', 'lastName': 'I.', 'country': 'Argentina', 'continent': 'Americas', 'age': 35, 'language': 'Java' },\n",
    "\n",
    "{ 'firstName': 'Lukas', 'lastName': 'X.', 'country': 'Croatia', 'continent': 'Europe', 'age': 35, 'language': 'Python' },\n",
    "\n",
    "{ 'firstName': 'Madison', 'lastName': 'U.', 'country': 'United States', 'continent': 'Americas', 'age': 32, 'language': 'Ruby' } \n",
    "]\n",
    "count=0\n",
    "for i in list:\n",
    "    if i['language']== 'Ruby': ### if 'Ruby' in i['language']:\n",
    "        count+=1\n",
    "if count>0:\n",
    "    print('True')\n",
    "else:\n",
    "    print(\"False\")"
   ]
  },
  {
   "cell_type": "code",
   "execution_count": 4,
   "metadata": {},
   "outputs": [
    {
     "name": "stdout",
     "output_type": "stream",
     "text": [
      "True\n"
     ]
    }
   ],
   "source": [
    "list = [ { 'firstName': 'Sofia', 'lastName': 'I.', 'country': 'Argentina', 'continent': 'Americas', 'age': 35, 'language': 'Java' }, { 'firstName': 'Lukas', 'lastName': 'X.', 'country': 'Croatia', 'continent': 'Europe', 'age': 35, 'language': 'Python' }, { 'firstName': 'Madison', 'lastName': 'U.', 'country': 'United States', 'continent': 'Americas', 'age': 32, 'language': 'Ruby' } ]\n",
    "b = 0\n",
    "for i in list:\n",
    "    lang = i.get('language')\n",
    "    if lang == 'Ruby':\n",
    "        b+=1\n",
    "if b>0:\n",
    "    print('True')\n",
    "else:\n",
    "    print(\"False\")"
   ]
  },
  {
   "cell_type": "code",
   "execution_count": null,
   "metadata": {},
   "outputs": [],
   "source": []
  },
  {
   "cell_type": "markdown",
   "metadata": {},
   "source": [
    "### Task 3\n",
    "Your task is to return an object which includes the count of each coding language represented at the meetup.\n",
    "\n",
    "For example, given the following input array:\n",
    "\n",
    "lst = [\n",
    "    \n",
    "    { 'firstName': 'Noah', 'lastName': 'M.', 'country': 'Switzerland', 'continent': 'Europe', 'age': 19, 'language': 'C' },\n",
    "    \n",
    "    { 'firstName': 'Anna', 'lastName': 'R.', 'country': 'Liechtenstein', 'continent': 'Europe', 'age': 52, 'language': 'JavaScript' },\n",
    "    \n",
    "    { 'firstName': 'Ramon', 'lastName': 'R.', 'country': 'Paraguay', 'continent': 'Americas', 'age': 29, 'language': 'Ruby' },\n",
    "    \n",
    "    { 'firstName': 'George', 'lastName': 'B.', 'country': 'England', 'continent': 'Europe', 'age': 81, 'language': 'C' },\n",
    "    ]\n",
    "\n",
    "your should return the following object:\n",
    "\n",
    "{ 'C': 2, 'JavaScript': 1, 'Ruby': 1 }\n"
   ]
  },
  {
   "cell_type": "code",
   "execution_count": 9,
   "metadata": {},
   "outputs": [
    {
     "name": "stdout",
     "output_type": "stream",
     "text": [
      "C\n",
      "JavaScript\n",
      "Ruby\n",
      "C\n",
      "{'C': 2, 'JavaScript': 1, 'Ruby': 1}\n"
     ]
    }
   ],
   "source": [
    "lst = [\n",
    "\n",
    "{ 'firstName': 'Noah', 'lastName': 'M.', 'country': 'Switzerland', 'continent': 'Europe', 'age': 19, 'language': 'C' },\n",
    "\n",
    "{ 'firstName': 'Anna', 'lastName': 'R.', 'country': 'Liechtenstein', 'continent': 'Europe', 'age': 52, 'language': 'JavaScript' },\n",
    "\n",
    "{ 'firstName': 'Ramon', 'lastName': 'R.', 'country': 'Paraguay', 'continent': 'Americas', 'age': 29, 'language': 'Ruby' },\n",
    "\n",
    "{ 'firstName': 'George', 'lastName': 'B.', 'country': 'England', 'continent': 'Europe', 'age': 81, 'language': 'C' },\n",
    "]\n",
    "d = {}\n",
    "for i in lst:\n",
    "    lang = i.get('language')\n",
    "    print(lang)\n",
    "    if lang not in d:\n",
    "        d[lang]=1\n",
    "    else:\n",
    "        d[lang]=d[lang]+1\n",
    "print(d)"
   ]
  },
  {
   "cell_type": "code",
   "execution_count": 10,
   "metadata": {},
   "outputs": [
    {
     "name": "stdout",
     "output_type": "stream",
     "text": [
      "['C', 'JavaScript', 'Ruby', 'C']\n",
      "{'C': 2, 'JavaScript': 1, 'Ruby': 1}\n"
     ]
    }
   ],
   "source": [
    "lst = [\n",
    "\n",
    "{ 'firstName': 'Noah', 'lastName': 'M.', 'country': 'Switzerland', 'continent': 'Europe', 'age': 19, 'language': 'C' },\n",
    "\n",
    "{ 'firstName': 'Anna', 'lastName': 'R.', 'country': 'Liechtenstein', 'continent': 'Europe', 'age': 52, 'language': 'JavaScript' },\n",
    "\n",
    "{ 'firstName': 'Ramon', 'lastName': 'R.', 'country': 'Paraguay', 'continent': 'Americas', 'age': 29, 'language': 'Ruby' },\n",
    "\n",
    "{ 'firstName': 'George', 'lastName': 'B.', 'country': 'England', 'continent': 'Europe', 'age': 81, 'language': 'C' },\n",
    "]\n",
    "d = []\n",
    "for i in range(len(lst)):\n",
    "    d.append(lst[i].get('language'))\n",
    "print(d)\n",
    "count = 0\n",
    "language = dict()\n",
    "for i in d:\n",
    "    if i not in language:\n",
    "        language[i] = 1\n",
    "    else:\n",
    "        language[i] = language[i] + 1\n",
    "print(language)"
   ]
  },
  {
   "cell_type": "code",
   "execution_count": null,
   "metadata": {},
   "outputs": [],
   "source": []
  },
  {
   "cell_type": "markdown",
   "metadata": {},
   "source": [
    "### Task 4\n",
    "\n",
    "list1 = [\n",
    " \n",
    " { 'firstName': 'Daniel', 'lastName': 'J.', 'country': 'Aruba', 'continent': 'Americas', 'age': 42, 'language': 'JavaScript' },\n",
    "  \n",
    "  { 'firstName': 'Kseniya', 'lastName': 'T.', 'country': 'Belarus', 'continent': 'Europe', 'age': 22, 'language': 'JavaScript' },\n",
    "  \n",
    "  { 'firstName': 'Hanna', 'lastName': 'L.', 'country': 'Hungary', 'continent': 'Europe', 'age': 65, 'language': 'JavaScript' },\n",
    "]\n",
    "\n",
    "Your task is to return either:\n",
    "\n",
    "    **true** if all developers in the list code in the same language; or\n",
    "    **false** otherwise.\n"
   ]
  },
  {
   "cell_type": "code",
   "execution_count": 11,
   "metadata": {},
   "outputs": [
    {
     "name": "stdout",
     "output_type": "stream",
     "text": [
      "{'JavaScript': 3}\n",
      "True\n"
     ]
    }
   ],
   "source": [
    "pompom = [\n",
    "\n",
    "{ 'firstName': 'Daniel', 'lastName': 'J.', 'country': 'Aruba', 'continent': 'Americas', 'age': 42, 'language': 'JavaScript' },\n",
    "\n",
    "{ 'firstName': 'Kseniya', 'lastName': 'T.', 'country': 'Belarus', 'continent': 'Europe', 'age': 22, 'language': 'JavaScript' },\n",
    "\n",
    "{ 'firstName': 'Hanna', 'lastName': 'L.', 'country': 'Hungary', 'continent': 'Europe', 'age': 65, 'language': 'JavaScript' }, ]\n",
    "\n",
    "p = {}\n",
    "for i in pompom:\n",
    "    c = i.get('language')\n",
    "    if c not in p:\n",
    "        p[c]=1\n",
    "    else:\n",
    "        p[c]=p[c]+1\n",
    "print(p)\n",
    "if len(p)>1:\n",
    "    print(False)\n",
    "else:\n",
    "    print(True)"
   ]
  },
  {
   "cell_type": "code",
   "execution_count": 15,
   "metadata": {},
   "outputs": [
    {
     "name": "stdout",
     "output_type": "stream",
     "text": [
      "['JavaScript', 'JavaScript', 'C']\n",
      "{'JavaScript', 'C'}\n",
      "False\n"
     ]
    }
   ],
   "source": [
    "lst = [\n",
    "\n",
    "{ 'firstName': 'Daniel', 'lastName': 'J.', 'country': 'Aruba', 'continent': 'Americas', 'age': 42, 'language': 'JavaScript' },\n",
    "\n",
    "{ 'firstName': 'Kseniya', 'lastName': 'T.', 'country': 'Belarus', 'continent': 'Europe', 'age': 22, 'language': 'JavaScript' },\n",
    "\n",
    "{ 'firstName': 'Hanna', 'lastName': 'L.', 'country': 'Hungary', 'continent': 'Europe', 'age': 65, 'language': 'C' }, ]\n",
    "d = []\n",
    "for i in range(len(lst)):\n",
    "    d.append(lst[i].get('language'))\n",
    "print(d)\n",
    "final = set(d)\n",
    "print(final)\n",
    "if len(final)==1:\n",
    "    print('True')\n",
    "else:\n",
    "    print('False')\n",
    "    "
   ]
  }
 ],
 "metadata": {
  "kernelspec": {
   "display_name": "Python 3",
   "language": "python",
   "name": "python3"
  },
  "language_info": {
   "codemirror_mode": {
    "name": "ipython",
    "version": 3
   },
   "file_extension": ".py",
   "mimetype": "text/x-python",
   "name": "python",
   "nbconvert_exporter": "python",
   "pygments_lexer": "ipython3",
   "version": "3.8.3"
  }
 },
 "nbformat": 4,
 "nbformat_minor": 4
}
