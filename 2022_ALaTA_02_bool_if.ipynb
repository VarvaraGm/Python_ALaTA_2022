{
 "cells": [
  {
   "cell_type": "markdown",
   "metadata": {},
   "source": [
    "### Variables\n",
    "\n",
    "A **variable** is a name that refers to a value.\n",
    "\n",
    "An **assignment statement** creates new variables and gives them values:\n",
    "\n",
    "x = 2\n",
    "\n",
    "message = 'And now for something completely different'\n",
    "\n",
    "This example makes two assignments. The first assigns the integer 2 to x; the second assigns a string to a new variable\n",
    "named \"message\".\n",
    "\n",
    "To display the value of a variable, you can use a print statement:\n",
    ">print(x)\n",
    "\n",
    ">2\n",
    "\n",
    ">print(message)\n",
    "\n",
    ">'And now for something completely different'\n",
    "\n",
    "The type of a variable is the type of the value it refers to.\n",
    "\n",
    ">type(message)\n",
    "\n",
    "><class 'str'>\n",
    "\n",
    ">type(x)\n",
    "\n",
    "><class 'int'>\n",
    "\n",
    "Variable names can be arbitrarily long. They can contain both letters and numbers,\n",
    "but **they cannot start with a number**. It is legal to use uppercase letters, but it is\n",
    "a good idea to begin variable names with a lowercase letter.\n",
    "The underscore character ( _ ) can appear in a name. It is often used in names with\n",
    "multiple words, such as my_name or airspeed_of_unladen_swallow.\n",
    "\n",
    "*If you give a variable an illegal name, you get a syntax error:*\n",
    "\n",
    ">76trombones = 'big parade'\n",
    "\n",
    ">SyntaxError: invalid syntax\n",
    "\n",
    "Python reserves **35 keywords which cannot be used as variable\n",
    "names:**\n",
    "\n",
    "> and  del  from  None  True\n",
    "\n",
    ">as elif global nonlocal try\n",
    "\n",
    ">assert else if not while\n",
    "\n",
    ">break except import or with\n",
    "\n",
    ">class False in pass yield\n",
    "\n",
    ">continue finally is raise async\n",
    "\n",
    ">def for lambda return await\n",
    "\n"
   ]
  },
  {
   "cell_type": "code",
   "execution_count": 9,
   "metadata": {},
   "outputs": [
    {
     "name": "stdout",
     "output_type": "stream",
     "text": [
      "3 3\n"
     ]
    }
   ],
   "source": [
    "a = 2\n",
    "b = 3\n",
    "a = b ## a=3\n",
    "b = a ## b=3\n",
    "print(a,b)"
   ]
  },
  {
   "cell_type": "code",
   "execution_count": 9,
   "metadata": {},
   "outputs": [
    {
     "name": "stdout",
     "output_type": "stream",
     "text": [
      "2\n",
      "2\n"
     ]
    }
   ],
   "source": [
    "a=2\n",
    "b=3\n",
    "b=a\n",
    "print(b)\n",
    "print(a)"
   ]
  },
  {
   "cell_type": "markdown",
   "metadata": {},
   "source": [
    "### Changing value\n",
    "\n",
    ">gamma = 1\n",
    "\n",
    ">gamma = 2\n",
    "\n",
    "Suppose we have these two lines of Python.\n",
    "\n",
    "Python lets you set a name for a value and then change it.\n",
    "\n",
    "\n"
   ]
  },
  {
   "cell_type": "code",
   "execution_count": 10,
   "metadata": {},
   "outputs": [
    {
     "name": "stdout",
     "output_type": "stream",
     "text": [
      "3 2\n"
     ]
    }
   ],
   "source": [
    "a = 2\n",
    "b = 3\n",
    "temp = b ## 3 \n",
    "b = a ##2 \n",
    "a = temp ## 3 \n",
    "print(a,b)\n"
   ]
  },
  {
   "cell_type": "code",
   "execution_count": 10,
   "metadata": {},
   "outputs": [
    {
     "name": "stdout",
     "output_type": "stream",
     "text": [
      "Dasha Masha\n"
     ]
    }
   ],
   "source": [
    "student1 = 'Masha'\n",
    "student2 = 'Dasha'\n",
    "temp = \"Masha\"\n",
    "student1 = student2\n",
    "student2 =temp\n",
    "print(student1,student2)"
   ]
  },
  {
   "cell_type": "code",
   "execution_count": 4,
   "metadata": {},
   "outputs": [
    {
     "name": "stdout",
     "output_type": "stream",
     "text": [
      "John Black\n"
     ]
    }
   ],
   "source": [
    "name = 'John'\n",
    "surname = 'Black'\n",
    "print (name, surname)"
   ]
  },
  {
   "cell_type": "code",
   "execution_count": 5,
   "metadata": {},
   "outputs": [
    {
     "name": "stdout",
     "output_type": "stream",
     "text": [
      "Black John\n"
     ]
    }
   ],
   "source": [
    "name = 'John'\n",
    "surname = 'Black'\n",
    "tempor = name #John\n",
    "name = surname # Black\n",
    "surname = tempor\n",
    "print (name, surname)\n"
   ]
  },
  {
   "cell_type": "markdown",
   "metadata": {},
   "source": [
    "# Task\n",
    "3 people participated in a song contest: Jack,Bill and Max. The Jury made a mistake when assigning the places:\n",
    "\n",
    "place_1 = 'Jack'\n",
    "place_2 = 'Bill'\n",
    "place_3 = 'Max'\n",
    "\n",
    " It should go like this:\n",
    "place_1 = 'Bill'\n",
    "place_2 = 'Max'\n",
    "place_3 = 'Jack'\n",
    "\n",
    "Write a code which will change the order.\n",
    "Your output:\n",
    "\n",
    "print(place_1,place_2,place_3)\n",
    "\n",
    "Bill,Max,Jack"
   ]
  },
  {
   "cell_type": "code",
   "execution_count": 11,
   "metadata": {},
   "outputs": [
    {
     "name": "stdout",
     "output_type": "stream",
     "text": [
      "Bill Max Jack\n"
     ]
    }
   ],
   "source": [
    "place_1 = 'Jack'\n",
    "place_2 = 'Bill'\n",
    "place_3 = 'Max'\n",
    "temp = place_2\n",
    "place_2=place_3\n",
    "place_3 = place_1\n",
    "place_1 = temp\n",
    "print(place_1,place_2,place_3)\n"
   ]
  },
  {
   "cell_type": "code",
   "execution_count": null,
   "metadata": {},
   "outputs": [],
   "source": []
  },
  {
   "cell_type": "markdown",
   "metadata": {},
   "source": [
    "### Syntactic sugar\n",
    "\n",
    ">x += 10  (x = x + 10)\n",
    "\n",
    ">x -= 10                     (x = x - 10)\n",
    "\n",
    ">x *= 10                     (x = x * 10)\n",
    "\n",
    ">x /= 10      (x = x / 10)\n",
    "\n",
    ">x * *= 10                   (x = x * * 10)\n",
    "\n",
    ">x %= 10                    (x = x % 10)\n",
    "\n"
   ]
  },
  {
   "cell_type": "code",
   "execution_count": 1,
   "metadata": {},
   "outputs": [
    {
     "data": {
      "text/plain": [
       "15"
      ]
     },
     "execution_count": 1,
     "metadata": {},
     "output_type": "execute_result"
    }
   ],
   "source": [
    "x = 3\n",
    "x*=5 ## x = x*5\n",
    "print(x)"
   ]
  },
  {
   "cell_type": "code",
   "execution_count": 2,
   "metadata": {},
   "outputs": [
    {
     "name": "stdout",
     "output_type": "stream",
     "text": [
      "4\n"
     ]
    }
   ],
   "source": [
    "x=2\n",
    "x**=2\n",
    "print(x)"
   ]
  },
  {
   "cell_type": "markdown",
   "metadata": {},
   "source": [
    "### Deleting a name\n",
    "\n",
    "To delete the attachment we use the Python command “del”.\n",
    "\n",
    "x = 3\n",
    "\n",
    "del x\n"
   ]
  },
  {
   "cell_type": "code",
   "execution_count": 3,
   "metadata": {},
   "outputs": [
    {
     "ename": "NameError",
     "evalue": "name 'x' is not defined",
     "output_type": "error",
     "traceback": [
      "\u001b[1;31m---------------------------------------------------------------------------\u001b[0m",
      "\u001b[1;31mNameError\u001b[0m                                 Traceback (most recent call last)",
      "\u001b[1;32m<ipython-input-3-72c84b21ae87>\u001b[0m in \u001b[0;36m<module>\u001b[1;34m\u001b[0m\n\u001b[0;32m      1\u001b[0m \u001b[0mx\u001b[0m \u001b[1;33m=\u001b[0m \u001b[1;36m3\u001b[0m\u001b[1;33m\u001b[0m\u001b[1;33m\u001b[0m\u001b[0m\n\u001b[0;32m      2\u001b[0m \u001b[1;32mdel\u001b[0m \u001b[0mx\u001b[0m\u001b[1;33m\u001b[0m\u001b[1;33m\u001b[0m\u001b[0m\n\u001b[1;32m----> 3\u001b[1;33m \u001b[0mprint\u001b[0m \u001b[1;33m(\u001b[0m\u001b[0mx\u001b[0m\u001b[1;33m)\u001b[0m\u001b[1;33m\u001b[0m\u001b[1;33m\u001b[0m\u001b[0m\n\u001b[0m",
      "\u001b[1;31mNameError\u001b[0m: name 'x' is not defined"
     ]
    }
   ],
   "source": [
    "x = 3\n",
    "del x\n",
    "print (x)"
   ]
  },
  {
   "cell_type": "markdown",
   "metadata": {},
   "source": [
    "### Boolean Expressions\n",
    "\n",
    "\n",
    "**True** and **False** are (the only) two values of a special Python type called a “Boolean” used for\n",
    "recording whether something is true or not.\n",
    "\n",
    "You can turn something into a boolean variable using the **bool ()** function.\n",
    "\n",
    "If you convert numbers then - 0 will turn into False, everything else - True."
   ]
  },
  {
   "cell_type": "code",
   "execution_count": 1,
   "metadata": {},
   "outputs": [
    {
     "name": "stdout",
     "output_type": "stream",
     "text": [
      "<class 'bool'> <class 'bool'>\n"
     ]
    }
   ],
   "source": [
    "print(type(True), type(False))"
   ]
  },
  {
   "cell_type": "code",
   "execution_count": 2,
   "metadata": {},
   "outputs": [
    {
     "name": "stdout",
     "output_type": "stream",
     "text": [
      "False\n",
      "True\n",
      "True\n"
     ]
    }
   ],
   "source": [
    "print(bool(0))\n",
    "print(bool(23))\n",
    "print(bool(-10))"
   ]
  },
  {
   "cell_type": "markdown",
   "metadata": {},
   "source": [
    "An empty string is converted to False, all other strings to True. \n",
    "\n",
    "The boolean variable can be converted to **int**  - zero and one."
   ]
  },
  {
   "cell_type": "code",
   "execution_count": 4,
   "metadata": {},
   "outputs": [
    {
     "name": "stdout",
     "output_type": "stream",
     "text": [
      "False\n",
      "True\n"
     ]
    }
   ],
   "source": [
    "print(bool())\n",
    "print(bool('k'))"
   ]
  },
  {
   "cell_type": "code",
   "execution_count": 3,
   "metadata": {},
   "outputs": [
    {
     "name": "stdout",
     "output_type": "stream",
     "text": [
      "1\n",
      "0\n"
     ]
    }
   ],
   "source": [
    "print(int(True))\n",
    "print(int(False))"
   ]
  },
  {
   "cell_type": "markdown",
   "metadata": {},
   "source": [
    "### Comparison Operators\n",
    "\n",
    "Boolean expressions ask a question and produce a **Yes** or **No** result which we use to control program flow\n",
    "\n",
    "Boolean expressions using comparison operators evaluate to True / False or Yes / No\n",
    "\n",
    "Comparison operators look at variables but do not change the variables\n",
    "\n",
    "\n",
    "    == (Equal to)\n",
    "    != (Not equal)\n",
    "    > (Greater than)\n",
    "    < (Less than)\n",
    "    >= (Greater than or equal to)\n",
    "    <= (Less than or equal to)\n",
    "\n"
   ]
  },
  {
   "cell_type": "code",
   "execution_count": 12,
   "metadata": {},
   "outputs": [],
   "source": [
    "x=2 \n",
    "x=x+4"
   ]
  },
  {
   "cell_type": "code",
   "execution_count": 1,
   "metadata": {},
   "outputs": [
    {
     "name": "stdout",
     "output_type": "stream",
     "text": [
      "True\n",
      "True\n",
      "False\n",
      "<class 'bool'>\n",
      "True\n"
     ]
    }
   ],
   "source": [
    "print(1 == 1)\n",
    "print(1 != '1') \n",
    "c = 1 > 3\n",
    "print(c)\n",
    "print(type(c))\n",
    "x = 5\n",
    "print(1 < x <= 5) # 1<x and x<=5 "
   ]
  },
  {
   "cell_type": "markdown",
   "metadata": {},
   "source": [
    "### Logical operators\n",
    "\n",
    "      AND - expression is true only when both sides are true, otherwise it is false\n",
    "      OR (or) - expression is false only when both parts are false, otherwise it is true\n",
    "      negation (not) - This takes only one input and “flips” it. True becomes False and vice versa.\n",
    "\n"
   ]
  },
  {
   "cell_type": "code",
   "execution_count": 7,
   "metadata": {},
   "outputs": [
    {
     "name": "stdout",
     "output_type": "stream",
     "text": [
      "False\n",
      "True\n",
      "False\n",
      "True\n"
     ]
    }
   ],
   "source": [
    "print((1 == 1) and ('1' == 1))\n",
    "print(('1' == 1) or (1 == 1))\n",
    "print(not(1 == 1))\n",
    "print(((1 == 1) or ('1' == 1)) and (2 == 2))"
   ]
  },
  {
   "cell_type": "markdown",
   "metadata": {},
   "source": [
    "# Task\n",
    "\n",
    "Prompt the user for an integer.\n",
    "\n",
    "Create an expression checking whether the user's input is larger than 0 and smaller than 100.\n",
    "\n",
    "Output should return \"True\" or \"False\""
   ]
  },
  {
   "cell_type": "code",
   "execution_count": 14,
   "metadata": {},
   "outputs": [
    {
     "name": "stdout",
     "output_type": "stream",
     "text": [
      "130\n",
      "False\n"
     ]
    }
   ],
   "source": [
    "user = int(input())\n",
    "print(0<user<100)"
   ]
  },
  {
   "cell_type": "code",
   "execution_count": 16,
   "metadata": {},
   "outputs": [
    {
     "name": "stdout",
     "output_type": "stream",
     "text": [
      "Put your number200\n",
      "False\n"
     ]
    }
   ],
   "source": [
    "number = int(input(\"Put your number\"))\n",
    "print ((number > 0) and (number < 100))\n"
   ]
  },
  {
   "cell_type": "code",
   "execution_count": 17,
   "metadata": {},
   "outputs": [
    {
     "name": "stdout",
     "output_type": "stream",
     "text": [
      "200\n",
      "False\n"
     ]
    }
   ],
   "source": [
    "x= int (input ( ))\n",
    "print (x>0 and x <100)\n"
   ]
  },
  {
   "cell_type": "markdown",
   "metadata": {},
   "source": [
    "# Task\n",
    "\n",
    "Prompt the user for three integers.\n",
    "\n",
    "Create an expression comparing them.\n",
    "\n",
    "If two of them are equal - \"True\"\n",
    "\n",
    "If they are all equal - \"True\"\n"
   ]
  },
  {
   "cell_type": "code",
   "execution_count": 19,
   "metadata": {},
   "outputs": [
    {
     "name": "stdout",
     "output_type": "stream",
     "text": [
      "1\n",
      "2\n",
      "1\n",
      "True\n"
     ]
    }
   ],
   "source": [
    "n1=int(input())\n",
    "n2 =int(input())\n",
    "n3=int(input())\n",
    "print (n1==n2 or n2==n3 or n1==n3 or n1==n2==n3)"
   ]
  },
  {
   "cell_type": "code",
   "execution_count": 21,
   "metadata": {},
   "outputs": [
    {
     "name": "stdout",
     "output_type": "stream",
     "text": [
      "1\n",
      "1\n",
      "2\n",
      "True\n"
     ]
    }
   ],
   "source": [
    "n1=int(input())\n",
    "n2 =int(input())\n",
    "n3=int(input())\n",
    "print (n1==n2 or n2==n3 or n1==n3)"
   ]
  },
  {
   "cell_type": "code",
   "execution_count": 23,
   "metadata": {},
   "outputs": [
    {
     "name": "stdout",
     "output_type": "stream",
     "text": [
      "1\n",
      "2\n",
      "1\n",
      "False\n"
     ]
    }
   ],
   "source": [
    "n1=int(input())\n",
    "n2 =int(input())\n",
    "n3=int(input())\n",
    "print(n1==n2 and n1==n3 or n1==n2==n3)"
   ]
  },
  {
   "cell_type": "code",
   "execution_count": null,
   "metadata": {},
   "outputs": [],
   "source": [
    "n1 = int(input())\n",
    "n2 = int(input())\n",
    "n3 = int(input())\n",
    "print ((n1==n2) or (n2==n3) or (n3==n1)) "
   ]
  },
  {
   "cell_type": "code",
   "execution_count": 28,
   "metadata": {},
   "outputs": [
    {
     "name": "stdout",
     "output_type": "stream",
     "text": [
      "12\n",
      "23\n",
      "5\n",
      "True\n"
     ]
    }
   ],
   "source": [
    "x = int (input ())\n",
    "y = int (input ())\n",
    "z = int (input ())\n",
    "print ((x==y)<z)\n"
   ]
  },
  {
   "cell_type": "markdown",
   "metadata": {},
   "source": [
    "### Task \n",
    "\n",
    "Vasya went to Italy to study. The only store in the city is open **from 6 am to 8 am and from 4 pm to 5 pm**. Vasya has not been able to get to the store for several days and is suffering from hunger. He can come to the store at X o'clock. If the store is open at X hours, then output should be ***True***, and if it is closed, output -  ***False***.\n",
    "\n",
    "Input contains an integer X ( from 0 to 23 )\n",
    "\n",
    "Output format: True or False\n",
    "\n",
    "Example:\n",
    "\n",
    "Input data: 16\n",
    "\n",
    "Output of the program: True"
   ]
  },
  {
   "cell_type": "code",
   "execution_count": 33,
   "metadata": {},
   "outputs": [
    {
     "name": "stdout",
     "output_type": "stream",
     "text": [
      "What time?: 16\n",
      "True\n"
     ]
    }
   ],
   "source": [
    "x = int (input('What time?: '))\n",
    "print(6<=x<=8 or 16<=x<17)"
   ]
  },
  {
   "cell_type": "code",
   "execution_count": 11,
   "metadata": {},
   "outputs": [
    {
     "name": "stdout",
     "output_type": "stream",
     "text": [
      "8\n",
      "True\n"
     ]
    }
   ],
   "source": [
    "time =int(input())\n",
    "can_visit = 6<=time<=8 ##True if time =8\n",
    "can_visit2 = 16<=time<=17 # False\n",
    "print(can_visit or can_visit2)"
   ]
  },
  {
   "cell_type": "markdown",
   "metadata": {},
   "source": [
    "### Conditional execution\n",
    "\n",
    "In order to write useful programs, we almost always need the ability to check conditions\n",
    "and change the behavior of the program accordingly. Conditional statements\n",
    "give us this ability. The simplest form is the if statement:\n",
    "\n",
    ">if x > 0 :\n",
    "\n",
    ">>print('x is positive')\n",
    "\n",
    "The boolean expression after the if statement is called ***the condition***. We end the\n",
    "if statement with a colon character (:) and the line(s) after the if statement are\n",
    "indented.  \n",
    "If the logical condition is true, then the indented statement gets executed. If the\n",
    "logical condition is false, the indented statement is skipped."
   ]
  },
  {
   "cell_type": "code",
   "execution_count": 37,
   "metadata": {},
   "outputs": [
    {
     "name": "stdout",
     "output_type": "stream",
     "text": [
      "1\n",
      "1\n"
     ]
    }
   ],
   "source": [
    "x=int(input())\n",
    "if x>0:\n",
    "    print(x)"
   ]
  },
  {
   "cell_type": "code",
   "execution_count": 12,
   "metadata": {},
   "outputs": [
    {
     "name": "stdout",
     "output_type": "stream",
     "text": [
      "Greater than 4\n",
      "Greater than or Equals 5\n",
      "Not equal 6\n"
     ]
    }
   ],
   "source": [
    "x = 50\n",
    "if x == 5 : \n",
    "    print('Equals 5')\n",
    "if x > 4 : \n",
    "    print('Greater than 4')\n",
    "if  x >= 5 :\n",
    "    print('Greater than or Equals 5')\n",
    "if x < 6 : \n",
    "    print('Less than 6') \n",
    "if x <= 5 :\n",
    "    print('Less than or Equals 5')\n",
    "if x != 6 :\n",
    "    print('Not equal 6')"
   ]
  },
  {
   "cell_type": "markdown",
   "metadata": {},
   "source": [
    "### Alternative execution  \n",
    "A second form of the if statement is alternative execution, in which there are two  \n",
    "possibilities and the condition determines which one gets executed. The syntax\n",
    "looks like this:  \n",
    ">if x%2 == 0 :\n",
    ">>print('x is even')\n",
    "\n",
    "\n",
    ">else :                  \n",
    ">>print('x is odd')"
   ]
  },
  {
   "cell_type": "code",
   "execution_count": 38,
   "metadata": {},
   "outputs": [
    {
     "name": "stdout",
     "output_type": "stream",
     "text": [
      "3\n",
      "x is odd\n"
     ]
    }
   ],
   "source": [
    "x = int(input())\n",
    "if x%2 == 0 :\n",
    "    print('x is even')\n",
    "else :                  \n",
    "    print('x is odd')"
   ]
  },
  {
   "cell_type": "markdown",
   "metadata": {},
   "source": [
    "### Chained conditionals  \n",
    "\n",
    "Sometimes there are more than two possibilities and we need more than two\n",
    "branches. One way to express a computation like that is a chained conditional:\n",
    "\n",
    "\n",
    ">if x < y:\n",
    ">>print('x is less than y')\n",
    "\n",
    ">elif x > y:\n",
    ">>print('x is greater than y')\n",
    "\n",
    ">else:\n",
    ">>print('x and y are equal')\n",
    "\n",
    "elif is an abbreviation of “else if.” Again, exactly one branch will be executed.\n",
    "There is no limit on the number of elif statements. If there is an else clause, it\n",
    "has to be at the end, but there doesn’t have to be one.  \n",
    "Each condition is checked in order. If the first is false, the next is checked, and so\n",
    "on. If one of them is true, the corresponding branch executes, and the statement\n",
    "ends. Even if more than one condition is true, only the first true branch executes."
   ]
  },
  {
   "cell_type": "code",
   "execution_count": 40,
   "metadata": {},
   "outputs": [
    {
     "name": "stdout",
     "output_type": "stream",
     "text": [
      "3\n",
      "3\n",
      "x is less than y\n"
     ]
    }
   ],
   "source": [
    "x = int(input())\n",
    "y = int (input())\n",
    "if x <= y:\n",
    "    print('x is less than y')\n",
    "elif x > y:\n",
    "    print('x is greater than y')\n",
    "else:\n",
    "    print('x and y are equal')\n",
    "\n"
   ]
  },
  {
   "cell_type": "markdown",
   "metadata": {},
   "source": [
    "### Task \n",
    "Masha and Petya write a number down on a piece of paper, which they give to Kolya. Kolya announces the name of the winner ( the person with the largest number wins) or announces a draw if the numbers are equal.\n",
    "\n",
    "INPUT FORMAT:\n",
    "\n",
    "     A - an integer from 0 to 1000 (the number that Masha has in mind)\n",
    "     B - an integer from 0 to 1000 (the number that Petya meant)\n",
    "     Each is entered on a new line.\n",
    "\n",
    "OUTPUT FORMAT:\n",
    "\n",
    "     String \"Masha\", \"Petya\" or \"Draw\", the answer to the problem"
   ]
  },
  {
   "cell_type": "code",
   "execution_count": 19,
   "metadata": {},
   "outputs": [
    {
     "name": "stdout",
     "output_type": "stream",
     "text": [
      "12\n",
      "12\n",
      "A draw!\n"
     ]
    }
   ],
   "source": [
    "M = int(input())\n",
    "P = int(input())\n",
    "if M>P:\n",
    "    print('Masha')\n",
    "elif P>M:\n",
    "    print('Petya')\n",
    "else:\n",
    "    print(\"A draw!\")"
   ]
  },
  {
   "cell_type": "markdown",
   "metadata": {},
   "source": [
    "### Nested conditionals  \n",
    "One conditional can also be nested within another. We could have written the\n",
    "three-branch example like this:\n",
    "\n",
    "if x == y:    \n",
    ">print('x and y are equal') \n",
    "\n",
    "else:  \n",
    "\n",
    ">if x < y:\n",
    "\n",
    ">>print('x is less than y')\n",
    "\n",
    ">else:\n",
    "\n",
    ">>print('x is greater than y')"
   ]
  },
  {
   "cell_type": "code",
   "execution_count": 20,
   "metadata": {},
   "outputs": [
    {
     "name": "stdout",
     "output_type": "stream",
     "text": [
      "5\n",
      "2\n",
      "x is greater than y\n"
     ]
    }
   ],
   "source": [
    "x = int(input()) ##The outer conditional contains two branches. The first branch contains a simple statement. The second branch contains another if statement, which has two branches of its own.\n",
    "y = int (input())\n",
    "if x == y:\n",
    "    print('x and y are equal')\n",
    "else:\n",
    "    if x < y:\n",
    "        print('x is less than y')\n",
    "    else:\n",
    "        print('x is greater than y')\n",
    "\n"
   ]
  },
  {
   "cell_type": "markdown",
   "metadata": {},
   "source": [
    "Logical operators often provide a way to simplify nested conditional statements.\n",
    "For example, we can rewrite the following code using a single conditional:  \n",
    "\n",
    " if 0 < x and x < 10:\n",
    "    \n",
    "    print('x is a positive single-digit number.')\n"
   ]
  },
  {
   "cell_type": "code",
   "execution_count": 24,
   "metadata": {},
   "outputs": [
    {
     "name": "stdout",
     "output_type": "stream",
     "text": [
      "0\n"
     ]
    }
   ],
   "source": [
    "x = int(input())\n",
    "if 0 < x < 10:\n",
    "    print('x is a positive single-digit number.') \n",
    "else:\n",
    "    pass"
   ]
  },
  {
   "cell_type": "markdown",
   "metadata": {},
   "source": [
    "### Task\n",
    "\n",
    "You are given a number and have to make it negative. But maybe the number is already negative?\n",
    "\n",
    "Example:\n",
    "\n",
    "input(1);  # output (-1)\n",
    "\n",
    "\n",
    "input(-5); # output (-5)\n",
    "\n",
    "\n",
    "input(0);  # output (0)\n",
    "\n"
   ]
  },
  {
   "cell_type": "code",
   "execution_count": 43,
   "metadata": {},
   "outputs": [
    {
     "name": "stdout",
     "output_type": "stream",
     "text": [
      "7\n",
      "-7\n"
     ]
    }
   ],
   "source": [
    "x = int(input())\n",
    "if x<=0:\n",
    "    print(x)\n",
    "else:\n",
    "    print(0-x)\n"
   ]
  },
  {
   "cell_type": "markdown",
   "metadata": {},
   "source": [
    "### Task  (Home assignment)\n",
    "Write a program to prompt for a score between 0.0 and\n",
    "1.0. If the score is out of range, print ' Bad score'. If the score is\n",
    "between 0.0 and 1.0, print a grade using the following table:\n",
    "\n",
    "0.9<=x<=1.0 - A\n",
    "\n",
    "0.8<=x<0.9 - B\n",
    "\n",
    "0.7<=x<0.8 - C\n",
    "\n",
    "0.6<=x<0.7 - D\n",
    "\n",
    "x< 0.6 - F\n",
    "\n",
    "Example:\n",
    "\n",
    "Enter score: 0.95  \n",
    "\n",
    "A  \n",
    "\n"
   ]
  },
  {
   "cell_type": "code",
   "execution_count": 1,
   "metadata": {},
   "outputs": [
    {
     "name": "stdout",
     "output_type": "stream",
     "text": [
      "7\n",
      "bad score\n"
     ]
    }
   ],
   "source": []
  },
  {
   "cell_type": "markdown",
   "metadata": {},
   "source": [
    "### Task\n",
    "\n",
    "There is a special offer in the store:\n",
    "\n",
    "     For all products cheaper than 1000 rubles 15% discount\n",
    "     For all products more expensive than 1000, but cheaper than 5000 rubles, a 20% discount\n",
    "     For all products more expensive than 5000 rubles a 25% discount\n",
    "\n",
    "Input  \n",
    "\n",
    "Non-negative integer - product price in rubles\n",
    "\n",
    "Output  \n",
    "\n",
    "Non-negative integer - discount for goods in rubles"
   ]
  },
  {
   "cell_type": "markdown",
   "metadata": {},
   "source": [
    "### Task\n",
    "\n",
    "Create a programm that gives a personalized greeting. \n",
    "\n",
    "Input: name and the name of the owner ( 2 names)\n",
    "\n",
    "Use conditionals to print the proper message:\n",
    "    \n",
    "\n",
    "name equals the name of the owner  ---\t'Hello boss'\n",
    "\n",
    "otherwise ---\t'Hello guest'"
   ]
  },
  {
   "cell_type": "markdown",
   "metadata": {},
   "source": [
    "# Task\n",
    "\n",
    "Write a programme that prompts the user for  two arguments (salary, bonus). Salary will be an integer, and bonus \"Yes\" or \"No\".\n",
    "\n",
    "If bonus is Yes, the salary should be multiplied by 10. \n",
    "\n",
    "If bonus is No, the fatcat did not make enough money and must receive only his stated salary."
   ]
  },
  {
   "cell_type": "markdown",
   "metadata": {},
   "source": [
    "# Task\n",
    "\n",
    "Create a program that checks if a number n is divisible by two numbers x AND y. \n",
    "\n",
    "All inputs are strictly positive numbers.\n",
    "\n",
    "Examples:\n",
    "\n",
    "1) n =   3, x = 1, y = 3 =>  true because   3 is divisible by 1 and 3\n",
    "\n",
    "2) n =  12, x = 2, y = 6 =>  true because  12 is divisible by 2 and 6\n",
    "\n",
    "3) n = 100, x = 5, y = 3 => false because 100 is not divisible by 3\n",
    "\n",
    "4) n =  12, x = 7, y = 5 => false because  12 is neither divisible by 7 nor 5"
   ]
  },
  {
   "cell_type": "markdown",
   "metadata": {},
   "source": [
    "# Extra exercises with solutions\n",
    "\n",
    "https://www.practicepython.org/exercises/ \n",
    "\n",
    "https://holypython.com/beginner-python-exercises/\n",
    "\n",
    "https://pythonbasics.org/exercises/\n",
    "\n",
    "https://pynative.com/python-basic-exercise-for-beginners/\n",
    "\n",
    "https://www.w3resource.com/python-exercises/python-basic-exercises.php\n",
    "\n"
   ]
  }
 ],
 "metadata": {
  "kernelspec": {
   "display_name": "Python 3",
   "language": "python",
   "name": "python3"
  },
  "language_info": {
   "codemirror_mode": {
    "name": "ipython",
    "version": 3
   },
   "file_extension": ".py",
   "mimetype": "text/x-python",
   "name": "python",
   "nbconvert_exporter": "python",
   "pygments_lexer": "ipython3",
   "version": "3.8.3"
  }
 },
 "nbformat": 4,
 "nbformat_minor": 4
}
