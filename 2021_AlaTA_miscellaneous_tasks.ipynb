{
 "cells": [
  {
   "cell_type": "markdown",
   "metadata": {},
   "source": [
    "### Task 1\n",
    "The manager of Ollivander's wand store is checking the functionality of the magic wands sales system. \n",
    "\n",
    "At random, he writes down information about the sold magic wands in the form of a list containing **the name and surname of the owner, the year of purchase and the material from which the wand is made**. \n",
    "\n",
    "The entries are entered until the manager enters the word \"End\". \n",
    "\n",
    "Sometimes the store owner, Ollivander, wants to remember everyone who bought a wand from him in a particular year. If no one bought a wand in the specified year, then the phrase is displayed: \"This year no one bought magic wands.\"\n",
    "\n",
    "INPUT FORMAT\n",
    "\n",
    "     Lines \"Name, year, material\".\n",
    "     Year.\n",
    "\n",
    "Each on a new line.\n",
    "\n",
    "OUTPUT FORMAT\n",
    "\n",
    "     A line like \"In (year) magic wands were bought by:\" and listing the names of those who bought the magic wand, as well as specifying the material from which it is made (either cherry tree or vine), the line ends with a period. Or the line \"Nobody bought magic wands this year.\"\n",
    "     \n",
    "EXAMPLE:\n",
    "\n",
    "INPUT:\n",
    "\n",
    "Neville Longbottom, 1989, cherry tree\n",
    "\n",
    "Hermione Granger, 1989, vine\n",
    "\n",
    "End\n",
    "\n",
    "1989\n",
    "\n",
    "OUTPUT:\n",
    "\n",
    "In 1989, the magic wands were bought by: Neville Longbottom (material - cherry tree), Hermione Granger (material - vine).\n",
    "     \n",
    "     "
   ]
  },
  {
   "cell_type": "code",
   "execution_count": null,
   "metadata": {},
   "outputs": [],
   "source": []
  },
  {
   "cell_type": "markdown",
   "metadata": {},
   "source": [
    "### Task 2\n",
    "\n",
    "The **books** variable stores a dictionary, the keys of which are the names of the books, and the values are the authors.\n",
    "\n",
    "Write a program that takes a non-empty string as input and prints out all books for which the entered string is contained either in the title or in the author's name. \n",
    "\n",
    "The search is case sensitive (\"Harry\" and \"harry\" are different queries). \n",
    "\n",
    "If there is no match, the program does not output anything.\n",
    "\n",
    "INPUT FORMAT:\n",
    "\n",
    "    Non-empty string\n",
    "\n",
    "OUTPUT FORMAT:\n",
    "\n",
    "    Authors and titles of books that satisfy the condition, each pair on a new line.\n",
    "    \n",
    "EXAMPLE:\n",
    "\n",
    "INPUT:\n",
    "\n",
    "Harry\n",
    "\n",
    "\n",
    "OUTPUT:\n",
    "\n",
    "J.K. Rowling: Harry Potter and the Goblet of Fire\n",
    "\n",
    "Harry Garrison: Indomitable Planet\n"
   ]
  },
  {
   "cell_type": "code",
   "execution_count": 4,
   "metadata": {},
   "outputs": [
    {
     "name": "stdout",
     "output_type": "stream",
     "text": [
      "Harry\n",
      "J.K. Rowling: Harry Potter and the Goblet of Fire\n",
      "Harry Garrison: Indomitable Planet\n"
     ]
    }
   ],
   "source": [
    "books = {'The Silmarillion': 'John Tolkien', \n",
    "         'Harry Potter and the Goblet of Fire': 'J.K. Rowling',\n",
    "         'Indomitable Planet': 'Harry Garrison',\n",
    "         'Man without a face' : 'Alfred Bester',\n",
    "         'Alice in Wonderland': 'Lewis Carroll',\n",
    "         \"A Space Odyssey\": \"Arthur Clarke\",\n",
    "         'Dune': 'Frank Herbert', \n",
    "         \"Twenty Thousand Leagues Under the Sea\": \"Jules Verne\",\n",
    "         \"Yankees from Connecticut at the court of King Arthur\": \"Mark Twain\",\n",
    "         \"American Gods\": \"Neil Gaiman\",\n",
    "         \"The Chronicles of Amber\": \"Roger Zelazny\",\n",
    "         'The Chronicles of Narnia': 'Clive S. Lewis',\n",
    "         \"War of the Worlds\": \"HG Wells\"}\n"
   ]
  },
  {
   "cell_type": "markdown",
   "metadata": {},
   "source": [
    "### Task 3\n",
    "\n",
    "Examples:\n",
    "\n",
    "\"abcd\" -> \"A-Bb-Ccc-Dddd\"\n",
    "\n",
    "\"RqaEzty\" -> \"R-Qq-Aaa-Eeee-Zzzzz-Tttttt-Yyyyyyy\"\n",
    "\n",
    "\"cwAt\" -> \"C-Ww-Aaa-Tttt\"\n"
   ]
  },
  {
   "cell_type": "code",
   "execution_count": null,
   "metadata": {},
   "outputs": [],
   "source": []
  },
  {
   "cell_type": "markdown",
   "metadata": {},
   "source": [
    "###  Task 4\n",
    "\n",
    "   Given a string of digits confirm whether the sum of all the individual even digits are greater than the sum of all the individual odd digits. Always a string of numbers will be given.\n",
    "\n",
    "    If the sum of even numbers is greater than the odd numbers print: \"Even is greater than Odd\"\n",
    "\n",
    "    If the sum of odd numbers is greater than the sum of even numbers print: \"Odd is greater than Even\"\n",
    "\n",
    "    If the total of both even and odd numbers are identical print: \"Even and Odd are the same\"\n",
    "    \n",
    "    '12' ---- 'Even is greater than Odd'\n",
    "    \n",
    "    '123'----- 'Odd is greater than Even'\n",
    "    \n",
    "    '112'-----'Even and Odd are the same'\n",
    "\n"
   ]
  }
 ],
 "metadata": {
  "kernelspec": {
   "display_name": "Python 3",
   "language": "python",
   "name": "python3"
  },
  "language_info": {
   "codemirror_mode": {
    "name": "ipython",
    "version": 3
   },
   "file_extension": ".py",
   "mimetype": "text/x-python",
   "name": "python",
   "nbconvert_exporter": "python",
   "pygments_lexer": "ipython3",
   "version": "3.8.3"
  }
 },
 "nbformat": 4,
 "nbformat_minor": 4
}
