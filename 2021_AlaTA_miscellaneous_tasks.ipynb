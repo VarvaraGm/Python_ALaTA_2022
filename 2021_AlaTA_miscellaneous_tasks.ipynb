{
 "cells": [
  {
   "cell_type": "markdown",
   "metadata": {},
   "source": [
    "### Task 1\n",
    "The manager of Ollivander's wand store is checking the functionality of the magic wands sales system. \n",
    "\n",
    "At random, he writes down information about the sold magic wands in the form of a list containing **the name and surname of the owner, the year of purchase and the material from which the wand is made**. \n",
    "\n",
    "The entries are entered until the manager enters the word \"End\". \n",
    "\n",
    "Sometimes the store owner, Ollivander, wants to remember everyone who bought a wand from him in a particular year. If no one bought a wand in the specified year, then the phrase is displayed: \"This year no one bought magic wands.\"\n",
    "\n",
    "INPUT FORMAT\n",
    "\n",
    "     Lines \"Name, year, material\".\n",
    "     Year.\n",
    "\n",
    "Each on a new line.\n",
    "\n",
    "OUTPUT FORMAT\n",
    "\n",
    "     A line like \"In (year) magic wands were bought by:\" and listing the names of those who bought the magic wand, as well as specifying the material from which it is made (either cherry tree or vine), the line ends with a period. Or the line \"Nobody bought magic wands this year.\"\n",
    "     \n",
    "EXAMPLE:\n",
    "\n",
    "INPUT:\n",
    "\n",
    "Neville Longbottom, 1989, cherry tree\n",
    "\n",
    "Hermione Granger, 1989, vine\n",
    "\n",
    "End\n",
    "\n",
    "1989\n",
    "\n",
    "OUTPUT:\n",
    "\n",
    "In 1989, the magic wands were bought by: Neville Longbottom (material - cherry tree), Hermione Granger (material - vine).\n",
    "     \n",
    "     "
   ]
  },
  {
   "cell_type": "code",
   "execution_count": null,
   "metadata": {},
   "outputs": [],
   "source": [
    "buyers = list () \n",
    "while True:\n",
    "    a = input()\n",
    "    buyers.append (a. split (','))\n",
    "    if a =='End':\n",
    "        break     \n",
    "year = input ()\n",
    "bought = []\n",
    "final = []\n",
    "for i in buyers:\n",
    "    for x in i:\n",
    "        if year in x:\n",
    "            bought.append (i)\n",
    "if len(bought) == 0:\n",
    "    print (\"Nobody bought magic wands this year.\")\n",
    "else:\n",
    "    for i in range (len (bought)):\n",
    "        name = bought [i][0]\n",
    "        material = bought [i][2]\n",
    "        line = [name, '(material -'+material+')']\n",
    "        line1 = ' '.join (line)\n",
    "        final.append (line1)\n",
    "        final1 = ', '.join (final)\n",
    "    print (f'In {year} the magic wands were bought by: {final1}', end ='.')"
   ]
  },
  {
   "cell_type": "markdown",
   "metadata": {},
   "source": [
    "### Task 2\n",
    "\n",
    "The **books** variable stores a dictionary, the keys of which are the names of the books, and the values are the authors.\n",
    "\n",
    "Write a program that takes a non-empty string as input and prints out all books for which the entered string is contained either in the title or in the author's name. \n",
    "\n",
    "The search is case sensitive (\"Harry\" and \"harry\" are different queries). \n",
    "\n",
    "If there is no match, the program does not output anything.\n",
    "\n",
    "INPUT FORMAT:\n",
    "\n",
    "    Non-empty string\n",
    "\n",
    "OUTPUT FORMAT:\n",
    "\n",
    "    Authors and titles of books that satisfy the condition, each pair on a new line.\n",
    "    \n",
    "EXAMPLE:\n",
    "\n",
    "INPUT:\n",
    "\n",
    "Harry\n",
    "\n",
    "\n",
    "OUTPUT:\n",
    "\n",
    "J.K. Rowling: Harry Potter and the Goblet of Fire\n",
    "\n",
    "Harry Garrison: Indomitable Planet\n"
   ]
  },
  {
   "cell_type": "code",
   "execution_count": 16,
   "metadata": {},
   "outputs": [
    {
     "name": "stdout",
     "output_type": "stream",
     "text": [
      "Harry\n",
      "J.K. Rowling: Harry Potter and the Goblet of Fire\n",
      "Harry Garrison: Indomitable Planet\n"
     ]
    }
   ],
   "source": [
    "books = {'The Silmarillion': 'John Tolkien', \n",
    "         'Harry Potter and the Goblet of Fire': 'J.K. Rowling',\n",
    "         'Indomitable Planet': 'Harry Garrison',\n",
    "         'Man without a face' : 'Alfred Bester',\n",
    "         'Alice in Wonderland': 'Lewis Carroll',\n",
    "         \"A Space Odyssey\": \"Arthur Clarke\",\n",
    "         'Dune': 'Frank Herbert', \n",
    "         \"Twenty Thousand Leagues Under the Sea\": \"Jules Verne\",\n",
    "         \"Yankees from Connecticut at the court of King Arthur\": \"Mark Twain\",\n",
    "         \"American Gods\": \"Neil Gaiman\",\n",
    "         \"The Chronicles of Amber\": \"Roger Zelazny\",\n",
    "         'The Chronicles of Narnia': 'Clive S. Lewis',\n",
    "         \"War of the Worlds\": \"HG Wells\"}\n",
    "x = input ()\n",
    "for key, value in books.items ():\n",
    "    if x in value  or  x in key :\n",
    "        print (f'{value}: {key}')\n",
    "    \n",
    "       \n"
   ]
  },
  {
   "cell_type": "markdown",
   "metadata": {},
   "source": [
    "### Task 3\n",
    "\n",
    "Examples:\n",
    "\n",
    "\"abcd\" -> \"A-Bb-Ccc-Dddd\"\n",
    "\n",
    "\"RqaEzty\" -> \"R-Qq-Aaa-Eeee-Zzzzz-Tttttt-Yyyyyyy\"\n",
    "\n",
    "\"cwAt\" -> \"C-Ww-Aaa-Tttt\"\n"
   ]
  },
  {
   "cell_type": "code",
   "execution_count": 8,
   "metadata": {},
   "outputs": [
    {
     "name": "stdout",
     "output_type": "stream",
     "text": [
      "nnn\n",
      "['N', 'NN', 'NNN']\n"
     ]
    }
   ],
   "source": [
    "letters = input()\n",
    "n=1\n",
    "b=[]\n",
    "for i in letters:\n",
    "    x=i.capitalize()\n",
    "    b.append(x*n)\n",
    "    n+=1\n",
    "print(b)"
   ]
  },
  {
   "cell_type": "code",
   "execution_count": 9,
   "metadata": {},
   "outputs": [
    {
     "name": "stdout",
     "output_type": "stream",
     "text": [
      "abc\n",
      "a-\n",
      "A-\n",
      "bb-\n",
      "Bb-\n",
      "A-Bb-Ccc\n"
     ]
    }
   ],
   "source": [
    "s = input()\n",
    "final = []\n",
    "p=1\n",
    "for i in s [:-1]:\n",
    "    first=i*p + '-'\n",
    "    first =first.capitalize ()\n",
    "    final.append(first)\n",
    "    p+=1\n",
    "last=s[-1]* len(s)\n",
    "last =last.capitalize ()\n",
    "final.append(last)\n",
    "print(''.join (final))"
   ]
  },
  {
   "cell_type": "markdown",
   "metadata": {},
   "source": [
    "###  Task 4\n",
    "\n",
    "   Given a string of digits confirm whether the sum of all the individual even digits are greater than the sum of all the individual odd digits. Always a string of numbers will be given.\n",
    "\n",
    "    If the sum of even numbers is greater than the odd numbers print: \"Even is greater than Odd\"\n",
    "\n",
    "    If the sum of odd numbers is greater than the sum of even numbers print: \"Odd is greater than Even\"\n",
    "\n",
    "    If the total of both even and odd numbers are identical print: \"Even and Odd are the same\"\n",
    "    \n",
    "    '12' ---- 'Even is greater than Odd'\n",
    "    \n",
    "    '123'----- 'Odd is greater than Even'\n",
    "    \n",
    "    '112'-----'Even and Odd are the same'\n",
    "\n"
   ]
  },
  {
   "cell_type": "code",
   "execution_count": 10,
   "metadata": {},
   "outputs": [
    {
     "name": "stdout",
     "output_type": "stream",
     "text": [
      "112\n",
      "even = odd\n"
     ]
    }
   ],
   "source": [
    "tx = input()\n",
    "even = 0\n",
    "odd = 0\n",
    "for i in tx:\n",
    "    if int(i) % 2 == 0:\n",
    "        even += int(i)\n",
    "    else:\n",
    "        odd += int(i)\n",
    "if even > odd:\n",
    "    print(\"even > odd\")\n",
    "elif even < odd:\n",
    "    print(\"even < odd\")\n",
    "else:\n",
    "    print(\"even = odd\")"
   ]
  },
  {
   "cell_type": "code",
   "execution_count": 12,
   "metadata": {},
   "outputs": [
    {
     "name": "stdout",
     "output_type": "stream",
     "text": [
      "112\n",
      "same\n"
     ]
    }
   ],
   "source": [
    "b = input()\n",
    "x = 0\n",
    "y = 0 ## for odd\n",
    "s = 0 ## for even\n",
    "for i in b:\n",
    "    if int(b[x]) % 2 == 1:\n",
    "        y += int(b[x])\n",
    "        x += 1\n",
    "    elif int(b[x]) % 2 == 0:\n",
    "        s += int(b[x])\n",
    "        x += 1\n",
    "if y > s:\n",
    "    print('odd')\n",
    "elif y < s:\n",
    "    print('even')\n",
    "else:\n",
    "    print('same') "
   ]
  },
  {
   "cell_type": "code",
   "execution_count": 13,
   "metadata": {},
   "outputs": [
    {
     "name": "stdout",
     "output_type": "stream",
     "text": [
      "112\n",
      "Even and Odd are the same\n"
     ]
    }
   ],
   "source": [
    "t = (input())\n",
    "odd=[]\n",
    "even=[]\n",
    "for i in t:\n",
    "    if int(i) %2==0:\n",
    "        even.append(int(i))\n",
    "    else:\n",
    "        odd.append(int(i))\n",
    "if sum(odd) > sum(even):\n",
    "    print(\"Odd is greater than Even\")\n",
    "elif sum(odd) < sum(even):\n",
    "    print(\"Even is greater than Odd\")\n",
    "else:\n",
    "    print(\"Even and Odd are the same\")"
   ]
  },
  {
   "cell_type": "code",
   "execution_count": null,
   "metadata": {},
   "outputs": [],
   "source": [
    "s=input()\n",
    "s=list(map(int,s))\n",
    "odd=[]\n",
    "even=[]\n",
    "for i in s:\n",
    "    if i%2==0:\n",
    "        even.append(i)\n",
    "    else:\n",
    "        odd.append(i)\n",
    "even =sum(even)\n",
    "odd=sum(odd)\n",
    "if odd > even:\n",
    "    print(\"Odd is greater than Even\")\n",
    "elif odd==even:\n",
    "    print(\"Even and Odd are the same\")\n",
    "else:\n",
    "    print(\"Even is greater than Odd\")"
   ]
  }
 ],
 "metadata": {
  "kernelspec": {
   "display_name": "Python 3",
   "language": "python",
   "name": "python3"
  },
  "language_info": {
   "codemirror_mode": {
    "name": "ipython",
    "version": 3
   },
   "file_extension": ".py",
   "mimetype": "text/x-python",
   "name": "python",
   "nbconvert_exporter": "python",
   "pygments_lexer": "ipython3",
   "version": "3.8.3"
  }
 },
 "nbformat": 4,
 "nbformat_minor": 4
}
