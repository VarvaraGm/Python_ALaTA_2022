{
 "cells": [
  {
   "cell_type": "code",
   "execution_count": 2,
   "metadata": {},
   "outputs": [
    {
     "name": "stdout",
     "output_type": "stream",
     "text": [
      "[10, -65]\n"
     ]
    }
   ],
   "source": [
    "arr = [1, 2, 3, 4, 5, 6, 7, 8, 9, 10, -11, -12, -13, -14, -15]\n",
    "positive = 0\n",
    "negative = 0\n",
    "for i in arr:\n",
    "    if i >0:\n",
    "        positive+=1\n",
    "    if i < 0:\n",
    "        negative +=i\n",
    "print ([positive,negative])"
   ]
  },
  {
   "cell_type": "code",
   "execution_count": 16,
   "metadata": {},
   "outputs": [
    {
     "name": "stdout",
     "output_type": "stream",
     "text": [
      "[1, 2, 1]\n",
      "[5.6, 7.5]\n",
      "['Boo', 'RocknRoll']\n"
     ]
    }
   ],
   "source": [
    "list1 = [1, 2, 5.6, 7.5, 'Boo', 1, 'RocknRoll']\n",
    "\n",
    "ints, floats, strings = [], [], []\n",
    "for i in list1:\n",
    "    if type(i) == int:\n",
    "        ints.append(i)\n",
    "    elif type(i) == float:\n",
    "        floats.append(i)\n",
    "    else:\n",
    "        strings.append(i)\n",
    "print(ints)\n",
    "print(floats)\n",
    "print(strings)"
   ]
  },
  {
   "cell_type": "code",
   "execution_count": 9,
   "metadata": {},
   "outputs": [
    {
     "name": "stdout",
     "output_type": "stream",
     "text": [
      "['head', 'body', 'tail']\n"
     ]
    }
   ],
   "source": [
    "arr = [\"tail\", \"body\", \"head\"]\n",
    "arr.reverse()\n",
    "print(arr)"
   ]
  },
  {
   "cell_type": "code",
   "execution_count": 12,
   "metadata": {},
   "outputs": [
    {
     "name": "stdout",
     "output_type": "stream",
     "text": [
      "2\n"
     ]
    }
   ],
   "source": [
    "numbers = [-1,0,1]\n",
    "total = 0\n",
    "for i in numbers:\n",
    "    total+= i**2\n",
    "print (total)"
   ]
  },
  {
   "cell_type": "code",
   "execution_count": 14,
   "metadata": {},
   "outputs": [
    {
     "name": "stdout",
     "output_type": "stream",
     "text": [
      "[2, 4, 6, 8, 10]\n"
     ]
    }
   ],
   "source": [
    "minim = 2\n",
    "maxim = 10\n",
    "step = 2\n",
    "p = []\n",
    "p.append(minim)\n",
    "if step > maxim:\n",
    "    print(p)\n",
    "for i in p:\n",
    "    if i+step <= maxim:\n",
    "        p.append ( i+step)\n",
    "    else:\n",
    "         break\n",
    "print (p)"
   ]
  },
  {
   "cell_type": "markdown",
   "metadata": {},
   "source": [
    "minim = 1\n",
    "maxim = 30\n",
    "step = 15\n",
    "p = []\n",
    "for i in range (minim,maxim,step):\n",
    "    p.append(i)\n",
    "print(p)"
   ]
  },
  {
   "cell_type": "code",
   "execution_count": 15,
   "metadata": {},
   "outputs": [
    {
     "name": "stdout",
     "output_type": "stream",
     "text": [
      "42\n"
     ]
    }
   ],
   "source": [
    "numbers = [10, 14, 2, 23, 19] \n",
    "x = max(numbers)\n",
    "numbers.remove(x)\n",
    "y = max(numbers)\n",
    "print(x+y)"
   ]
  },
  {
   "cell_type": "code",
   "execution_count": 8,
   "metadata": {},
   "outputs": [
    {
     "name": "stdout",
     "output_type": "stream",
     "text": [
      "ab cd ef\n",
      "['a', 'b']\n",
      "['b', 'a']\n",
      "ba\n",
      "['c', 'd']\n",
      "['d', 'c']\n",
      "dc\n",
      "['e', 'f']\n",
      "['f', 'e']\n",
      "fe\n",
      "ba dc fe\n"
     ]
    }
   ],
   "source": [
    "text = input()\n",
    "text=text.split(' ')\n",
    "outcome = []\n",
    "for word in text:\n",
    "    word = (list(word))\n",
    "    print(word)\n",
    "    word.reverse()\n",
    "    print(word)\n",
    "    word = \"\".join (word)\n",
    "    print(word)\n",
    "    outcome.append(word)\n",
    "print( ' '. join (outcome))"
   ]
  },
  {
   "cell_type": "code",
   "execution_count": 15,
   "metadata": {},
   "outputs": [
    {
     "name": "stdout",
     "output_type": "stream",
     "text": [
      "food\n",
      "['food']\n",
      "Fail!\n"
     ]
    }
   ],
   "source": [
    "x = input().split(',')\n",
    "print(x)\n",
    "count = 0\n",
    "for word in x:\n",
    "    if word == 'good':\n",
    "        count+=1\n",
    "if 1<=count <=2:\n",
    "    print('Publish!')\n",
    "elif count> 2:\n",
    "    print ('I smell a series!')\n",
    "else:\n",
    "    print ('Fail!')"
   ]
  },
  {
   "cell_type": "code",
   "execution_count": 53,
   "metadata": {},
   "outputs": [
    {
     "name": "stdout",
     "output_type": "stream",
     "text": [
      "bad,good,good\n",
      "2\n",
      "Publish!\n"
     ]
    }
   ],
   "source": [
    "x = input()\n",
    "c = x.count('good')\n",
    "print(c)\n",
    "if 1<=c<=2:\n",
    "    print('Publish!')\n",
    "elif c> 2:\n",
    "    print ('I smell a series!')\n",
    "else:\n",
    "    print ('Fail!')"
   ]
  },
  {
   "cell_type": "code",
   "execution_count": null,
   "metadata": {},
   "outputs": [],
   "source": [
    "A = input().split()\n",
    "B = input().split()\n",
    "N = int(input())\n",
    "words = A + B\n",
    "if N <= len(words):   \n",
    "    print(words[N-1]) \n",
    "else:\n",
    "    print('There is no such word')"
   ]
  },
  {
   "cell_type": "code",
   "execution_count": 25,
   "metadata": {},
   "outputs": [
    {
     "name": "stdout",
     "output_type": "stream",
     "text": [
      "156\n",
      "[1, 5, 6]\n",
      "[6, 7, 11]\n"
     ]
    }
   ],
   "source": [
    "num = input()              ### item with 0 index+ item with 1 index, item with 0 index+ item with 2 index, \n",
    "num = list(map(int,(num)))\n",
    "print(num)\n",
    "summ = []\n",
    "for index in range(len(num)):  ### all the items ( indices)\n",
    "    l=index+1                       ### each time we add 1 to the index \n",
    "    while l<len(num):          ### we perform the iterations till we get to the penultimate index\n",
    "        k = num[index]+num[l]      ### k - the sum of the item (num[i]) and the next item (num[l]=num[i+1]\n",
    "        summ.append(k)\n",
    "        l+=1\n",
    "print(summ)"
   ]
  },
  {
   "cell_type": "code",
   "execution_count": 38,
   "metadata": {},
   "outputs": [
    {
     "name": "stdout",
     "output_type": "stream",
     "text": [
      "17\n"
     ]
    }
   ],
   "source": [
    "array = [1,2,3,4,17,5,6,7,8] \n",
    "z =1\n",
    "for i in array[1:]: ### start with 2 [2,3,4,17,5,6,7,8]   \n",
    "    if array[0]>array[1]:  ## if 1 > 2\n",
    "        print (array[0])\n",
    "        break\n",
    "    elif i > array[z+1]: ## if 2>3;3>4,4>17;17>5  ( 2> index(1+1); 3 >index(2+1)) \n",
    "        print (array[z])\n",
    "    else:\n",
    "        z+=1\n",
    "        \n",
    "    "
   ]
  }
 ],
 "metadata": {
  "kernelspec": {
   "display_name": "Python 3",
   "language": "python",
   "name": "python3"
  },
  "language_info": {
   "codemirror_mode": {
    "name": "ipython",
    "version": 3
   },
   "file_extension": ".py",
   "mimetype": "text/x-python",
   "name": "python",
   "nbconvert_exporter": "python",
   "pygments_lexer": "ipython3",
   "version": "3.8.3"
  }
 },
 "nbformat": 4,
 "nbformat_minor": 4
}
