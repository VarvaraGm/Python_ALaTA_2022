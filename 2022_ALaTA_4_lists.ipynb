{
 "cells": [
  {
   "cell_type": "markdown",
   "metadata": {},
   "source": [
    "### Lists\n",
    "\n",
    "Like a string, a list is a sequence of values. \n",
    "\n",
    "In a string, the values are characters; in a list, they can be **any type**. \n",
    "\n",
    "The values in a list are called **elements** or sometimes\n",
    "**items**.\n",
    "\n",
    "There are several ways to create a new list; the simplest is to enclose the elements\n",
    "in square brackets (“[\" and “]”):\n",
    "\n",
    "> [1, 2, 3, 4]\n",
    "\n",
    "> ['frog', 'rabbit', 'dog']\n",
    "\n",
    "The first example is a list of four integers. The second is a list of three strings.\n",
    "\n",
    "\n",
    "The elements of a list **don’t have to be the same type**. \n",
    "\n",
    "The following list contains\n",
    "a string, a float, an integer, and (!) another list:\n",
    "\n",
    ">['spam', 2.0, 5, [10, 20]]\n",
    "\n",
    "A list within another list is nested.\n",
    "\n",
    "A list that contains no elements is called an **empty list**; you can create one with\n",
    "empty brackets, []."
   ]
  },
  {
   "cell_type": "code",
   "execution_count": 1,
   "metadata": {},
   "outputs": [
    {
     "name": "stdout",
     "output_type": "stream",
     "text": [
      "frog\n"
     ]
    }
   ],
   "source": [
    "animals = ['frog', 'rabbit', 'dog']\n",
    "print(animals [0])"
   ]
  },
  {
   "cell_type": "markdown",
   "metadata": {},
   "source": [
    "### Lists are mutable\n",
    "\n",
    "Unlike strings, lists are mutable because you can change the order of items in a\n",
    "list or reassign an item in a list. When the bracket operator appears on the left\n",
    "side of an assignment, it identifies the element of the list that will be assigned.\n",
    "\n"
   ]
  },
  {
   "cell_type": "code",
   "execution_count": 2,
   "metadata": {},
   "outputs": [
    {
     "name": "stdout",
     "output_type": "stream",
     "text": [
      "['frog', 'cat', 'dog']\n"
     ]
    }
   ],
   "source": [
    "animals = ['frog', 'rabbit', 'dog'] ### a list of strings\n",
    "animals[1]= 'cat'  ## update the value of the element with index [1]\n",
    "print(animals)\n"
   ]
  },
  {
   "cell_type": "code",
   "execution_count": 3,
   "metadata": {},
   "outputs": [
    {
     "name": "stdout",
     "output_type": "stream",
     "text": [
      "frog\n",
      "cat\n",
      "dog\n"
     ]
    }
   ],
   "source": [
    "for i in animals: ### for loop \n",
    "    print(i)"
   ]
  },
  {
   "cell_type": "code",
   "execution_count": 20,
   "metadata": {},
   "outputs": [
    {
     "name": "stdout",
     "output_type": "stream",
     "text": [
      "Frog\n",
      "Rabbit\n",
      "Dog\n"
     ]
    }
   ],
   "source": [
    "animals = ['frog', 'rabbit', 'dog'] ## we use string methods for the elements of our list\n",
    "for i in animals:\n",
    "    i = i.capitalize()\n",
    "    print(i)"
   ]
  },
  {
   "cell_type": "markdown",
   "metadata": {},
   "source": [
    "### Slices\n",
    "\n",
    "If you omit the first index, the slice starts at the beginning [:2]. \n",
    "\n",
    "If you omit the second,\n",
    "the slice goes to the end [1:]. \n",
    "\n",
    "So if you omit both, the slice is a copy of the whole list [:]."
   ]
  },
  {
   "cell_type": "code",
   "execution_count": 10,
   "metadata": {},
   "outputs": [
    {
     "name": "stdout",
     "output_type": "stream",
     "text": [
      "cat\n",
      "dog\n"
     ]
    }
   ],
   "source": [
    "for i in animals [1:]: ## slices\n",
    "    print(i)"
   ]
  },
  {
   "cell_type": "code",
   "execution_count": 21,
   "metadata": {},
   "outputs": [
    {
     "name": "stdout",
     "output_type": "stream",
     "text": [
      "['dog', 'rabbit', 'frog']\n"
     ]
    }
   ],
   "source": [
    "animals = animals[::-1]\n",
    "print(animals)"
   ]
  },
  {
   "cell_type": "code",
   "execution_count": 23,
   "metadata": {},
   "outputs": [
    {
     "name": "stdout",
     "output_type": "stream",
     "text": [
      "['dog', 'rabbit', 'frog']\n",
      "dog\n",
      "d\n"
     ]
    }
   ],
   "source": [
    "print(animals)\n",
    "print(animals[0])\n",
    "print(animals[0][0])"
   ]
  },
  {
   "cell_type": "code",
   "execution_count": 32,
   "metadata": {},
   "outputs": [
    {
     "name": "stdout",
     "output_type": "stream",
     "text": [
      "['dog', 'rabbit', 'frog']\n",
      "D\n",
      "O\n",
      "G\n",
      "R\n",
      "A\n",
      "B\n",
      "B\n",
      "I\n",
      "T\n",
      "F\n",
      "R\n",
      "O\n",
      "G\n"
     ]
    }
   ],
   "source": [
    "print(animals)\n",
    "for word in animals:\n",
    "    for letter in word:\n",
    "        letter = letter.upper()\n",
    "        print(letter)\n",
    "    "
   ]
  },
  {
   "cell_type": "code",
   "execution_count": 29,
   "metadata": {},
   "outputs": [
    {
     "name": "stdout",
     "output_type": "stream",
     "text": [
      "['D', 'O', 'G']\n",
      "['R', 'A', 'B', 'B', 'I', 'T']\n",
      "['F', 'R', 'O', 'G']\n"
     ]
    }
   ],
   "source": [
    "for word in animals:\n",
    "    word = [letter.upper()for letter in word]\n",
    "    print(word)"
   ]
  },
  {
   "cell_type": "code",
   "execution_count": 3,
   "metadata": {},
   "outputs": [
    {
     "name": "stdout",
     "output_type": "stream",
     "text": [
      "FROG\n",
      "RABBIT\n",
      "DOG\n"
     ]
    }
   ],
   "source": [
    "animals = ['frog', 'rabbit', 'dog']\n",
    "for word in animals:\n",
    "    word = [letter.upper()for letter in word]\n",
    "    print(''.join(word))"
   ]
  },
  {
   "cell_type": "code",
   "execution_count": 4,
   "metadata": {},
   "outputs": [
    {
     "name": "stdout",
     "output_type": "stream",
     "text": [
      "FROG\n",
      "RABBIT\n",
      "DOG\n"
     ]
    }
   ],
   "source": [
    "animals = ['frog', 'rabbit', 'dog']\n",
    "for word in animals:\n",
    "    word = (''.join([letter.upper()for letter in word]))\n",
    "    print(word)"
   ]
  },
  {
   "cell_type": "code",
   "execution_count": 5,
   "metadata": {},
   "outputs": [
    {
     "name": "stdout",
     "output_type": "stream",
     "text": [
      "FROG\n",
      "RABBIT\n",
      "DOG\n"
     ]
    }
   ],
   "source": [
    "animals = ['frog', 'rabbit', 'dog']\n",
    "for word in animals:\n",
    "    print(''.join([letter.upper()for letter in word]))\n",
    "    "
   ]
  },
  {
   "cell_type": "markdown",
   "metadata": {},
   "source": [
    "### Len, range, enumerate\n",
    "\n",
    "**'len'** returns the number of elements in the list.\n",
    "\n",
    "**range** returns a list of indices from 0 to (n − 1), where n is the length of the list."
   ]
  },
  {
   "cell_type": "code",
   "execution_count": 4,
   "metadata": {},
   "outputs": [
    {
     "name": "stdout",
     "output_type": "stream",
     "text": [
      "0\n",
      "1\n",
      "2\n"
     ]
    }
   ],
   "source": [
    "animals = ['frog', 'rabbit', 'dog']\n",
    "for i in range(len(animals)):  ### len(animals)=3; range of indices: from 0 to (3-1)\n",
    "    print(i)"
   ]
  },
  {
   "cell_type": "code",
   "execution_count": 32,
   "metadata": {},
   "outputs": [
    {
     "name": "stdout",
     "output_type": "stream",
     "text": [
      "3\n",
      "0\n",
      "1\n",
      "2\n",
      "3\n"
     ]
    }
   ],
   "source": [
    "print(len(animals))\n",
    "for i in range(len(animals)+1):\n",
    "    print(i)"
   ]
  },
  {
   "cell_type": "code",
   "execution_count": 28,
   "metadata": {},
   "outputs": [
    {
     "name": "stdout",
     "output_type": "stream",
     "text": [
      "2\n",
      "3\n"
     ]
    }
   ],
   "source": [
    "animals = ['frog', 'rabbit', 'dog']\n",
    "for i in range(2,len(animals)+1):\n",
    "    print(i)"
   ]
  },
  {
   "cell_type": "markdown",
   "metadata": {},
   "source": [
    "An in-built function **enumerate** gives you back two loop variables:\n",
    "\n",
    "    The count of the current iteration\n",
    "    The value of the item at the current iteration\n"
   ]
  },
  {
   "cell_type": "code",
   "execution_count": 35,
   "metadata": {},
   "outputs": [
    {
     "name": "stdout",
     "output_type": "stream",
     "text": [
      "0\n",
      "dog\n",
      "1\n",
      "rabbit\n",
      "2\n",
      "frog\n"
     ]
    }
   ],
   "source": [
    "for index,animal in enumerate(animals):\n",
    "    print(index)\n",
    "    print(animal)"
   ]
  },
  {
   "cell_type": "markdown",
   "metadata": {},
   "source": [
    "Also it accepts an optional argument that allows us to specify the starting index of the counter."
   ]
  },
  {
   "cell_type": "code",
   "execution_count": 6,
   "metadata": {},
   "outputs": [
    {
     "name": "stdout",
     "output_type": "stream",
     "text": [
      "26\n",
      "frog\n",
      "27\n",
      "rabbit\n",
      "28\n",
      "dog\n"
     ]
    }
   ],
   "source": [
    "animals = ['frog', 'rabbit', 'dog']\n",
    "for index,animal in enumerate(animals,26):\n",
    "    print(index)\n",
    "    print(animal)"
   ]
  },
  {
   "cell_type": "markdown",
   "metadata": {},
   "source": [
    "In this example, we pass start=26, which starts count with the value 26\n",
    "on the first loop iteration. Compare this with the previous examples, in which start had the default value of 0"
   ]
  },
  {
   "cell_type": "markdown",
   "metadata": {},
   "source": [
    "### Nested lists \n",
    "\n",
    "A list can contain any sort object, even another list (sublist), which in turn can contain sublists themselves, and so on. This is known as nested list.\n",
    "\n",
    "You can use them to arrange data into hierarchical structures."
   ]
  },
  {
   "cell_type": "code",
   "execution_count": 39,
   "metadata": {},
   "outputs": [
    {
     "name": "stdout",
     "output_type": "stream",
     "text": [
      "[['oranges', 'lemons'], ['potatoes', 'onions'], ['bread', 'butter']]\n",
      "['oranges', 'lemons']\n",
      "['potatoes', 'onions']\n",
      "['bread', 'butter']\n"
     ]
    }
   ],
   "source": [
    "grocery = [['oranges','lemons'],['potatoes','onions'],['bread','butter']]\n",
    "print(grocery)\n",
    "for i in grocery:\n",
    "    print(i)\n"
   ]
  },
  {
   "cell_type": "code",
   "execution_count": 43,
   "metadata": {},
   "outputs": [
    {
     "name": "stdout",
     "output_type": "stream",
     "text": [
      "['oranges', 'lemons']\n",
      "['potatoes', 'onions']\n",
      "['bread', 'butter']\n",
      "oranges\n",
      "lemons\n"
     ]
    }
   ],
   "source": [
    "print(grocery[0])\n",
    "print(grocery[1])\n",
    "print(grocery[2])\n",
    "for i in grocery[0]:\n",
    "    print(i)\n"
   ]
  },
  {
   "cell_type": "code",
   "execution_count": 46,
   "metadata": {},
   "outputs": [
    {
     "name": "stdout",
     "output_type": "stream",
     "text": [
      "oranges\n",
      "o\n",
      "r\n",
      "a\n",
      "n\n",
      "g\n",
      "e\n",
      "s\n",
      "o\n"
     ]
    }
   ],
   "source": [
    "print(grocery [0][0])\n",
    "for i in grocery [0][0]:\n",
    "    print(i)\n",
    "print(grocery[0][0][0])"
   ]
  },
  {
   "cell_type": "markdown",
   "metadata": {},
   "source": [
    "### Task 1\n",
    "\n",
    "Given is a list : new = ['-1', 'orange', '!:'] \n",
    "\n",
    "search for letters in this list and if you find one print: 'x is a letter!'\n",
    "\n",
    "the output:\n",
    "\n",
    "o is a letter!\n",
    "\n",
    "r is a letter!\n",
    "\n",
    "a is a letter!\n",
    "\n",
    "n is a letter!\n",
    "\n",
    "g is a letter!\n",
    "\n",
    "e is a letter!\n"
   ]
  },
  {
   "cell_type": "markdown",
   "metadata": {},
   "source": [
    "### List operations \n",
    "\n",
    "The + operator concatenates lists \n",
    "\n",
    "The * operator repeats a list a given number of times"
   ]
  },
  {
   "cell_type": "code",
   "execution_count": 48,
   "metadata": {},
   "outputs": [
    {
     "name": "stdout",
     "output_type": "stream",
     "text": [
      "['frog', 'cat', 'dog', ['oranges', 'lemons'], ['potatoes', 'onions'], ['bread', 'butter']]\n",
      "['frog', 'cat', 'dog', 'frog', 'cat', 'dog', 'frog', 'cat', 'dog']\n"
     ]
    }
   ],
   "source": [
    "print(animals + grocery)\n",
    "print (animals*3)"
   ]
  },
  {
   "cell_type": "markdown",
   "metadata": {},
   "source": [
    "## List methods\n",
    "\n",
    "### Append\n",
    "\n",
    "Append adds a new\n",
    "element to the end of a list.\n",
    "\n"
   ]
  },
  {
   "cell_type": "code",
   "execution_count": 57,
   "metadata": {},
   "outputs": [
    {
     "name": "stdout",
     "output_type": "stream",
     "text": [
      "['frog', 'rabbit', 'dog', 'cat']\n"
     ]
    }
   ],
   "source": [
    "animals = ['frog', 'rabbit', 'dog']\n",
    "animals.append('cat') # animals += ('cat')\n",
    "print(animals)"
   ]
  },
  {
   "cell_type": "markdown",
   "metadata": {},
   "source": [
    "### Sort\n",
    "\n",
    "Sort arranges the elements of the list from low to high.\n"
   ]
  },
  {
   "cell_type": "code",
   "execution_count": 58,
   "metadata": {},
   "outputs": [
    {
     "name": "stdout",
     "output_type": "stream",
     "text": [
      "['cat', 'dog', 'frog', 'rabbit']\n"
     ]
    }
   ],
   "source": [
    "animals.sort()\n",
    "print(animals)"
   ]
  },
  {
   "cell_type": "code",
   "execution_count": 48,
   "metadata": {},
   "outputs": [
    {
     "name": "stdout",
     "output_type": "stream",
     "text": [
      "[-4, 4, 67]\n"
     ]
    }
   ],
   "source": [
    "numbers = [4,67,-4]\n",
    "numbers.sort()\n",
    "print(numbers)"
   ]
  },
  {
   "cell_type": "code",
   "execution_count": 59,
   "metadata": {},
   "outputs": [
    {
     "name": "stdout",
     "output_type": "stream",
     "text": [
      "['Rabbit', 'cat', 'dog', 'frog']\n"
     ]
    }
   ],
   "source": [
    "animals[3]= 'Rabbit'\n",
    "animals.sort()\n",
    "print(animals)"
   ]
  },
  {
   "cell_type": "code",
   "execution_count": 8,
   "metadata": {},
   "outputs": [
    {
     "name": "stdout",
     "output_type": "stream",
     "text": [
      "['lemons', 'oranges']\n"
     ]
    }
   ],
   "source": [
    "grocery = [['oranges','lemons'],['potatoes','onions'],['bread','butter']]\n",
    "grocery[0].sort()\n",
    "print(grocery[0])"
   ]
  },
  {
   "cell_type": "markdown",
   "metadata": {},
   "source": [
    "### Deleting elements\n",
    "\n",
    "There are several ways to delete elements from a list. If you know the index of the\n",
    "element you want, you can use **pop**.\n",
    "\n",
    "**Pop** modifies the list and returns the element that was removed. If you don’t\n",
    "provide an index, it deletes and returns the last element.\n",
    "\n",
    "\n",
    "If you don’t need the removed value, you can use the **del** operator.\n",
    "\n",
    "To remove more than one element, you can use del with a slice index\n",
    "\n",
    "If you know the element you want to remove (but not the index), you can use\n",
    "**remove**."
   ]
  },
  {
   "cell_type": "code",
   "execution_count": 49,
   "metadata": {},
   "outputs": [
    {
     "name": "stdout",
     "output_type": "stream",
     "text": [
      "['dog', 'rabbit', 'frog']\n",
      "['dog', 'rabbit']\n",
      "frog\n"
     ]
    }
   ],
   "source": [
    "print(animals)\n",
    "x = animals.pop(-1) # the argument is the index of the object. The result of the operation can be saved to a variable.\n",
    "print(animals)\n",
    "print(x)"
   ]
  },
  {
   "cell_type": "code",
   "execution_count": 50,
   "metadata": {},
   "outputs": [
    {
     "name": "stdout",
     "output_type": "stream",
     "text": [
      "['Rabbit', 'dog']\n"
     ]
    }
   ],
   "source": [
    "animals = ['Rabbit', 'dog','cat']\n",
    "animals.remove('cat') # argument - the object to be deleted.\n",
    "print(animals)"
   ]
  },
  {
   "cell_type": "code",
   "execution_count": 51,
   "metadata": {},
   "outputs": [
    {
     "name": "stdout",
     "output_type": "stream",
     "text": [
      "['dog']\n"
     ]
    }
   ],
   "source": [
    "del animals[0]\n",
    "print (animals)"
   ]
  },
  {
   "cell_type": "markdown",
   "metadata": {},
   "source": [
    "The **.index ()** method is used to search the lists. It returns the index of the object passed as an argument."
   ]
  },
  {
   "cell_type": "code",
   "execution_count": 10,
   "metadata": {},
   "outputs": [
    {
     "name": "stdout",
     "output_type": "stream",
     "text": [
      "[['lemons', 'oranges'], ['potatoes', 'onions'], ['bread', 'butter']]\n",
      "4\n",
      "0\n",
      "1\n",
      "2\n"
     ]
    }
   ],
   "source": [
    "print (grocery)\n",
    "print (grocery[0][0].index ('n'))\n",
    "for i in grocery:\n",
    "    print(grocery.index(i))\n"
   ]
  },
  {
   "cell_type": "markdown",
   "metadata": {},
   "source": [
    "**.count ()** counts the number of elements and **.reverse ()**  reverses the list."
   ]
  },
  {
   "cell_type": "code",
   "execution_count": 73,
   "metadata": {},
   "outputs": [
    {
     "name": "stdout",
     "output_type": "stream",
     "text": [
      "2\n",
      "['a', 'd', 'b', 'a']\n"
     ]
    }
   ],
   "source": [
    "letters = ['a','b','d','a']\n",
    "print(letters.count('a'))\n",
    "letters.reverse()\n",
    "print(letters)"
   ]
  },
  {
   "cell_type": "code",
   "execution_count": 42,
   "metadata": {},
   "outputs": [
    {
     "name": "stdout",
     "output_type": "stream",
     "text": [
      "0\n"
     ]
    }
   ],
   "source": [
    "animals = ['Rabbit', 'dog','cat']\n",
    "vowels = 'aeio'\n",
    "print(animals.count(vowels))"
   ]
  },
  {
   "cell_type": "code",
   "execution_count": 52,
   "metadata": {},
   "outputs": [
    {
     "name": "stdout",
     "output_type": "stream",
     "text": [
      "[1, 1, 1, 1, 1, 1, 0, 0, 0, 1, 1, 1]\n"
     ]
    }
   ],
   "source": [
    "animals = ['Rabbit', 'dog','cat']\n",
    "vowels = 'aeio'\n",
    "print ([letter.count (\"a\") for letter in animals for p in letter])"
   ]
  },
  {
   "cell_type": "code",
   "execution_count": 59,
   "metadata": {},
   "outputs": [
    {
     "name": "stdout",
     "output_type": "stream",
     "text": [
      "[(1, 'R'), (1, 'a'), (2, 'b'), (2, 'b'), (1, 'i'), (1, 't'), (1, 'd'), (1, 'o'), (1, 'g'), (1, 'c'), (1, 'a'), (1, 't')]\n"
     ]
    }
   ],
   "source": [
    "animals = ['Rabbit', 'dog','cat']\n",
    "vowels = 'aeio'\n",
    "print ([ (letter.count (p),p)  for letter in animals for p in letter])"
   ]
  },
  {
   "cell_type": "code",
   "execution_count": 63,
   "metadata": {},
   "outputs": [
    {
     "name": "stdout",
     "output_type": "stream",
     "text": [
      "[(1, 'a'), (1, 'i'), (1, 'o'), (1, 'a')]\n"
     ]
    }
   ],
   "source": [
    "animals = ['Rabbit', 'dog','cat']\n",
    "vowels = 'aeio'\n",
    "print ([ (word.count (p),p)  for word in animals for p in word if p in vowels])"
   ]
  },
  {
   "cell_type": "code",
   "execution_count": 75,
   "metadata": {},
   "outputs": [
    {
     "name": "stdout",
     "output_type": "stream",
     "text": [
      "1-(a)\n",
      "[1, 'a']\n",
      "1-(i)\n",
      "[1, 'i']\n",
      "1-(o)\n",
      "[1, 'o']\n",
      "1-(a)\n",
      "[1, 'a']\n"
     ]
    }
   ],
   "source": [
    "animals = ['Rabbit', 'dog','cat']\n",
    "vowels = 'aeio'\n",
    "for word in animals:\n",
    "    for p in word:\n",
    "        if p in vowels:\n",
    "            print(f'{word.count(p)}-({p})')\n",
    "            print([word.count(p),p])\n",
    "            "
   ]
  },
  {
   "cell_type": "markdown",
   "metadata": {},
   "source": [
    "Other methods https://docs.python.org/3/tutorial/datastructures.html"
   ]
  },
  {
   "cell_type": "markdown",
   "metadata": {},
   "source": [
    "### Lists and functions\n",
    "\n",
    "There are a number of built-in functions that can be used on lists that allow you\n",
    "to quickly look through a list without writing your own loops.\n",
    "\n",
    "The **sum()** function only works when the list elements are numbers. The other\n",
    "functions **max()**, **min()** work with lists of strings and other types that can\n",
    "be comparable.\n",
    "\n"
   ]
  },
  {
   "cell_type": "code",
   "execution_count": 77,
   "metadata": {},
   "outputs": [
    {
     "name": "stdout",
     "output_type": "stream",
     "text": [
      "19\n",
      "10\n",
      "1\n",
      "8\n"
     ]
    }
   ],
   "source": [
    "numbers = [1,4,6,8]\n",
    "print(sum(numbers))\n",
    "print ( sum(numbers [1:3]))\n",
    "print(min (numbers))\n",
    "print(max(numbers))"
   ]
  },
  {
   "cell_type": "code",
   "execution_count": 78,
   "metadata": {},
   "outputs": [
    {
     "name": "stdout",
     "output_type": "stream",
     "text": [
      "cat\n",
      "parrot\n"
     ]
    }
   ],
   "source": [
    "animals= ['cat', 'parrot', 'mouse']\n",
    "print(min (animals))\n",
    "print(max(animals))"
   ]
  },
  {
   "cell_type": "markdown",
   "metadata": {},
   "source": [
    "### Task 2\n",
    "\n",
    "Given a list of integers.\n",
    "\n",
    "Return a list, where the first element is the count of positive numbers and the second element is sum of negative numbers.\n",
    "\n",
    "For input [1, 2, 3, 4, 5, 6, 7, 8, 9, 10, -11, -12, -13, -14, -15], \n",
    "\n",
    "you should return [10, -65]\n",
    "\n",
    "Arrays:\n",
    "1. 0, 2, 3, 0, 5, 6, 7, 8, 9, 10, -11, -12, -13, -14  ([8,-50])\n",
    "2. 0,0,0,0,0,0,0,0,0  ([0,0])\n"
   ]
  },
  {
   "cell_type": "code",
   "execution_count": 11,
   "metadata": {},
   "outputs": [
    {
     "name": "stdout",
     "output_type": "stream",
     "text": [
      "[1, 2, 3, 4, 5, 6, 7, 8, 9, 10]\n",
      "[-11, -12, -13, -14, -15]\n",
      "10 -65\n"
     ]
    }
   ],
   "source": [
    "numbers = [1,2,3,4,5,6,7,8,9,10,-11,-12,-13,-14,-15]\n"
   ]
  },
  {
   "cell_type": "code",
   "execution_count": null,
   "metadata": {},
   "outputs": [],
   "source": [
    "arr = [1, 2, 3, 4, 5, 6, 7, 8, 9, 10, -11, -12, -13, -14, -15]\n"
   ]
  },
  {
   "cell_type": "markdown",
   "metadata": {},
   "source": [
    "### Task 3\n",
    "\n",
    "You are given a list containing strings, integers and floating point numbers. Split it into three lists so that one contains only strings, the other contains only integers, and the third contains only floating point numbers. Note that when checking types, the type name is written without quotes, for example int.\n",
    "\n",
    "Input:\n",
    "\n",
    "         List 1: [1, 2, 5.6, 7.5, 'Boo', 1, 'RocknRoll']\n",
    "\n",
    "Output:\n",
    "\n",
    "         List 1: [1, 2, 1]\n",
    "         \n",
    "         List 2: [5.6, 7.5]\n",
    "         \n",
    "         List 3: ['Boo', 'RocknRoll']"
   ]
  },
  {
   "cell_type": "code",
   "execution_count": null,
   "metadata": {},
   "outputs": [],
   "source": [
    "list1 = [1, 2, 5.6, 7.5, 'Boo', 1, 'RocknRoll']\n"
   ]
  },
  {
   "cell_type": "markdown",
   "metadata": {},
   "source": [
    "### Task 4\n",
    "\n",
    "You will be given an array which will have three values (tail, body, head). It is your job to re-arrange the array so that the animal is the right way round (head, body, tail).\n",
    "\n",
    "Same goes for all the other arrays/lists that you will get: you have to change the element positions with the same exact logics.\n",
    "\n",
    "1.[\"tail\", \"body\", \"head\"]), [\"head\", \"body\", \"tail\"])\n",
    "\n",
    "2.[\"tails\", \"body\", \"heads\"]), [\"heads\", \"body\", \"tails\"])\n",
    "\n",
    "3.[\"bottom\", \"middle\", \"top\"]), [\"top\", \"middle\", \"bottom\"])\n",
    "\n",
    "4.[\"lower legs\", \"torso\", \"upper legs\"]), [\"upper legs\", \"torso\", \"lower legs\"])\n",
    "\n",
    "5.[\"ground\", \"rainbow\", \"sky\"]), [\"sky\", \"rainbow\", \"ground\"])"
   ]
  },
  {
   "cell_type": "code",
   "execution_count": 76,
   "metadata": {},
   "outputs": [
    {
     "name": "stdout",
     "output_type": "stream",
     "text": [
      "['head', 'body', 'tail']\n"
     ]
    }
   ],
   "source": [
    "arr = [\"tail\", \"body\", \"head\"]\n"
   ]
  },
  {
   "cell_type": "markdown",
   "metadata": {},
   "source": [
    "### Task 5\n",
    "\n",
    "Complete the square sum function so that it squares each number passed into it and then sums the results together.\n",
    "\n",
    "For example, for [1, 2, 2] it should return 9 because 1^2 + 2^2 + 2^2 = 9.\n",
    "\n",
    "1.[0, 3, 4, 5]), 50)\n",
    "\n",
    "2. ([]), 0)\n",
    "\n",
    "3. ([-1,-2]), 5)\n",
    "\n",
    "4. ([-1,0,1]), 2)"
   ]
  },
  {
   "cell_type": "code",
   "execution_count": 78,
   "metadata": {},
   "outputs": [
    {
     "name": "stdout",
     "output_type": "stream",
     "text": [
      "2\n"
     ]
    }
   ],
   "source": [
    "numbers = [-1,0,1]\n"
   ]
  },
  {
   "cell_type": "code",
   "execution_count": 20,
   "metadata": {},
   "outputs": [
    {
     "name": "stdout",
     "output_type": "stream",
     "text": [
      "50\n"
     ]
    }
   ],
   "source": [
    "numbers = [0, 3, 4, 5]\n"
   ]
  },
  {
   "cell_type": "markdown",
   "metadata": {},
   "source": [
    "### Task 6\n",
    "\n",
    "\n",
    "Write a programme, which takes three arguments and generates a range of integers from min to max, with the step. The first integer is the minimum value, the second is the maximum of the range and the third is the step. (min < max)\n",
    "\n",
    "Input:\n",
    "minim = 2\n",
    "\n",
    "maxim = 10\n",
    "\n",
    "step = 2\n",
    "\n",
    "Output: [2,4,6,8,10]\n",
    "\n",
    "\n",
    "(1, 10, 3) # should return list of [1,4,7,10]\n",
    "\n",
    "(2, 10, 2) # should return array of [2, 4, 6, 8, 10]\n",
    "\n",
    "(1, 10, 3) # should return array of [1, 4, 7, 10]\n"
   ]
  },
  {
   "cell_type": "code",
   "execution_count": 43,
   "metadata": {},
   "outputs": [
    {
     "name": "stdout",
     "output_type": "stream",
     "text": [
      "[1, 4, 7, 10]\n"
     ]
    }
   ],
   "source": [
    "minim = 1\n",
    "maxim = 10\n"
   ]
  },
  {
   "cell_type": "markdown",
   "metadata": {},
   "source": [
    "### Task 7\n",
    "\n",
    "Given a sequence of numbers, find the largest pair sum in the sequence.\n",
    "\n",
    "For example\n",
    "\n",
    "[10, 14, 2, 23, 19] -->  42 (= 23 + 19)\n",
    "\n",
    "[99, 2, 2, 23, 19]  --> 122 (= 99 + 23)\n"
   ]
  },
  {
   "cell_type": "markdown",
   "metadata": {},
   "source": [
    "### Lists and strings \n",
    "\n",
    "To convert from a string to a list of\n",
    "characters, you can use ***list***:\n",
    "\n",
    ">s = 'spam'\n",
    "\n",
    ">t = list(s)\n",
    "\n",
    ">print(t)\n",
    "\n",
    "['s', 'p', 'a', 'm']\n",
    "\n",
    "The list function breaks a string into individual letters. If you want to break a\n",
    "string into words, you can use the ***split method***:\n",
    "\n",
    ">s = 'pining for the fjords'\n",
    "\n",
    ">t = s.split()\n",
    "\n",
    "> print(t)\n",
    "\n",
    "['pining', 'for', 'the', 'fjords']\n",
    "\n",
    ">print(t[2])\n",
    "\n",
    "the\n",
    "\n",
    "You can call split with an optional argument called a ***delimiter*** that specifies\n",
    "which characters to use as word boundaries. \n",
    "\n",
    "The following example uses a hyphen\n",
    "as a delimiter:\n",
    "\n",
    ">s = 'spam-spam-spam'\n",
    "\n",
    ">s.split('-')\n",
    "\n",
    "['spam', 'spam', 'spam']\n",
    "\n",
    "***Join*** is the inverse of ***split***. \n",
    "\n",
    "It takes a list of strings and concatenates the elements.\n",
    "\n",
    "***join*** is a string method, so you have to invoke it on the delimiter and pass the list\n",
    "as a parameter:\n",
    "\n",
    "\n",
    ">t = ['pining', 'for', 'the', 'fjords']\n",
    "\n",
    ">' '.join(t)\n",
    "\n",
    "'pining for the fjords'\n",
    "\n",
    "In this case the delimiter is a space character, so ***join*** puts a space between words.\n",
    "\n",
    "\n",
    "To concatenate strings without spaces, you can use the empty string, “”, as a\n",
    "delimiter."
   ]
  },
  {
   "cell_type": "code",
   "execution_count": 56,
   "metadata": {},
   "outputs": [
    {
     "name": "stdout",
     "output_type": "stream",
     "text": [
      "spam!spam!spam!"
     ]
    }
   ],
   "source": [
    "s = 'spam-spam-spam'\n",
    "t=s.split('-')\n",
    "print('!'.join(t),end=('!'))\n"
   ]
  },
  {
   "cell_type": "code",
   "execution_count": 35,
   "metadata": {},
   "outputs": [
    {
     "name": "stdout",
     "output_type": "stream",
     "text": [
      "['big', 'round', 'green']\n"
     ]
    },
    {
     "data": {
      "text/plain": [
       "list"
      ]
     },
     "execution_count": 35,
     "metadata": {},
     "output_type": "execute_result"
    }
   ],
   "source": [
    "k = 'big,round,green'\n",
    "k = k.split(',')\n",
    "print(k)\n",
    "type(k)\n",
    "\n"
   ]
  },
  {
   "cell_type": "code",
   "execution_count": 36,
   "metadata": {},
   "outputs": [
    {
     "data": {
      "text/plain": [
       "str"
      ]
     },
     "execution_count": 36,
     "metadata": {},
     "output_type": "execute_result"
    }
   ],
   "source": [
    "k = ' '.join(k)\n",
    "type(k)"
   ]
  },
  {
   "cell_type": "markdown",
   "metadata": {},
   "source": [
    "### Task 8\n",
    "\n",
    "Write a programme that accepts a string parameter, and reverses each word in the string. All spaces in the string should be retained.\n",
    "Examples\n",
    "\n",
    "\"This is an example!\" ==> \"sihT si na !elpmaxe\"\n",
    "\n",
    "\"double  spaces\"      ==> \"elbuod  secaps\"\n",
    "\n"
   ]
  },
  {
   "cell_type": "markdown",
   "metadata": {},
   "source": [
    "### Task 9\n",
    "\n",
    "You need to check the provided string for good ideas 'good' and bad ideas 'bad'. If there are one or two good ideas, return 'Publish!', if there are more than 2 return 'I smell a series!'. If there are no good ideas, as is often the case, return 'Fail!'.\n",
    "\n",
    "'bad', 'bad', 'bad', ------'Fail!'\n",
    "\n",
    "'good', 'bad', 'bad', 'bad', 'bad'------ 'Publish!'\n",
    "\n",
    "'good', 'bad', 'bad', 'bad', 'bad', 'good', 'bad', 'bad', 'good'------ 'I smell a series!'"
   ]
  },
  {
   "cell_type": "markdown",
   "metadata": {},
   "source": [
    "### Task 10\n",
    "\n",
    "INPUT FORMAT:\n",
    "\n",
    "     Two strings and number N - integer and positive\n",
    "     \n",
    " Determine whether the text contains the N-th word (numbering from 1) and display it. If there is no word, display \"There is no such word\"\n",
    "\n",
    "OUTPUT FORMAT:\n",
    "\n",
    "     Line, answer to the problem\n",
    "     \n",
    "**Example1:**\n",
    " \n",
    "Input 1: dog cat mouse\n",
    " \n",
    "Input 2:  parrot goose\n",
    "\n",
    "Input 3:  5\n",
    "\n",
    "Output:  goose\n",
    "\n",
    "**Example 2:**\n",
    "\n",
    "Input 1: dog cat mouse\n",
    " \n",
    "Input 2:  parrot goose\n",
    "\n",
    "Input 3:  6\n",
    "\n",
    "Output:  \"There is no such word\""
   ]
  },
  {
   "cell_type": "markdown",
   "metadata": {},
   "source": [
    "### 'Map' function\n",
    "\n",
    "**Map()** is a built-in function that allows you to process and transform all the items in an iterable without using an explicit for loop, a technique commonly known as ***mapping***. \n",
    "\n",
    "**map()** is useful when you need to apply a transformation function to each item in an iterable and transform them into a new iterable. \n",
    "\n",
    "You can use any built-in function with map(), provided that the function takes an argument and returns a value.\n",
    "\n",
    "For example, you have a list of numbers, initially all these numbers have a string data type, to work with them you need to convert them to an integer:\n",
    "\n",
    ">old_list = ['1', '2', '3', '4', '5', '6', '7']\n",
    "\n",
    "> new_list = list(map(int, old_list))\n",
    "\n",
    ">print (new_list)\n",
    "\n",
    ">[1, 2, 3, 4, 5, 6, 7]\n",
    "\n",
    "or\n",
    "\n",
    ">print(list(map(bool, [9, 0, 8, -288, 998, 0])))\n",
    "\n",
    ">[True, False, True, True, True, False]"
   ]
  },
  {
   "cell_type": "markdown",
   "metadata": {},
   "source": [
    "### Task 11\n",
    "\n",
    "Given a long number, return all the possible sum of two digits of it.\n",
    "\n",
    "For example, 12345: all possible sum of two digits from that number are:\n",
    "\n",
    "[ 1 + 2, 1 + 3, 1 + 4, 1 + 5, 2 + 3, 2 + 4, 2 + 5, 3 + 4, 3 + 5, 4 + 5 ]\n",
    "\n",
    "Therefore the result must be:\n",
    "\n",
    "[ 3, 4, 5, 6, 5, 6, 7, 7, 8, 9 ]\n",
    "\n",
    "(156), [ 6, 7, 11 ])\n",
    "\n",
    "(81596), [ 9, 13, 17, 14, 6, 10, 7, 14, 11, 15 ])\n",
    "\n",
    "3852 [ 11, 8, 5, 13, 10, 7 ])\n",
    "\n",
    "(3264128), [ 5, 9, 7, 4, 5, 11, 8, 6, 3, 4, 10, 10, 7, 8, 14, 5, 6, 12, 3, 9, 10 ])\n",
    "\n",
    "(999999), [ 18, 18, 18, 18, 18, 18, 18, 18, 18, 18, 18, 18, 18, 18, 18 ])"
   ]
  },
  {
   "cell_type": "code",
   "execution_count": 78,
   "metadata": {},
   "outputs": [
    {
     "name": "stdout",
     "output_type": "stream",
     "text": [
      "463782\n",
      "[4, 6, 3, 7, 8, 2]\n"
     ]
    }
   ],
   "source": [
    "num =input()\n",
    "num =list(map(int,num))\n",
    "print(num)"
   ]
  },
  {
   "cell_type": "markdown",
   "metadata": {},
   "source": [
    "### Task 12\n",
    "\n",
    "You have an integer array which was ordered by ascending except one number.\n",
    "\n",
    "\n",
    "You need to figure out the  breaker. Breaker is the item, when removed from sequence, sequence becomes ordered by ascending.\n",
    "\n",
    "For Example: [1,2,3,4,17,5,6,7,8] => 17 is the  breaker.\n",
    "\n",
    "For Example: [19,27,33,34,112,578,116,170,800] => 578 is the  breaker.\n",
    "    \n",
    "Output: the  breaker\n",
    "    \n"
   ]
  }
 ],
 "metadata": {
  "kernelspec": {
   "display_name": "Python 3",
   "language": "python",
   "name": "python3"
  },
  "language_info": {
   "codemirror_mode": {
    "name": "ipython",
    "version": 3
   },
   "file_extension": ".py",
   "mimetype": "text/x-python",
   "name": "python",
   "nbconvert_exporter": "python",
   "pygments_lexer": "ipython3",
   "version": "3.8.3"
  }
 },
 "nbformat": 4,
 "nbformat_minor": 4
}
