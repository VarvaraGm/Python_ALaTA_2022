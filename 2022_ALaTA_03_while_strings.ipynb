{
 "cells": [
  {
   "cell_type": "markdown",
   "metadata": {},
   "source": [
    "### The while statement  \n",
    "A common pattern in assignment statements is an assignment statement that updates\n",
    "a variable, where the new value of the variable depends on the old.\n",
    "\n",
    "x = x + 1 (x+=1)\n",
    "\n",
    "This means “get the current value of x, add 1, and then update x with the new\n",
    "value.”\n",
    "\n",
    "If you try to update a variable that doesn’t exist, you get an error, because Python\n",
    "evaluates the right side before it assigns a value to x:\n",
    "\n",
    "\n",
    "> x = x + 1 (x+=1)\n",
    "\n",
    "NameError: name 'x' is not defined\n",
    "\n",
    "\n",
    "Before you want to update a variable, you have to initialize it, usually with a simple\n",
    "assignment:\n",
    "\n",
    "x = 0\n",
    "\n",
    "x = x + 1\n",
    "\n",
    "Updating a variable by adding 1 is called an **increment**; subtracting 1 is called a\n",
    "**decrement**.\n",
    "\n",
    "\n"
   ]
  },
  {
   "cell_type": "code",
   "execution_count": 1,
   "metadata": {},
   "outputs": [
    {
     "name": "stdout",
     "output_type": "stream",
     "text": [
      "6\n"
     ]
    }
   ],
   "source": [
    "x = 0\n",
    "x+=1\n",
    "x+=2\n",
    "x+=3\n",
    "print(x)"
   ]
  },
  {
   "cell_type": "code",
   "execution_count": 2,
   "metadata": {},
   "outputs": [
    {
     "name": "stdout",
     "output_type": "stream",
     "text": [
      "0\n"
     ]
    }
   ],
   "source": [
    "x-=6\n",
    "print(x)"
   ]
  },
  {
   "cell_type": "code",
   "execution_count": 3,
   "metadata": {},
   "outputs": [
    {
     "ename": "NameError",
     "evalue": "name 'y' is not defined",
     "output_type": "error",
     "traceback": [
      "\u001b[1;31m---------------------------------------------------------------------------\u001b[0m",
      "\u001b[1;31mNameError\u001b[0m                                 Traceback (most recent call last)",
      "\u001b[1;32m<ipython-input-3-2f9f2805117d>\u001b[0m in \u001b[0;36m<module>\u001b[1;34m\u001b[0m\n\u001b[1;32m----> 1\u001b[1;33m \u001b[0my\u001b[0m\u001b[1;33m+=\u001b[0m\u001b[1;36m3\u001b[0m\u001b[1;33m\u001b[0m\u001b[1;33m\u001b[0m\u001b[0m\n\u001b[0m\u001b[0;32m      2\u001b[0m \u001b[0mprint\u001b[0m\u001b[1;33m(\u001b[0m\u001b[0my\u001b[0m\u001b[1;33m)\u001b[0m\u001b[1;33m\u001b[0m\u001b[1;33m\u001b[0m\u001b[0m\n",
      "\u001b[1;31mNameError\u001b[0m: name 'y' is not defined"
     ]
    }
   ],
   "source": [
    "y+=3\n",
    "print(y)"
   ]
  },
  {
   "cell_type": "markdown",
   "metadata": {},
   "source": [
    "In order to perform identical or similar tasks,updating the variables we use **while**.\n",
    "\n",
    "n = 5  \n",
    "while n > 0:  \n",
    ">print(n)  \n",
    "n = n - 1 \n",
    "\n",
    "print('Stop!')\n",
    "\n",
    "\n",
    "It means, “While\n",
    "n is greater than 0, display the value of n and then reduce the value of n by 1.\n",
    "When you get to 0, exit the while statement and display the word Stop!”"
   ]
  },
  {
   "cell_type": "code",
   "execution_count": 6,
   "metadata": {},
   "outputs": [
    {
     "name": "stdout",
     "output_type": "stream",
     "text": [
      "5\n",
      "4\n",
      "3\n",
      "2\n",
      "1\n",
      "Stop!\n"
     ]
    }
   ],
   "source": [
    "n = 5\n",
    "while n > 0:\n",
    "    print(n)\n",
    "    n -= 1\n",
    "print('Stop!')\n"
   ]
  },
  {
   "cell_type": "markdown",
   "metadata": {},
   "source": [
    "This type of flow is called ***a loop*** because the third step loops back around to the\n",
    "top. \n",
    "\n",
    "We call each time we execute the body of the loop ***an iteration***.  \n",
    "For the above loop, we would say, “It had five iterations”, which means that the body of the loop\n",
    "was executed five times.  \n",
    "\n",
    "The body of the loop should change the value of one or more variables so that\n",
    "eventually the condition becomes false and the loop terminates.  \n",
    "We call the variable\n",
    "that changes each time the loop executes and controls when the loop finishes\n",
    "***the iteration variable***.  \n",
    "If there is no iteration variable, the loop will repeat forever,\n",
    "resulting in ***an infinite loop***.\n",
    "\n"
   ]
  },
  {
   "cell_type": "code",
   "execution_count": 1,
   "metadata": {},
   "outputs": [
    {
     "name": "stdout",
     "output_type": "stream",
     "text": [
      "5\n",
      "6\n",
      "7\n",
      "5\n",
      "6\n",
      "7\n",
      "к\n",
      "у\n",
      "ц\n",
      "6\n"
     ]
    },
    {
     "ename": "KeyboardInterrupt",
     "evalue": "Interrupted by user",
     "output_type": "error",
     "traceback": [
      "\u001b[1;31m---------------------------------------------------------------------------\u001b[0m",
      "\u001b[1;31mKeyboardInterrupt\u001b[0m                         Traceback (most recent call last)",
      "\u001b[1;32m<ipython-input-1-771ee03f8cd0>\u001b[0m in \u001b[0;36m<module>\u001b[1;34m\u001b[0m\n\u001b[0;32m      1\u001b[0m \u001b[1;32mwhile\u001b[0m \u001b[1;32mTrue\u001b[0m\u001b[1;33m:\u001b[0m\u001b[1;33m\u001b[0m\u001b[1;33m\u001b[0m\u001b[0m\n\u001b[1;32m----> 2\u001b[1;33m     \u001b[0mx\u001b[0m \u001b[1;33m=\u001b[0m \u001b[0minput\u001b[0m\u001b[1;33m(\u001b[0m\u001b[1;33m)\u001b[0m\u001b[1;33m\u001b[0m\u001b[1;33m\u001b[0m\u001b[0m\n\u001b[0m",
      "\u001b[1;32m~\\anaconda3\\lib\\site-packages\\ipykernel\\kernelbase.py\u001b[0m in \u001b[0;36mraw_input\u001b[1;34m(self, prompt)\u001b[0m\n\u001b[0;32m    858\u001b[0m                 \u001b[1;34m\"raw_input was called, but this frontend does not support input requests.\"\u001b[0m\u001b[1;33m\u001b[0m\u001b[1;33m\u001b[0m\u001b[0m\n\u001b[0;32m    859\u001b[0m             )\n\u001b[1;32m--> 860\u001b[1;33m         return self._input_request(str(prompt),\n\u001b[0m\u001b[0;32m    861\u001b[0m             \u001b[0mself\u001b[0m\u001b[1;33m.\u001b[0m\u001b[0m_parent_ident\u001b[0m\u001b[1;33m,\u001b[0m\u001b[1;33m\u001b[0m\u001b[1;33m\u001b[0m\u001b[0m\n\u001b[0;32m    862\u001b[0m             \u001b[0mself\u001b[0m\u001b[1;33m.\u001b[0m\u001b[0m_parent_header\u001b[0m\u001b[1;33m,\u001b[0m\u001b[1;33m\u001b[0m\u001b[1;33m\u001b[0m\u001b[0m\n",
      "\u001b[1;32m~\\anaconda3\\lib\\site-packages\\ipykernel\\kernelbase.py\u001b[0m in \u001b[0;36m_input_request\u001b[1;34m(self, prompt, ident, parent, password)\u001b[0m\n\u001b[0;32m    902\u001b[0m             \u001b[1;32mexcept\u001b[0m \u001b[0mKeyboardInterrupt\u001b[0m\u001b[1;33m:\u001b[0m\u001b[1;33m\u001b[0m\u001b[1;33m\u001b[0m\u001b[0m\n\u001b[0;32m    903\u001b[0m                 \u001b[1;31m# re-raise KeyboardInterrupt, to truncate traceback\u001b[0m\u001b[1;33m\u001b[0m\u001b[1;33m\u001b[0m\u001b[1;33m\u001b[0m\u001b[0m\n\u001b[1;32m--> 904\u001b[1;33m                 \u001b[1;32mraise\u001b[0m \u001b[0mKeyboardInterrupt\u001b[0m\u001b[1;33m(\u001b[0m\u001b[1;34m\"Interrupted by user\"\u001b[0m\u001b[1;33m)\u001b[0m \u001b[1;32mfrom\u001b[0m \u001b[1;32mNone\u001b[0m\u001b[1;33m\u001b[0m\u001b[1;33m\u001b[0m\u001b[0m\n\u001b[0m\u001b[0;32m    905\u001b[0m             \u001b[1;32mexcept\u001b[0m \u001b[0mException\u001b[0m \u001b[1;32mas\u001b[0m \u001b[0me\u001b[0m\u001b[1;33m:\u001b[0m\u001b[1;33m\u001b[0m\u001b[1;33m\u001b[0m\u001b[0m\n\u001b[0;32m    906\u001b[0m                 \u001b[0mself\u001b[0m\u001b[1;33m.\u001b[0m\u001b[0mlog\u001b[0m\u001b[1;33m.\u001b[0m\u001b[0mwarning\u001b[0m\u001b[1;33m(\u001b[0m\u001b[1;34m\"Invalid Message:\"\u001b[0m\u001b[1;33m,\u001b[0m \u001b[0mexc_info\u001b[0m\u001b[1;33m=\u001b[0m\u001b[1;32mTrue\u001b[0m\u001b[1;33m)\u001b[0m\u001b[1;33m\u001b[0m\u001b[1;33m\u001b[0m\u001b[0m\n",
      "\u001b[1;31mKeyboardInterrupt\u001b[0m: Interrupted by user"
     ]
    }
   ],
   "source": [
    "while True:\n",
    "    x = input()"
   ]
  },
  {
   "cell_type": "markdown",
   "metadata": {},
   "source": [
    "### Task 1\n",
    "\n",
    "Given a number N. In ascending order, print all the squares of integers that are smaller or equal to N.\n",
    "\n",
    "INPUT FORMAT:\n",
    "\n",
    "     N is a positive integer.\n",
    "\n",
    "OUTPUT FORMAT:\n",
    "\n",
    "     Squares of integers not greater than (less than or equal to) N in ascending order.\n",
    "     "
   ]
  },
  {
   "cell_type": "code",
   "execution_count": null,
   "metadata": {},
   "outputs": [],
   "source": [
    "3  1 2      5   1 2 3 4 "
   ]
  },
  {
   "cell_type": "code",
   "execution_count": 41,
   "metadata": {},
   "outputs": [
    {
     "name": "stdout",
     "output_type": "stream",
     "text": [
      "3\n",
      "1\n",
      "2\n",
      "3\n",
      "3\n",
      "3\n"
     ]
    }
   ],
   "source": [
    "n=int(input())\n",
    "i=1\n",
    "s=0\n",
    "while i<n:\n",
    "    s+=i\n",
    "    print(s)\n",
    "    i+=1\n",
    "    print(i)\n",
    "print(s)"
   ]
  },
  {
   "cell_type": "code",
   "execution_count": 39,
   "metadata": {},
   "outputs": [
    {
     "name": "stdout",
     "output_type": "stream",
     "text": [
      "5\n",
      "1\n",
      "4\n"
     ]
    }
   ],
   "source": [
    "n=int(input())\n",
    "i=1\n",
    "while i**2<n:\n",
    "    print(i**2)\n",
    "    i+=1"
   ]
  },
  {
   "cell_type": "markdown",
   "metadata": {},
   "source": [
    "### Finishing iterations with **continue** and **break**\n",
    "The Python **break statement** stops the loop in which the statement is placed.\n"
   ]
  },
  {
   "cell_type": "code",
   "execution_count": 45,
   "metadata": {},
   "outputs": [
    {
     "name": "stdout",
     "output_type": "stream",
     "text": [
      "-4\n"
     ]
    }
   ],
   "source": [
    "x = int(input())\n",
    "while x > 0:\n",
    "    print ('Yes')\n",
    "    break\n",
    "    \n",
    "    \n",
    "\n",
    "    "
   ]
  },
  {
   "cell_type": "code",
   "execution_count": 44,
   "metadata": {},
   "outputs": [
    {
     "name": "stdout",
     "output_type": "stream",
     "text": [
      "1\n",
      "2\n",
      "5\n",
      "6\n",
      "4\n",
      "7\n",
      "5\n",
      "6\n",
      "10\n"
     ]
    }
   ],
   "source": [
    "while True:\n",
    "    x = input()\n",
    "    if x == '10':\n",
    "        break"
   ]
  },
  {
   "cell_type": "markdown",
   "metadata": {},
   "source": [
    "## Task (home assignment)\n",
    "prompt the user for a number (in a loop) and execute the loop till p == x"
   ]
  },
  {
   "cell_type": "code",
   "execution_count": 49,
   "metadata": {},
   "outputs": [
    {
     "name": "stdout",
     "output_type": "stream",
     "text": [
      "3\n"
     ]
    },
    {
     "ename": "KeyboardInterrupt",
     "evalue": "",
     "output_type": "error",
     "traceback": [
      "\u001b[1;31m---------------------------------------------------------------------------\u001b[0m",
      "\u001b[1;31mKeyboardInterrupt\u001b[0m                         Traceback (most recent call last)",
      "\u001b[1;32m<ipython-input-49-10d5766aeeda>\u001b[0m in \u001b[0;36m<module>\u001b[1;34m\u001b[0m\n\u001b[0;32m      2\u001b[0m \u001b[0mx\u001b[0m \u001b[1;33m=\u001b[0m \u001b[0mint\u001b[0m\u001b[1;33m(\u001b[0m\u001b[0minput\u001b[0m\u001b[1;33m(\u001b[0m\u001b[1;33m)\u001b[0m\u001b[1;33m)\u001b[0m\u001b[1;33m\u001b[0m\u001b[1;33m\u001b[0m\u001b[0m\n\u001b[0;32m      3\u001b[0m \u001b[1;32mwhile\u001b[0m \u001b[1;32mTrue\u001b[0m\u001b[1;33m:\u001b[0m\u001b[1;33m\u001b[0m\u001b[1;33m\u001b[0m\u001b[0m\n\u001b[1;32m----> 4\u001b[1;33m     \u001b[1;32mif\u001b[0m \u001b[0mp\u001b[0m \u001b[1;33m==\u001b[0m \u001b[0mx\u001b[0m\u001b[1;33m:\u001b[0m\u001b[1;33m\u001b[0m\u001b[1;33m\u001b[0m\u001b[0m\n\u001b[0m\u001b[0;32m      5\u001b[0m         \u001b[0mp\u001b[0m\u001b[1;33m+=\u001b[0m\u001b[1;36m1\u001b[0m\u001b[1;33m\u001b[0m\u001b[1;33m\u001b[0m\u001b[0m\n\u001b[0;32m      6\u001b[0m         \u001b[1;32mbreak\u001b[0m\u001b[1;33m\u001b[0m\u001b[1;33m\u001b[0m\u001b[0m\n",
      "\u001b[1;31mKeyboardInterrupt\u001b[0m: "
     ]
    }
   ],
   "source": [
    "p = 0\n",
    "x = int(input())\n",
    "while True:\n",
    "    if p == x:\n",
    "        p+=1\n",
    "        break\n",
    "  "
   ]
  },
  {
   "cell_type": "markdown",
   "metadata": {},
   "source": [
    "If you want to finish the current iteration and immediately jump to the next iteration you can use ***the continue\n",
    "statement*** to skip to the next iteration without finishing the body of the loop for the current iteration."
   ]
  },
  {
   "cell_type": "code",
   "execution_count": 50,
   "metadata": {},
   "outputs": [
    {
     "name": "stdout",
     "output_type": "stream",
     "text": [
      "-1\n",
      "0\n",
      "5\n",
      "5\n"
     ]
    }
   ],
   "source": [
    "while True:\n",
    "    x = int(input())\n",
    "    if x <=0:\n",
    "        continue\n",
    "    if x > 0:\n",
    "        break\n",
    "print(x)\n",
    "    "
   ]
  },
  {
   "cell_type": "code",
   "execution_count": 51,
   "metadata": {},
   "outputs": [
    {
     "name": "stdout",
     "output_type": "stream",
     "text": [
      "-1\n",
      "0\n",
      "0\n",
      "5\n",
      "5\n"
     ]
    }
   ],
   "source": [
    "while True:\n",
    "    x = int(input())\n",
    "    if x <=0:\n",
    "        continue\n",
    "    if x > 0:\n",
    "        print(x)\n",
    "    break\n",
    "\n",
    "    "
   ]
  },
  {
   "cell_type": "markdown",
   "metadata": {},
   "source": [
    "### Task 2 (home assignment)\n",
    "Given a non-negative integer as an input, return a string with a murmur: \"1 sheep...2 sheep...3 sheep...\". Input will always be valid, i.e. no negative integers.\n",
    "\n",
    "input(3),\n",
    "\n",
    "output:\n",
    "\n",
    "1 sheep...\n",
    "\n",
    "2 sheep...\n",
    "\n",
    "3 sheep...\n"
   ]
  },
  {
   "cell_type": "code",
   "execution_count": null,
   "metadata": {},
   "outputs": [],
   "source": []
  },
  {
   "cell_type": "markdown",
   "metadata": {},
   "source": [
    "### Task 3\n",
    "\n",
    "Write a program that finds the summation of every number from 1 to num. The number will always be a positive integer greater than 0.\n",
    "\n",
    "For example:\n",
    "\n",
    "summation(2) -> 3\n",
    "(1 + 2)\n",
    "\n",
    "summation(8) -> 36\n",
    "(1 + 2 + 3 + 4 + 5 + 6 + 7 + 8)\n"
   ]
  },
  {
   "cell_type": "markdown",
   "metadata": {},
   "source": [
    "# Task 4\n",
    "\n",
    "Prompt the user for 5 integers ( each on a new line) and then print the sum of these integers ( use 'while loop'). "
   ]
  },
  {
   "cell_type": "code",
   "execution_count": null,
   "metadata": {},
   "outputs": [],
   "source": []
  },
  {
   "cell_type": "markdown",
   "metadata": {},
   "source": [
    "### Strings\n",
    "\n",
    "fruit = 'orange'\n",
    "\n",
    "i = 0\n",
    "\n",
    "while i<len(fruit):\n",
    "    \n",
    "    print( fruit[i]) \n",
    "    \n",
    "    i+=1\n"
   ]
  },
  {
   "cell_type": "markdown",
   "metadata": {},
   "source": [
    "A string is a sequence of characters. You can access the characters one at a time with the bracket operator: [i]"
   ]
  },
  {
   "cell_type": "code",
   "execution_count": 33,
   "metadata": {},
   "outputs": [
    {
     "name": "stdout",
     "output_type": "stream",
     "text": [
      "e\n"
     ]
    }
   ],
   "source": [
    "fruit = 'orange'\n",
    "print( fruit[5]) "
   ]
  },
  {
   "cell_type": "markdown",
   "metadata": {},
   "source": [
    "The expression in brackets is called an **index**. The index indicates which character\n",
    "in the sequence you want.  \n",
    "In Python, the index is an offset from the beginning of the string, and the offset of the first letter\n",
    "is **zero**.  \n",
    "The value of the index has to be an integer"
   ]
  },
  {
   "cell_type": "code",
   "execution_count": 13,
   "metadata": {},
   "outputs": [
    {
     "name": "stdout",
     "output_type": "stream",
     "text": [
      "o\n",
      "r\n",
      "a\n",
      "n\n",
      "g\n",
      "e\n"
     ]
    }
   ],
   "source": [
    "fruit = 'orange'\n",
    "x=0\n",
    "while x<=5:\n",
    "    print(fruit[x])\n",
    "    x+=1"
   ]
  },
  {
   "cell_type": "markdown",
   "metadata": {},
   "source": [
    "# Task 5\n",
    "\n",
    "Prompt the user for a word\n",
    "\n",
    "Print each letter on a new line\n"
   ]
  },
  {
   "cell_type": "markdown",
   "metadata": {},
   "source": [
    "### *len* function  \n",
    "**len** is a built-in function that returns the number of characters in a string:  \n",
    ">fruit = 'orange'\n",
    "\n",
    ">print(len(fruit))\n",
    "\n",
    ">6\n",
    "\n",
    "Since we started counting at zero, the six letters are numbered 0 to 5. To get the last character, you have to subtract 1 from length:\n",
    "\n",
    "fruit [-1] \n",
    "\n",
    "The expression fruit[-1] yields the last letter, fruit[-2] yields the second to last, and so on."
   ]
  },
  {
   "cell_type": "code",
   "execution_count": 36,
   "metadata": {},
   "outputs": [
    {
     "name": "stdout",
     "output_type": "stream",
     "text": [
      "n\n"
     ]
    }
   ],
   "source": [
    "fruit = 'orange'\n",
    "print( fruit[-3])"
   ]
  },
  {
   "cell_type": "code",
   "execution_count": 41,
   "metadata": {},
   "outputs": [
    {
     "name": "stdout",
     "output_type": "stream",
     "text": [
      "e\n",
      "g\n",
      "n\n",
      "a\n",
      "r\n",
      "o\n"
     ]
    }
   ],
   "source": [
    "fruit = 'orange'\n",
    "i = -1\n",
    "while i>= -len(fruit): # -1 >= -6\n",
    "    print( fruit[i]) \n",
    "    i-=1"
   ]
  },
  {
   "cell_type": "markdown",
   "metadata": {},
   "source": [
    "### Task 6\n",
    "\n",
    "Write a while loop that starts at the last character in the string and works its way backwards to the first character in the string, printing each letter on a separate line.\n",
    "\n",
    "Use a different approach, not the one demonstrated above."
   ]
  },
  {
   "cell_type": "code",
   "execution_count": null,
   "metadata": {},
   "outputs": [],
   "source": []
  },
  {
   "cell_type": "markdown",
   "metadata": {},
   "source": [
    "# Task 7\n",
    "\n",
    "Prompt the user for a word\n",
    "\n",
    "Print two letters on a new line\n",
    "\n",
    "Example:\n",
    "\n",
    "word = \"orange\"\n",
    "\n",
    "output:\n",
    "\n",
    "or\n",
    "\n",
    "ra\n",
    "\n",
    "an\n",
    "\n",
    "ng\n",
    "\n",
    "ge"
   ]
  },
  {
   "cell_type": "code",
   "execution_count": null,
   "metadata": {},
   "outputs": [],
   "source": []
  },
  {
   "cell_type": "markdown",
   "metadata": {},
   "source": [
    "### String slices \n",
    "\n",
    "A segment of a string is called a slice. Selecting a slice is similar to selecting a\n",
    "character:\n",
    "\n",
    ">s = 'Monty Python'\n",
    "\n",
    ">print(s[0:5])\n",
    "\n",
    "Monty\n",
    "\n",
    ">print(s[6:12])\n",
    "\n",
    "Python\n",
    "\n",
    "The operator returns the part of the string from the “n-th” character to the “m-th”\n",
    "character, including the first but excluding the last.\n",
    "\n",
    "If you omit the first index (before the colon), the slice starts at the beginning of\n",
    "the string. If you omit the second index, the slice goes to the end of the string:\n",
    "\n",
    ">fruit = 'banana'\n",
    "\n",
    ">fruit[:3]\n",
    "\n",
    "'ban'\n",
    "\n",
    ">fruit[3:]\n",
    "\n",
    "'ana\n",
    "\n",
    "print (s [: 4]) # first four characters up to  number 4\n",
    "\n",
    "print (s [:]) # copy of the line\n",
    "\n",
    "print (s [: - 1]) # whole line except the last character\n",
    "\n",
    "print (s [:: 2]) # you can also select characters from a string with some step\n",
    "\n",
    "print (s [:: - 1]) # for example, using step -1 you can get the string in reverse\n",
    "\n"
   ]
  },
  {
   "cell_type": "code",
   "execution_count": 30,
   "metadata": {},
   "outputs": [
    {
     "name": "stdout",
     "output_type": "stream",
     "text": [
      "bnn\n",
      "aaa\n"
     ]
    }
   ],
   "source": [
    "s='banana'\n",
    "print (s [:: 2]) ### even indices\n",
    "print(s[1::2]) ### odd indices"
   ]
  },
  {
   "cell_type": "code",
   "execution_count": 9,
   "metadata": {},
   "outputs": [
    {
     "name": "stdout",
     "output_type": "stream",
     "text": [
      "oran\n",
      "orange\n",
      "orang\n",
      "oag\n",
      "egnaro\n"
     ]
    }
   ],
   "source": [
    "print(fruit[:4])\n",
    "print(fruit[:])\n",
    "print(fruit[:-1])\n",
    "print(fruit[::2])\n",
    "print(fruit[::-1])"
   ]
  },
  {
   "cell_type": "markdown",
   "metadata": {},
   "source": [
    "Strings are **immutable**, which means you can’t\n",
    "change an existing string. \n",
    "\n",
    "The best you can do is create a new string that is a\n",
    "variation on the original:\n",
    "\n",
    ">greeting = 'Hello, world!'\n",
    "\n",
    ">new_greeting = 'J' + greeting[1:]\n",
    "\n",
    ">print(new_greeting)\n",
    "\n",
    "Jello, world!\n",
    "\n",
    "This example concatenates a new first letter onto a slice of greeting. It has no\n",
    "effect on the original string."
   ]
  },
  {
   "cell_type": "code",
   "execution_count": 35,
   "metadata": {},
   "outputs": [
    {
     "name": "stdout",
     "output_type": "stream",
     "text": [
      "Hello,David!\n",
      "Hello, world!\n"
     ]
    }
   ],
   "source": [
    "greeting = 'Hello, world!'\n",
    "new_greeting = greeting[:6]+\"David\"+greeting[-1]\n",
    "print(new_greeting)\n",
    "print(greeting)\n"
   ]
  },
  {
   "cell_type": "markdown",
   "metadata": {},
   "source": [
    "### Task 8\n",
    "\n",
    "Given a string.\n",
    "\n",
    "    First, print the third character of this line (assuming that the numbering of characters starts from 1).\n",
    "    On the second line print the penultimate character of this line.\n",
    "    On the third line, print the first five characters of this line.\n",
    "    On the fourth line, print the entire line except for the last two characters.\n",
    "    On the fifth line print all characters with even indices (assuming that the indexing starts from 0).\n",
    "    On the sixth line print all characters with odd indices (assuming that the indexing starts from 0).\n",
    "    On the seventh line print all characters in reverse order.\n",
    "    On the eighth line, print all the characters of the string, one after another, in reverse order, starting with the last one.\n",
    "    On the ninth line print the length of the given string.\n",
    "\n",
    "Input:\n",
    "Abrakadabra\n",
    "\n",
    "Output:\n",
    "\n",
    "- r\n",
    "- r\n",
    "- Abrak\n",
    "- Abrakadab\n",
    "- Arkdba\n",
    "- baaar\n",
    "- arbadakarbA\n",
    "- abdkrA\n",
    "- 11"
   ]
  },
  {
   "cell_type": "code",
   "execution_count": null,
   "metadata": {},
   "outputs": [],
   "source": []
  },
  {
   "cell_type": "markdown",
   "metadata": {},
   "source": [
    "### Task 9\n",
    "\n",
    "You are going to be given a word. Your job is to return the middle character of the word. If the word's length is odd, return the middle character. If the word's length is even, return the middle 2 characters.\n",
    "\n",
    "#Examples:\n",
    "\n",
    ">(\"test\") should return \"es\"\n",
    "\n",
    ">(\"testing\") should return \"t\""
   ]
  },
  {
   "cell_type": "markdown",
   "metadata": {},
   "source": [
    "# Task 10\n",
    "\n",
    "given is a string. If the length of the string is less than 4 print \"too short!\"\n",
    "\n",
    "if it is greater  or equals  4 check if it is even or odd.\n",
    "\n",
    "in case it is even return the last character of the word\n",
    "\n",
    "in case it is odd - print the first one."
   ]
  },
  {
   "cell_type": "markdown",
   "metadata": {},
   "source": [
    "# Task 11\n",
    "You are going to be given a word. Your job is to attach the '!' to the middle character of the word. If the word's length is odd, return the middle character + '!'. If the word's length is even, return the middle 2 characters preceded and followed by \"!'.\n",
    "\n",
    "Examples:\n",
    "(\"test\") should return \"!es!\"\n",
    "\n",
    "(\"testing\") should return \"t!\"\n"
   ]
  },
  {
   "cell_type": "markdown",
   "metadata": {},
   "source": [
    "### The ***in*** operator\n",
    "\n",
    "The word ***in*** is a boolean operator that takes two strings and returns True if the\n",
    "first appears as a substring in the second:\n",
    "\n",
    ">'a' in 'banana'\n",
    "\n",
    "True\n",
    "\n",
    ">'seed' in 'banana'\n",
    "\n",
    "False"
   ]
  },
  {
   "cell_type": "code",
   "execution_count": 2,
   "metadata": {},
   "outputs": [
    {
     "name": "stdout",
     "output_type": "stream",
     "text": [
      "False\n"
     ]
    }
   ],
   "source": [
    "fruit = 'orange'\n",
    "if 'y' in fruit:\n",
    "    print('True')\n",
    "else:\n",
    "    print('False')"
   ]
  },
  {
   "cell_type": "markdown",
   "metadata": {},
   "source": [
    "### Looping and counting  \n",
    "The following program counts the number of times the letter “a” appears in a string:\n",
    "word = 'banana'\n",
    "\n",
    "count = 0\n",
    ">for letter in word:\n",
    ">>if letter == 'a':\n",
    ">>>count = count + 1\n",
    "\n",
    "print(count)\n",
    "\n",
    "This program demonstrates another pattern of computation called ***a counter***. The\n",
    "variable count is initialized to 0 and then incremented each time an “a” is found.\n",
    "When the loop exits, count contains the result: the total number of a’s."
   ]
  },
  {
   "cell_type": "code",
   "execution_count": 4,
   "metadata": {},
   "outputs": [
    {
     "name": "stdout",
     "output_type": "stream",
     "text": [
      "0\n"
     ]
    }
   ],
   "source": [
    "word = 'banana'\n",
    "count = 0\n",
    "for letter in word: ## for each character in 'banana'\n",
    "    if letter == 'y':\n",
    "        count = count + 1 ### count+=1\n",
    "print(count)\n"
   ]
  },
  {
   "cell_type": "code",
   "execution_count": 12,
   "metadata": {},
   "outputs": [
    {
     "name": "stdout",
     "output_type": "stream",
     "text": [
      "b\n",
      "a\n",
      "n\n",
      "a\n",
      "n\n",
      "a\n",
      ",\n",
      " \n",
      "s\n",
      "p\n",
      "l\n",
      "i\n",
      "t\n"
     ]
    }
   ],
   "source": [
    "word = 'banana, split'\n",
    "for letter in word:\n",
    "    print(letter)\n",
    "    if letter == 'split':\n",
    "        print('yes')\n",
    "\n"
   ]
  },
  {
   "cell_type": "code",
   "execution_count": 7,
   "metadata": {},
   "outputs": [
    {
     "name": "stdout",
     "output_type": "stream",
     "text": [
      "e\n",
      "e\n",
      "i\n",
      "3\n"
     ]
    }
   ],
   "source": [
    "word = 'the best thing'\n",
    "vowels = 'aeiuo'\n",
    "count = 0\n",
    "for i in word:\n",
    "    if i in vowels:\n",
    "        print(i)\n",
    "        count+=1\n",
    "print(count)"
   ]
  },
  {
   "cell_type": "markdown",
   "metadata": {},
   "source": [
    "### Task 12\n",
    "\n",
    " You need to check the provided array (x) for vowels. \n",
    " If the number of consonants is greater than the number of vowels:\n",
    "\n",
    " \n",
    " If there are one or two vowels, print 'Publish!', \n",
    " \n",
    " if there are more than 2 vowels 'I smell a series!'. \n",
    " \n",
    " If the number of consonants is less than the number of vowels: print 'Fail!'.\n",
    " \n",
    " Input:\n",
    " \n",
    " 'good', 'bad', 'bad', 'bad', 'bad'\n",
    " \n",
    " Output:\n",
    " \n",
    " 'Publish!'"
   ]
  },
  {
   "cell_type": "markdown",
   "metadata": {},
   "source": [
    "### String methods \n",
    "\n",
    "Python has a function called dir which lists the methods available for an object."
   ]
  },
  {
   "cell_type": "code",
   "execution_count": 53,
   "metadata": {},
   "outputs": [
    {
     "data": {
      "text/plain": [
       "['__add__',\n",
       " '__class__',\n",
       " '__contains__',\n",
       " '__delattr__',\n",
       " '__dir__',\n",
       " '__doc__',\n",
       " '__eq__',\n",
       " '__format__',\n",
       " '__ge__',\n",
       " '__getattribute__',\n",
       " '__getitem__',\n",
       " '__getnewargs__',\n",
       " '__gt__',\n",
       " '__hash__',\n",
       " '__init__',\n",
       " '__init_subclass__',\n",
       " '__iter__',\n",
       " '__le__',\n",
       " '__len__',\n",
       " '__lt__',\n",
       " '__mod__',\n",
       " '__mul__',\n",
       " '__ne__',\n",
       " '__new__',\n",
       " '__reduce__',\n",
       " '__reduce_ex__',\n",
       " '__repr__',\n",
       " '__rmod__',\n",
       " '__rmul__',\n",
       " '__setattr__',\n",
       " '__sizeof__',\n",
       " '__str__',\n",
       " '__subclasshook__',\n",
       " 'capitalize',\n",
       " 'casefold',\n",
       " 'center',\n",
       " 'count',\n",
       " 'encode',\n",
       " 'endswith',\n",
       " 'expandtabs',\n",
       " 'find',\n",
       " 'format',\n",
       " 'format_map',\n",
       " 'index',\n",
       " 'isalnum',\n",
       " 'isalpha',\n",
       " 'isascii',\n",
       " 'isdecimal',\n",
       " 'isdigit',\n",
       " 'isidentifier',\n",
       " 'islower',\n",
       " 'isnumeric',\n",
       " 'isprintable',\n",
       " 'isspace',\n",
       " 'istitle',\n",
       " 'isupper',\n",
       " 'join',\n",
       " 'ljust',\n",
       " 'lower',\n",
       " 'lstrip',\n",
       " 'maketrans',\n",
       " 'partition',\n",
       " 'replace',\n",
       " 'rfind',\n",
       " 'rindex',\n",
       " 'rjust',\n",
       " 'rpartition',\n",
       " 'rsplit',\n",
       " 'rstrip',\n",
       " 'split',\n",
       " 'splitlines',\n",
       " 'startswith',\n",
       " 'strip',\n",
       " 'swapcase',\n",
       " 'title',\n",
       " 'translate',\n",
       " 'upper',\n",
       " 'zfill']"
      ]
     },
     "execution_count": 53,
     "metadata": {},
     "output_type": "execute_result"
    }
   ],
   "source": [
    "line = 'banana'\n",
    "dir (line)"
   ]
  },
  {
   "cell_type": "markdown",
   "metadata": {},
   "source": [
    "Calling a method is similar to calling a function (it takes arguments and returns\n",
    "a value) but the syntax is different. \n",
    "\n",
    "We call a method by appending the method\n",
    "name to the variable name using the period as a delimiter.\n",
    "\n",
    "\n",
    "For example, the method ***upper*** takes a string and returns a new string with all\n",
    "uppercase letters:\n"
   ]
  },
  {
   "cell_type": "markdown",
   "metadata": {},
   "source": [
    ">line = 'banana'\n",
    "\n",
    ">new_line = line.upper()\n",
    "\n",
    "> print(new_line)\n",
    "\n",
    ">BANANA\n",
    "\n",
    "This form of dot notation specifies the name of the method, ***upper***, and the name\n",
    "of the string to apply the method to, ***line***. \n",
    "\n",
    "The empty parentheses indicate that\n",
    "this method takes no argument."
   ]
  },
  {
   "cell_type": "markdown",
   "metadata": {},
   "source": [
    "A string method named **find** that searches for the position\n",
    "of one string within another:  \n",
    ">word = 'banana' \n",
    "\n",
    ">index = word.find('a')\n",
    "\n",
    ">print(index)\n",
    "\n",
    "> 1\n",
    "\n",
    "In this example, we invoke **find** on word and pass the letter we are looking for as\n",
    "a parameter.\n",
    "\n",
    "Documentation on methods:\n",
    "\n",
    "https://docs.python.org/3/library/stdtypes.html#string-methods "
   ]
  },
  {
   "cell_type": "markdown",
   "metadata": {},
   "source": [
    "### Task 13\n",
    "\n",
    "Given a string, return a copy of the string with the vowels' case swapped.\n",
    "\n",
    "For this task, assume that vowels are in the set \"aeouiAEOUI\".\n",
    "\n",
    "Example: Given a string \"C is alive!\", your function should return \"C Is AlIvE!\"\n",
    "\n"
   ]
  },
  {
   "cell_type": "markdown",
   "metadata": {},
   "source": [
    "### Task 14\n",
    "\n",
    "Check to see if a string has the same amount of 'x's and 'o's. The method must return a boolean and be case insensitive. The string can contain any char.\n",
    "\n",
    "Examples input/output:\n",
    "\n",
    ">XO(\"ooxx\") => true\n",
    "\n",
    ">XO(\"xooxx\") => false\n",
    "\n",
    ">XO(\"ooxXm\") => true\n",
    "\n",
    ">XO(\"zpzpzpp\") => true // when no 'x' and 'o' is present should return true\n",
    "\n",
    ">XO(\"zzoo\") => false\n",
    "\n",
    "Use the methods: .lower() and .count()"
   ]
  },
  {
   "cell_type": "code",
   "execution_count": 20,
   "metadata": {},
   "outputs": [
    {
     "name": "stdout",
     "output_type": "stream",
     "text": [
      "1\n"
     ]
    }
   ],
   "source": [
    "st = \"orange\"\n",
    "print(st.count('n'))"
   ]
  },
  {
   "cell_type": "markdown",
   "metadata": {},
   "source": [
    "### Task 15\n",
    "\n",
    "Your task is to write a programme that takes the value of word and returns it with an \"i\" at the beginning of the word. For example we get the word \"Phone\", so we must return \"iPhone\". But we have a few rules:\n",
    "\n",
    "    The word should not begin with the letter \"I\", for example Inspire.\n",
    "    The number of vowels should not be greater than or equal to the number of consonants, for example East or Peace. (\"y\" is considered a consonant)\n",
    "    The first letter should not be lowercase, for example road.\n",
    "\n",
    "If the word does not meet the rules, we return \"Invalid word\".\n"
   ]
  },
  {
   "cell_type": "markdown",
   "metadata": {},
   "source": [
    "### Task 16\n",
    "Write a program to determine if a string contains only unique characters. Return true if it does and false otherwise."
   ]
  },
  {
   "cell_type": "code",
   "execution_count": 7,
   "metadata": {},
   "outputs": [
    {
     "name": "stdout",
     "output_type": "stream",
     "text": [
      "Give me the word:feel\n",
      "2\n",
      "2\n",
      "False\n"
     ]
    }
   ],
   "source": [
    "word = input(\"Give me the word:\")\n",
    "count = 0\n",
    "for i in word:\n",
    "    if word.count(i) > 1:\n",
    "        print(word.count(i))\n",
    "        count+=1\n",
    "    else:\n",
    "        pass\n",
    "if count == 0:\n",
    "    print(True)\n",
    "else:\n",
    "    print(False)"
   ]
  },
  {
   "cell_type": "markdown",
   "metadata": {},
   "source": [
    "### “Formatted string literals,” f-strings.\n",
    "\n",
    " f-strings are string literals that have an ***f*** at the beginning and curly braces containing expressions that will be replaced with their values. \n",
    " \n",
    "> name = \"Eric\"\n",
    "\n",
    ">age = 74\n",
    "\n",
    ">print(f\"Hello, {name}. You are {age}.\")\n",
    "\n",
    "\n",
    "'Hello, Eric. You are 74.'\n",
    "\n",
    "\n",
    "Also, when formatting strings, you can use the results of calculations and the results of the methods:\n"
   ]
  },
  {
   "cell_type": "code",
   "execution_count": 8,
   "metadata": {},
   "outputs": [
    {
     "name": "stdout",
     "output_type": "stream",
     "text": [
      "eric\n",
      "188\n",
      "Your name: Eric. Age: 32. Height: 6.2\n"
     ]
    }
   ],
   "source": [
    "name = input()\n",
    "height = int(input())\n",
    "print(f\"Your name: {name.capitalize()}. Age: {2020-1988}. Height: {height * 0.0328083992:.1f}\")"
   ]
  },
  {
   "cell_type": "code",
   "execution_count": 37,
   "metadata": {},
   "outputs": [
    {
     "name": "stdout",
     "output_type": "stream",
     "text": [
      "eric\n",
      "177\n",
      "Your name: eric. Height: 177\n"
     ]
    }
   ],
   "source": [
    "name = input()\n",
    "height = int(input())\n",
    "print(\"Your name:{}. Height:{}\".format (name,height))"
   ]
  },
  {
   "cell_type": "code",
   "execution_count": 39,
   "metadata": {},
   "outputs": [
    {
     "name": "stdout",
     "output_type": "stream",
     "text": [
      "eric\n",
      "44\n",
      "188\n",
      "Your name:Eric. Your age:44. Height:6.17\n"
     ]
    }
   ],
   "source": [
    "name = input().capitalize()\n",
    "age = input()\n",
    "height = int(input())* 0.0328083992\n",
    "print(\"Your name:{}. Your age:{}. Height:{:.2f}\".format (name,age,height))"
   ]
  }
 ],
 "metadata": {
  "kernelspec": {
   "display_name": "Python 3",
   "language": "python",
   "name": "python3"
  },
  "language_info": {
   "codemirror_mode": {
    "name": "ipython",
    "version": 3
   },
   "file_extension": ".py",
   "mimetype": "text/x-python",
   "name": "python",
   "nbconvert_exporter": "python",
   "pygments_lexer": "ipython3",
   "version": "3.8.3"
  }
 },
 "nbformat": 4,
 "nbformat_minor": 4
}
