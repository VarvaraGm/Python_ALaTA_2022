{
 "cells": [
  {
   "cell_type": "markdown",
   "metadata": {},
   "source": [
    "### Working Directory\n",
    "1. Check working directory ( place where the files and data of Jupyter are stored):\n",
    "\n",
    "%pwd\n",
    "\n",
    "2. CHANGE WORKING DIRECTORY \n",
    "\n",
    "%cd ‘C:\\abx\\cvh\\’\n",
    "\n",
    "**or** \n",
    "\n",
    "\n",
    "Open 'Anaconda Prompt' and run: jupyter notebook --generate-config.\n",
    "\n",
    "\n",
    "- This writes a file to C:\\Users\\username\\.jupyter\\jupyter_notebook_config. \n",
    "\n",
    "\n",
    "- Browse to the file location and open it in an Editor (Notepad ++)\n",
    "\n",
    "\n",
    "- Search for the following line in the file: #c.NotebookApp.notebook_dir = ''\n",
    "\n",
    "\n",
    "- Replace by c.NotebookApp.notebook_dir = ’C:/your/folder/’\n",
    "\n",
    "\n",
    "- Remove the # at the beginning of the line to allow the line to execute\n",
    "\n",
    "\n",
    "- Save and close the file\n",
    "\n"
   ]
  },
  {
   "cell_type": "code",
   "execution_count": 2,
   "metadata": {},
   "outputs": [
    {
     "data": {
      "text/plain": [
       "'C:\\\\Users\\\\julia'"
      ]
     },
     "execution_count": 2,
     "metadata": {},
     "output_type": "execute_result"
    }
   ],
   "source": [
    "%cd ‘C:\\abx\\cvh\\’"
   ]
  },
  {
   "cell_type": "code",
   "execution_count": 23,
   "metadata": {},
   "outputs": [
    {
     "name": "stdout",
     "output_type": "stream",
     "text": [
      "Hello\n",
      "1\n",
      "11fff\n",
      "2\n"
     ]
    }
   ],
   "source": [
    "print (\"Hello\")\n",
    "print(1)\n",
    "print ('1'+'1'+'fff')\n",
    "print (1+1)"
   ]
  },
  {
   "cell_type": "markdown",
   "metadata": {},
   "source": [
    "### Values and Types\n",
    "\n",
    "\n",
    "A **value** is one of the basic things a program works with, like a letter or a number.\n",
    "\n",
    "The values above are ***1, 2,3*** and ***“Hello, World!”***\n",
    "\n",
    "\n",
    "These values belong to different types: 2 is an **integer**, and “Hello, World!” is a\n",
    "**string**, so called because it contains a “string” of letters.\n",
    "\n",
    "Strings are enclosed in quotation marks.\n",
    "\n",
    "\n",
    "The print statement also works for integers. \n",
    "\n",
    "\n",
    "Python knows the difference between an integer number and a string.\n",
    "\n",
    "\n",
    "For example “+” means “addition” if something is a number and “concatenate” if something is a string. \n",
    "\n",
    "\n",
    "Python knows what “type” everything is. \n",
    "Some operations are prohibited:\n",
    "\n",
    "\n",
    "You cannot add integer \"1” to a string\n",
    "\n",
    "\n",
    "We can ask Python what type something is by using **the type() function**.\n",
    "\n"
   ]
  },
  {
   "cell_type": "code",
   "execution_count": 7,
   "metadata": {},
   "outputs": [
    {
     "data": {
      "text/plain": [
       "int"
      ]
     },
     "execution_count": 7,
     "metadata": {},
     "output_type": "execute_result"
    }
   ],
   "source": [
    "type(1)\n"
   ]
  },
  {
   "cell_type": "code",
   "execution_count": 9,
   "metadata": {},
   "outputs": [
    {
     "data": {
      "text/plain": [
       "str"
      ]
     },
     "execution_count": 9,
     "metadata": {},
     "output_type": "execute_result"
    }
   ],
   "source": [
    "type('hello')"
   ]
  },
  {
   "cell_type": "code",
   "execution_count": 7,
   "metadata": {},
   "outputs": [
    {
     "data": {
      "text/plain": [
       "str"
      ]
     },
     "execution_count": 7,
     "metadata": {},
     "output_type": "execute_result"
    }
   ],
   "source": [
    "k = 'nice'\n",
    "type (k)"
   ]
  },
  {
   "cell_type": "code",
   "execution_count": 6,
   "metadata": {},
   "outputs": [
    {
     "ename": "TypeError",
     "evalue": "can only concatenate str (not \"int\") to str",
     "output_type": "error",
     "traceback": [
      "\u001b[1;31m---------------------------------------------------------------------------\u001b[0m",
      "\u001b[1;31mTypeError\u001b[0m                                 Traceback (most recent call last)",
      "\u001b[1;32m<ipython-input-6-79dcf202a358>\u001b[0m in \u001b[0;36m<module>\u001b[1;34m\u001b[0m\n\u001b[1;32m----> 1\u001b[1;33m \u001b[0mprint\u001b[0m\u001b[1;33m(\u001b[0m\u001b[1;34m'Hello'\u001b[0m \u001b[1;33m+\u001b[0m\u001b[1;36m1\u001b[0m\u001b[1;33m)\u001b[0m\u001b[1;33m\u001b[0m\u001b[1;33m\u001b[0m\u001b[0m\n\u001b[0m\u001b[0;32m      2\u001b[0m \u001b[0mprint\u001b[0m\u001b[1;33m(\u001b[0m\u001b[1;36m1\u001b[0m\u001b[1;33m+\u001b[0m\u001b[1;36m2\u001b[0m\u001b[1;33m)\u001b[0m\u001b[1;33m\u001b[0m\u001b[1;33m\u001b[0m\u001b[0m\n",
      "\u001b[1;31mTypeError\u001b[0m: can only concatenate str (not \"int\") to str"
     ]
    }
   ],
   "source": [
    "print('Hello' +1)\n"
   ]
  },
  {
   "cell_type": "code",
   "execution_count": 1,
   "metadata": {},
   "outputs": [
    {
     "name": "stdout",
     "output_type": "stream",
     "text": [
      "3\n"
     ]
    }
   ],
   "source": [
    "print(1+2)"
   ]
  },
  {
   "cell_type": "code",
   "execution_count": 2,
   "metadata": {},
   "outputs": [
    {
     "data": {
      "text/plain": [
       "'nice'"
      ]
     },
     "execution_count": 2,
     "metadata": {},
     "output_type": "execute_result"
    }
   ],
   "source": [
    "\"ni\"+'ce'"
   ]
  },
  {
   "cell_type": "markdown",
   "metadata": {},
   "source": [
    "### Several Types of Numbers\n",
    "\n",
    "Numbers have two main types\n",
    "\n",
    "-  **Integers** are whole numbers: \u000b",
    "   -14, -2, 0, 1, 100, 401233\n",
    "\n",
    "\n",
    "-  **Floating Point Numbers** have  decimal parts:  -2.5 , 0.0, 98.6, 14.0\n",
    "\n",
    "\n",
    "There are other number types - they are variations on float and integer\n"
   ]
  },
  {
   "cell_type": "code",
   "execution_count": 11,
   "metadata": {},
   "outputs": [
    {
     "name": "stdout",
     "output_type": "stream",
     "text": [
      "<class 'int'>\n",
      "<class 'int'>\n"
     ]
    }
   ],
   "source": [
    "y = 2\n",
    "print(type(2))\n",
    "print(type(y))"
   ]
  },
  {
   "cell_type": "markdown",
   "metadata": {},
   "source": [
    "When you put an integer and floating point in an expression, the integer is implicitly converted to a float\n",
    "\n",
    "You can control this with the built-in functions int() and float()\n"
   ]
  },
  {
   "cell_type": "code",
   "execution_count": 3,
   "metadata": {},
   "outputs": [
    {
     "data": {
      "text/plain": [
       "42.0"
      ]
     },
     "execution_count": 3,
     "metadata": {},
     "output_type": "execute_result"
    }
   ],
   "source": [
    "float(42)"
   ]
  },
  {
   "cell_type": "code",
   "execution_count": 37,
   "metadata": {},
   "outputs": [
    {
     "name": "stdout",
     "output_type": "stream",
     "text": [
      "42.0\n"
     ]
    },
    {
     "data": {
      "text/plain": [
       "float"
      ]
     },
     "execution_count": 37,
     "metadata": {},
     "output_type": "execute_result"
    }
   ],
   "source": [
    "x = float(42)\n",
    "print(x)\n",
    "type(x)"
   ]
  },
  {
   "cell_type": "code",
   "execution_count": 4,
   "metadata": {},
   "outputs": [
    {
     "data": {
      "text/plain": [
       "3"
      ]
     },
     "execution_count": 4,
     "metadata": {},
     "output_type": "execute_result"
    }
   ],
   "source": [
    "int(3.0)"
   ]
  },
  {
   "cell_type": "code",
   "execution_count": 13,
   "metadata": {},
   "outputs": [
    {
     "data": {
      "text/plain": [
       "int"
      ]
     },
     "execution_count": 13,
     "metadata": {},
     "output_type": "execute_result"
    }
   ],
   "source": [
    "i = 42\n",
    "type(i)\n",
    "\n",
    "\n"
   ]
  },
  {
   "cell_type": "code",
   "execution_count": 14,
   "metadata": {},
   "outputs": [
    {
     "name": "stdout",
     "output_type": "stream",
     "text": [
      "42.0\n"
     ]
    },
    {
     "data": {
      "text/plain": [
       "float"
      ]
     },
     "execution_count": 14,
     "metadata": {},
     "output_type": "execute_result"
    }
   ],
   "source": [
    "f = float(i) ### i = 42, f=float(42)\n",
    "print(f)\n",
    "type(f)"
   ]
  },
  {
   "cell_type": "code",
   "execution_count": 6,
   "metadata": {},
   "outputs": [
    {
     "data": {
      "text/plain": [
       "int"
      ]
     },
     "execution_count": 6,
     "metadata": {},
     "output_type": "execute_result"
    }
   ],
   "source": [
    "a = 1\n",
    "type(a)"
   ]
  },
  {
   "cell_type": "code",
   "execution_count": 25,
   "metadata": {},
   "outputs": [
    {
     "name": "stdout",
     "output_type": "stream",
     "text": [
      "1\n"
     ]
    },
    {
     "ename": "TypeError",
     "evalue": "unsupported operand type(s) for +: 'int' and 'str'",
     "output_type": "error",
     "traceback": [
      "\u001b[1;31m---------------------------------------------------------------------------\u001b[0m",
      "\u001b[1;31mTypeError\u001b[0m                                 Traceback (most recent call last)",
      "\u001b[1;32m<ipython-input-25-f7417028180c>\u001b[0m in \u001b[0;36m<module>\u001b[1;34m\u001b[0m\n\u001b[0;32m      3\u001b[0m \u001b[0mtype\u001b[0m\u001b[1;33m(\u001b[0m\u001b[0mb\u001b[0m\u001b[1;33m)\u001b[0m\u001b[1;33m\u001b[0m\u001b[1;33m\u001b[0m\u001b[0m\n\u001b[0;32m      4\u001b[0m \u001b[0mprint\u001b[0m\u001b[1;33m(\u001b[0m\u001b[0mb\u001b[0m\u001b[1;33m)\u001b[0m\u001b[1;33m\u001b[0m\u001b[1;33m\u001b[0m\u001b[0m\n\u001b[1;32m----> 5\u001b[1;33m \u001b[0mprint\u001b[0m\u001b[1;33m(\u001b[0m\u001b[0ma\u001b[0m\u001b[1;33m+\u001b[0m\u001b[0mb\u001b[0m\u001b[1;33m)\u001b[0m\u001b[1;33m\u001b[0m\u001b[1;33m\u001b[0m\u001b[0m\n\u001b[0m",
      "\u001b[1;31mTypeError\u001b[0m: unsupported operand type(s) for +: 'int' and 'str'"
     ]
    }
   ],
   "source": [
    "a =1\n",
    "b = str(a) ### b = str (1)\n",
    "type(b)\n",
    "print(b)\n",
    "print(a+b)\n"
   ]
  },
  {
   "cell_type": "code",
   "execution_count": 29,
   "metadata": {},
   "outputs": [
    {
     "name": "stdout",
     "output_type": "stream",
     "text": [
      "8.0\n",
      "8.0\n"
     ]
    },
    {
     "data": {
      "text/plain": [
       "str"
      ]
     },
     "execution_count": 29,
     "metadata": {},
     "output_type": "execute_result"
    }
   ],
   "source": [
    "a =8\n",
    "type(a)\n",
    "a = float(a)\n",
    "print(a)\n",
    "a = str(a)\n",
    "print(a)\n",
    "type(a)"
   ]
  },
  {
   "cell_type": "code",
   "execution_count": 9,
   "metadata": {},
   "outputs": [
    {
     "name": "stdout",
     "output_type": "stream",
     "text": [
      "1\n",
      "11\n"
     ]
    }
   ],
   "source": [
    "b=\"1\"\n",
    "print(b)\n",
    "print('1'+ b)  ### \"1\" and b - strings. That is why concatenation occurs, when two strings merge into one. "
   ]
  },
  {
   "cell_type": "code",
   "execution_count": 11,
   "metadata": {},
   "outputs": [
    {
     "name": "stdout",
     "output_type": "stream",
     "text": [
      "2\n"
     ]
    }
   ],
   "source": [
    "print (1+int(b)) # 1+1"
   ]
  },
  {
   "cell_type": "markdown",
   "metadata": {},
   "source": [
    "### Numeric Expressions\n",
    "\n",
    "\n",
    "'+'  Addition\n",
    "\n",
    "'-'\tSubtraction\n",
    "\n",
    "'*'\tMultiplication\n",
    "\n",
    "\n",
    "'/'\tDivision\n",
    "\n",
    "\n",
    "'**' Power\n",
    "\n",
    "\n",
    "'%'\tRemainder (always non-negative)\n"
   ]
  },
  {
   "cell_type": "code",
   "execution_count": 15,
   "metadata": {},
   "outputs": [
    {
     "name": "stdout",
     "output_type": "stream",
     "text": [
      "1\n"
     ]
    }
   ],
   "source": [
    "print(7 % 3) ### 7 - (3*2) остаток от целочисленного деления (remainder of integer division)"
   ]
  },
  {
   "cell_type": "code",
   "execution_count": 30,
   "metadata": {},
   "outputs": [
    {
     "data": {
      "text/plain": [
       "1"
      ]
     },
     "execution_count": 30,
     "metadata": {},
     "output_type": "execute_result"
    }
   ],
   "source": [
    "11%2"
   ]
  },
  {
   "cell_type": "code",
   "execution_count": 31,
   "metadata": {},
   "outputs": [
    {
     "data": {
      "text/plain": [
       "4"
      ]
     },
     "execution_count": 31,
     "metadata": {},
     "output_type": "execute_result"
    }
   ],
   "source": [
    "199%5"
   ]
  },
  {
   "cell_type": "code",
   "execution_count": 17,
   "metadata": {},
   "outputs": [
    {
     "name": "stdout",
     "output_type": "stream",
     "text": [
      "4.75\n",
      "4.0\n"
     ]
    }
   ],
   "source": [
    "print(9.5 / 2)  \n",
    "print(9.5 // 2) # '//' Special operation to stick with integers. It returns an integer answer,\n",
    "              #rounded strictly down in case of fractional answers."
   ]
  },
  {
   "cell_type": "code",
   "execution_count": 34,
   "metadata": {},
   "outputs": [
    {
     "name": "stdout",
     "output_type": "stream",
     "text": [
      "3.3333333333333335\n",
      "3\n"
     ]
    }
   ],
   "source": [
    "print(10/3)\n",
    "print(10//3)"
   ]
  },
  {
   "cell_type": "code",
   "execution_count": 35,
   "metadata": {},
   "outputs": [
    {
     "data": {
      "text/plain": [
       "19"
      ]
     },
     "execution_count": 35,
     "metadata": {},
     "output_type": "execute_result"
    }
   ],
   "source": [
    "139//7"
   ]
  },
  {
   "cell_type": "markdown",
   "metadata": {},
   "source": [
    "### Order of Evaluation\n",
    "\n",
    "When we string operators together - Python must know which one to do first\n",
    "\n",
    "This is called “operator precedence”\n",
    "\n",
    "Which operator “takes precedence” over the others?\n",
    "\n",
    "x = 1 + 2 ** 3 / 4 * 5\n",
    "\n",
    "Highest precedence rule to lowest precedence rule:\n",
    "\n",
    "Parentheses are always respected\n",
    "\n",
    "Exponentiation (raise to a power)\n",
    "\n",
    "Multiplication, Division, and Remainder\n",
    "\n",
    "Addition and Subtraction\n",
    "\n",
    "Left to right\n",
    "\n",
    "\n"
   ]
  },
  {
   "cell_type": "code",
   "execution_count": 24,
   "metadata": {},
   "outputs": [
    {
     "name": "stdout",
     "output_type": "stream",
     "text": [
      "11.0\n"
     ]
    }
   ],
   "source": [
    "x = 1 + 2 ** 3 / 4 * 5\n",
    "print (x)"
   ]
  },
  {
   "cell_type": "markdown",
   "metadata": {},
   "source": [
    "### Converting between types\n",
    "\n",
    "**int()**     converts anything to integer\n",
    "\n",
    "**float()**    converts anything to floating point number\n",
    "\n",
    "**str()**      converts anything to string\n",
    "\n"
   ]
  },
  {
   "cell_type": "code",
   "execution_count": 18,
   "metadata": {},
   "outputs": [
    {
     "name": "stdout",
     "output_type": "stream",
     "text": [
      "5\n",
      "7\n",
      "5\n",
      "5.0\n"
     ]
    }
   ],
   "source": [
    "x = int('5')\n",
    "print(x)\n",
    "print(2 + int('5'))\n",
    "print(str(5))\n",
    "print(float(5))"
   ]
  },
  {
   "cell_type": "code",
   "execution_count": 40,
   "metadata": {},
   "outputs": [
    {
     "name": "stdout",
     "output_type": "stream",
     "text": [
      "<class 'str'>\n"
     ]
    }
   ],
   "source": [
    "print(type(str(5647)))\n"
   ]
  },
  {
   "cell_type": "code",
   "execution_count": 24,
   "metadata": {},
   "outputs": [
    {
     "data": {
      "text/plain": [
       "str"
      ]
     },
     "execution_count": 24,
     "metadata": {},
     "output_type": "execute_result"
    }
   ],
   "source": [
    "x = str(5647)\n",
    "type(x)"
   ]
  },
  {
   "cell_type": "code",
   "execution_count": 42,
   "metadata": {},
   "outputs": [
    {
     "name": "stdout",
     "output_type": "stream",
     "text": [
      "4\n"
     ]
    },
    {
     "data": {
      "text/plain": [
       "str"
      ]
     },
     "execution_count": 42,
     "metadata": {},
     "output_type": "execute_result"
    }
   ],
   "source": [
    "a = str(1+3)  \n",
    "print(a)\n",
    "type(a)"
   ]
  },
  {
   "cell_type": "markdown",
   "metadata": {},
   "source": [
    "### Task\n",
    "\n",
    "Given are an integer 5 and a string '55':\n",
    "\n",
    "1. convert a string into an integer\n",
    "2. find the sum of both integers\n"
   ]
  },
  {
   "cell_type": "code",
   "execution_count": 43,
   "metadata": {},
   "outputs": [
    {
     "name": "stdout",
     "output_type": "stream",
     "text": [
      "60\n"
     ]
    }
   ],
   "source": [
    "a = 5\n",
    "b = int('55')\n",
    "print(a+b)"
   ]
  },
  {
   "cell_type": "code",
   "execution_count": 44,
   "metadata": {},
   "outputs": [
    {
     "name": "stdout",
     "output_type": "stream",
     "text": [
      "60\n"
     ]
    }
   ],
   "source": [
    "print(5+int('55'))"
   ]
  },
  {
   "cell_type": "markdown",
   "metadata": {},
   "source": [
    "# Task\n",
    "\n",
    "Given are two integers - 7 and 7\n",
    "1. covert integers into strings\n",
    "2. concatenate two strings"
   ]
  },
  {
   "cell_type": "code",
   "execution_count": 45,
   "metadata": {},
   "outputs": [
    {
     "name": "stdout",
     "output_type": "stream",
     "text": [
      "77\n"
     ]
    }
   ],
   "source": [
    "print(str(7)+str(7))\n"
   ]
  },
  {
   "cell_type": "code",
   "execution_count": 46,
   "metadata": {},
   "outputs": [
    {
     "name": "stdout",
     "output_type": "stream",
     "text": [
      "14\n"
     ]
    }
   ],
   "source": [
    "print (str (7+7))"
   ]
  },
  {
   "cell_type": "markdown",
   "metadata": {},
   "source": [
    "### User Input\n",
    "\n",
    "We can instruct Python to pause and read data from the user using **the input()  function.\n",
    "\n",
    "!!! The input()  function returns a string !!!\n"
   ]
  },
  {
   "cell_type": "code",
   "execution_count": 47,
   "metadata": {},
   "outputs": [
    {
     "name": "stdout",
     "output_type": "stream",
     "text": [
      "Who are you? Julia\n",
      "Welcome, Julia!\n"
     ]
    }
   ],
   "source": [
    "name = input('Who are you? ')\n",
    "print('Welcome,', name + '!')"
   ]
  },
  {
   "cell_type": "code",
   "execution_count": 48,
   "metadata": {},
   "outputs": [
    {
     "name": "stdout",
     "output_type": "stream",
     "text": [
      "fg\n"
     ]
    }
   ],
   "source": [
    "x = input()"
   ]
  },
  {
   "cell_type": "code",
   "execution_count": 49,
   "metadata": {},
   "outputs": [
    {
     "name": "stdout",
     "output_type": "stream",
     "text": [
      "1\n"
     ]
    },
    {
     "data": {
      "text/plain": [
       "int"
      ]
     },
     "execution_count": 49,
     "metadata": {},
     "output_type": "execute_result"
    }
   ],
   "source": [
    "x = int(input())\n",
    "type(x)"
   ]
  },
  {
   "cell_type": "code",
   "execution_count": 50,
   "metadata": {},
   "outputs": [
    {
     "name": "stdout",
     "output_type": "stream",
     "text": [
      "1\n"
     ]
    },
    {
     "data": {
      "text/plain": [
       "str"
      ]
     },
     "execution_count": 50,
     "metadata": {},
     "output_type": "execute_result"
    }
   ],
   "source": [
    "x = input()\n",
    "type(x)"
   ]
  },
  {
   "cell_type": "markdown",
   "metadata": {},
   "source": [
    "### Converting User Input\n",
    "If we want to read a number from the user, we must convert it from a string to a number using a type conversion function.\n"
   ]
  },
  {
   "cell_type": "code",
   "execution_count": 51,
   "metadata": {},
   "outputs": [
    {
     "name": "stdout",
     "output_type": "stream",
     "text": [
      "Distance in km? 100\n",
      "Distance in miles 62.13711922373339\n"
     ]
    }
   ],
   "source": [
    "eu = input ('Distance in km? ')\n",
    "us = int(eu)/ 1.609344 \n",
    "print ('Distance in miles', us)"
   ]
  },
  {
   "cell_type": "code",
   "execution_count": 52,
   "metadata": {},
   "outputs": [
    {
     "name": "stdout",
     "output_type": "stream",
     "text": [
      "Distance in km? 100\n",
      "Distance in miles 62.13711922373339\n"
     ]
    }
   ],
   "source": [
    "eu = int(input ('Distance in km? '))\n",
    "us = eu/ 1.609344 \n",
    "print ('Distance in miles', us)"
   ]
  },
  {
   "cell_type": "markdown",
   "metadata": {},
   "source": [
    "### Task\n",
    "\n",
    "Write a program to prompt the user for hours and rate per hour to compute gross pay.\n",
    "\n",
    "Enter Hours: 35\n",
    "\n",
    "Enter Rate: 2.75 \n",
    "\n",
    "Pay: 96.25\n"
   ]
  },
  {
   "cell_type": "code",
   "execution_count": 56,
   "metadata": {},
   "outputs": [
    {
     "name": "stdout",
     "output_type": "stream",
     "text": [
      "Enter Hours:1\n",
      "Enter Rate:1\n",
      "Pay 1.0\n"
     ]
    }
   ],
   "source": [
    "hours = int (input ('Enter Hours:'))\n",
    "rate = float (input ('Enter Rate:'))\n",
    "pay = hours*rate\n",
    "print('Pay', pay)"
   ]
  },
  {
   "cell_type": "code",
   "execution_count": 57,
   "metadata": {},
   "outputs": [
    {
     "name": "stdout",
     "output_type": "stream",
     "text": [
      "Enter Hours:10\n",
      "Enter Rate:10.5\n",
      "Pay 105.0\n"
     ]
    }
   ],
   "source": [
    "hours = int (input ('Enter Hours:'))\n",
    "rate = float (input ('Enter Rate:'))\n",
    "print('Pay', hours*rate)"
   ]
  },
  {
   "cell_type": "markdown",
   "metadata": {},
   "source": [
    "### Task\n",
    "\n",
    "Write a program that asks the user from the keyboard his height in centimeters, his weight in kilograms (each indicator - a new line, in a new query) and returns the following message:\n",
    "\n",
    "Body mass index: [value].\n",
    "\n",
    "where  [value] is the calculated value of the body mass index.\n",
    "\n",
    "The body mass index is calculated in the following way:\n",
    "\n",
    "BMI=m/h2\n",
    "\n",
    "where m is body weight in kilograms, h is height in meters."
   ]
  },
  {
   "cell_type": "code",
   "execution_count": 64,
   "metadata": {},
   "outputs": [
    {
     "name": "stdout",
     "output_type": "stream",
     "text": [
      "Enter your height in cm 176\n",
      "Enter your weight in kg 77.8\n",
      "Body mass index 25.116219008264462\n"
     ]
    }
   ],
   "source": [
    "height = float (input (\"Enter your height in cm \"))/100\n",
    "w=float (input (\"Enter your weight in kg \"))\n",
    "print('Body mass index', w/height**2)"
   ]
  },
  {
   "cell_type": "code",
   "execution_count": 65,
   "metadata": {},
   "outputs": [
    {
     "name": "stdout",
     "output_type": "stream",
     "text": [
      "Write your weight in kilograms 1\n",
      "Write your height in metres 1\n",
      "Body mass index: 1.0\n"
     ]
    }
   ],
   "source": [
    "m = float(input('Write your weight in kilograms '))\n",
    "h = float(input('Write your height in metres '))\n",
    "value = m/h**2\n",
    "print('Body mass index:', value)"
   ]
  }
 ],
 "metadata": {
  "kernelspec": {
   "display_name": "Python 3",
   "language": "python",
   "name": "python3"
  },
  "language_info": {
   "codemirror_mode": {
    "name": "ipython",
    "version": 3
   },
   "file_extension": ".py",
   "mimetype": "text/x-python",
   "name": "python",
   "nbconvert_exporter": "python",
   "pygments_lexer": "ipython3",
   "version": "3.8.3"
  }
 },
 "nbformat": 4,
 "nbformat_minor": 4
}
