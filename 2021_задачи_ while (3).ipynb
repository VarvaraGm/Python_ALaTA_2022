{
 "cells": [
  {
   "cell_type": "code",
   "execution_count": 5,
   "metadata": {},
   "outputs": [
    {
     "name": "stdout",
     "output_type": "stream",
     "text": [
      "0\n"
     ]
    }
   ],
   "source": [
    "n = int(input())\n",
    "i = 1\n",
    "while i ** 2 <= n:\n",
    "    print(i ** 2)\n",
    "    i += 1"
   ]
  },
  {
   "cell_type": "code",
   "execution_count": 3,
   "metadata": {},
   "outputs": [],
   "source": [
    "Given a non-negative integer, 3 for example, return a string with a murmur: \"1 sheep...2 sheep...3 sheep...\". Input will always be valid, i.e. no negative integers.\n",
    "x=1\n",
    "n = int(input())\n",
    "while x<=n:\n",
    "    print( x, 'sheep...')\n",
    "    x+=1"
   ]
  },
  {
   "cell_type": "code",
   "execution_count": 4,
   "metadata": {},
   "outputs": [
    {
     "name": "stdout",
     "output_type": "stream",
     "text": [
      "100\n",
      "5050\n"
     ]
    }
   ],
   "source": [
    "\n",
    "num = int(input())\n",
    "fac = 0 \n",
    "i = 0 \n",
    "while i < num:\n",
    "    i += 1\n",
    "    fac = fac + i\n",
    "print (fac)"
   ]
  },
  {
   "cell_type": "code",
   "execution_count": 6,
   "metadata": {},
   "outputs": [
    {
     "name": "stdout",
     "output_type": "stream",
     "text": [
      "6\n",
      "oag\n"
     ]
    }
   ],
   "source": [
    "fruit = 'orange'\n",
    "print(len(fruit))\n",
    "print (fruit[::2])\n"
   ]
  },
  {
   "cell_type": "code",
   "execution_count": 61,
   "metadata": {},
   "outputs": [
    {
     "name": "stdout",
     "output_type": "stream",
     "text": [
      "e\n",
      "g\n",
      "n\n",
      "a\n",
      "r\n",
      "o\n"
     ]
    }
   ],
   "source": [
    "fruit = 'orange'\n",
    "i = len(fruit)-1\n",
    "while i>=0:\n",
    "    print( fruit[i]) \n",
    "    i-=1"
   ]
  },
  {
   "cell_type": "code",
   "execution_count": 71,
   "metadata": {},
   "outputs": [
    {
     "name": "stdout",
     "output_type": "stream",
     "text": [
      "e\n",
      "g\n",
      "n\n",
      "a\n",
      "r\n",
      "o\n"
     ]
    }
   ],
   "source": [
    "fruit = 'orange'\n",
    "i = -1\n",
    "while -(len(fruit)+1)<i:\n",
    "    print( fruit[i]) \n",
    "    i-=1"
   ]
  },
  {
   "cell_type": "code",
   "execution_count": 74,
   "metadata": {},
   "outputs": [
    {
     "name": "stdout",
     "output_type": "stream",
     "text": [
      "testing\n",
      "t\n"
     ]
    }
   ],
   "source": [
    "s = input()\n",
    "if len(s)% 2== 0:\n",
    "    x= int(len(s)/2)\n",
    "    print((s[x-1]+s[x]))\n",
    "else:\n",
    "    print (s[int((len(s)-1)/2)])"
   ]
  },
  {
   "cell_type": "markdown",
   "metadata": {},
   "source": [
    "## Teams tasks"
   ]
  },
  {
   "cell_type": "code",
   "execution_count": 14,
   "metadata": {},
   "outputs": [
    {
     "name": "stdout",
     "output_type": "stream",
     "text": [
      "testing\n",
      "t!\n"
     ]
    }
   ],
   "source": [
    "s = input() ##You are going to be given a word. Your job is to attach the '!' to the middle character of the word. If the word's length is odd, return the middle character + '!'. If the word's length is even, return the middle 2 characters preceded and followed by \"!'.\n",
    "x = int(len(s)/2)\n",
    "if len(s)% 2== 0:\n",
    "    print('!'+(s[x-1]+s[x])+'!')\n",
    "else:\n",
    "    print (s[x]+'!')"
   ]
  },
  {
   "cell_type": "code",
   "execution_count": null,
   "metadata": {},
   "outputs": [],
   "source": [
    "##given is a string. If the length of the string is less than 4 print \"too short!\"\n",
    "## if it is greater  or equals  4 check if it is even or odd. \n",
    "## in case it is even return the last character of the word\n",
    "## in case it is odd - print the first one.\n",
    "\n",
    "word = input()\n",
    "if len (word)< 4:\n",
    "    print('too short!')\n",
    "else:\n",
    "    if len(word)%2==0:\n",
    "        print(word[-1])\n",
    "    else:\n",
    "        print(word[0])"
   ]
  },
  {
   "cell_type": "code",
   "execution_count": null,
   "metadata": {},
   "outputs": [],
   "source": [
    "p = 0 ##prompt the user for 5 integers ( each on a new line) and then print the sum of these integers ( use 'while loop'). \n",
    "y = 0\n",
    "while True:\n",
    "    x = int(input())\n",
    "    p+=1\n",
    "    y+=x\n",
    "    if p == 5:\n",
    "        break\n",
    "print(y)"
   ]
  },
  {
   "cell_type": "code",
   "execution_count": 2,
   "metadata": {},
   "outputs": [
    {
     "name": "stdout",
     "output_type": "stream",
     "text": [
      "I do not know\n"
     ]
    }
   ],
   "source": [
    "string = input()\n",
    "vowels = 'a,e,i,o,u,A,E,I,O,U'\n",
    "count = 0\n",
    "for i in string:\n",
    "    if i in vowels:\n",
    "        count+=1"
   ]
  },
  {
   "cell_type": "code",
   "execution_count": 4,
   "metadata": {},
   "outputs": [
    {
     "name": "stdout",
     "output_type": "stream",
     "text": [
      "dog\n",
      "Fail\n"
     ]
    }
   ],
   "source": [
    "x = input()\n",
    "vow = 'aeiuo'\n",
    "vowels=0\n",
    "for i in x:\n",
    "    if i in vow:\n",
    "        vowels+=1\n",
    "consonants = len(x)-vowels\n",
    "if vowels>consonants:\n",
    "    if vowels <=2:\n",
    "        print('Publish')\n",
    "    else:\n",
    "        print('I smell a series!')\n",
    "else:\n",
    "    print('Fail')"
   ]
  },
  {
   "cell_type": "code",
   "execution_count": null,
   "metadata": {},
   "outputs": [],
   "source": [
    "st = input()\n",
    "b =\"aeouiAEOUI\"\n",
    "line = ''\n",
    "for i in st:\n",
    "    if i in b and i.islower():\n",
    "        line += i.upper()\n",
    "    elif i in b and i.isupper():\n",
    "        line += i.lower()\n",
    "    else:\n",
    "        line+=i\n",
    "print(line)"
   ]
  },
  {
   "cell_type": "code",
   "execution_count": 80,
   "metadata": {},
   "outputs": [
    {
     "name": "stdout",
     "output_type": "stream",
     "text": [
      "xxxoo\n",
      "False\n"
     ]
    }
   ],
   "source": [
    "s = input()\n",
    "s = s.lower()\n",
    "if 'x' not in s or 'o' not in s:\n",
    "    print ('True')\n",
    "elif s.count('x') == s.count('o'):\n",
    "    print ('True')\n",
    "else:\n",
    "    print ('False')"
   ]
  },
  {
   "cell_type": "code",
   "execution_count": 82,
   "metadata": {},
   "outputs": [
    {
     "name": "stdout",
     "output_type": "stream",
     "text": [
      "Box\n",
      "iBox\n"
     ]
    }
   ],
   "source": [
    "word = input()\n",
    "vowels = 'aeiouAEIOU'\n",
    "count= 0\n",
    "for i in word:\n",
    "    if i in vowels:\n",
    "        count+=1\n",
    "consonants = len(word)-count\n",
    "if count<consonants and word[0]!='I' and word[0].isupper()== True:\n",
    "    print('i'+ word)\n",
    "else:\n",
    "    print('Invalid word')"
   ]
  },
  {
   "cell_type": "code",
   "execution_count": 2,
   "metadata": {},
   "outputs": [
    {
     "name": "stdout",
     "output_type": "stream",
     "text": [
      "dog\n",
      "True\n"
     ]
    }
   ],
   "source": [
    "string = input()\n",
    "unique=''\n",
    "for letter in string:\n",
    "    if letter not in unique:\n",
    "        unique+= letter\n",
    "if len(string)==len(unique):\n",
    "    print ('True')\n",
    "else:\n",
    "    print('False')"
   ]
  }
 ],
 "metadata": {
  "kernelspec": {
   "display_name": "Python 3",
   "language": "python",
   "name": "python3"
  },
  "language_info": {
   "codemirror_mode": {
    "name": "ipython",
    "version": 3
   },
   "file_extension": ".py",
   "mimetype": "text/x-python",
   "name": "python",
   "nbconvert_exporter": "python",
   "pygments_lexer": "ipython3",
   "version": "3.8.3"
  }
 },
 "nbformat": 4,
 "nbformat_minor": 4
}
