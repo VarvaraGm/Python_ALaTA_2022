{
 "cells": [
  {
   "cell_type": "markdown",
   "metadata": {},
   "source": [
    "### Task 1 (0.5 points)\n",
    "\n",
    "Write a program which prompts the user for a Celsius temperature, convert the temperature to Fahrenheit, and print out the converted temperature."
   ]
  },
  {
   "cell_type": "code",
   "execution_count": null,
   "metadata": {},
   "outputs": [],
   "source": [
    "cel = input ('Temperature in Celsius ')\n",
    "fahr = 9/5 *int(cel) +32 \n",
    "print ('Temperature in fahrenheit', int(fahr))"
   ]
  },
  {
   "cell_type": "markdown",
   "metadata": {},
   "source": [
    "### Task 2 (0.5 points)\n",
    "\n",
    "Help Dasha determine if the year with the given number is a leap year. If the year is a leap year, then output - YES, otherwise output - NO.\n",
    "\n",
    "Remember that according to the Gregorian calendar, a year is a leap year if its number is divisible by 4, but not divisible by 100, and also if it is divisible by 400.\n",
    "\n",
    "INPUT FORMAT:\n",
    "\n",
    "     N - year number (positive integer)\n",
    "\n",
    "OUTPUT FORMAT:\n",
    "\n",
    "     Line. \"YES\" or \"NO\""
   ]
  },
  {
   "cell_type": "code",
   "execution_count": 1,
   "metadata": {},
   "outputs": [],
   "source": [
    "x = int (input ()) \n",
    "if x % 4 == 0 and x % 100 != 0 or x % 400 == 0:\n",
    "    print (\"YES\")\n",
    "else:\n",
    "    print (\"NO\")"
   ]
  },
  {
   "cell_type": "markdown",
   "metadata": {},
   "source": [
    "### Task 3 (1 point)\n",
    "\n",
    "A sequence consists of natural numbers and ends with 0. Determine how many elements of this sequence are greater than the previous element.\n",
    "\n",
    "\n",
    "INPUT FORMAT:\n",
    "\n",
    "     A sequence of integers is introduced, ending with the number 0 (the number 0 itself is not included in the sequence, but serves as a sign of its end).\n",
    "     Each number is entered on a new line.\n",
    "\n",
    "OUTPUT FORMAT:\n",
    "\n",
    "     One number, the answer to the problem.\n",
    "\n",
    "Prompt\n",
    "\n",
    "     Process the first number before the loop and store it in a separate variable (previous number).\n",
    "     \n",
    " Input: \n",
    " \n",
    " 1\n",
    " \n",
    " 3\n",
    " \n",
    " 5\n",
    " \n",
    " 0\n",
    " \n",
    " Output: 2 ( 3 is greater than 1, 5 is greater than 3)\n",
    "    "
   ]
  },
  {
   "cell_type": "code",
   "execution_count": null,
   "metadata": {},
   "outputs": [],
   "source": [
    "number = int(input())\n",
    "cnt = 0\n",
    "while number != 0:\n",
    "    prev_number = number\n",
    "    number = int(input())\n",
    "    if number > prev_number:\n",
    "        cnt += 1       \n",
    "print(cnt)"
   ]
  },
  {
   "cell_type": "markdown",
   "metadata": {},
   "source": [
    "### Task 4 (1 point)\n",
    "Given is a string. Your should return a list of all the indexes in the string that have capital letters.\n",
    "\n",
    "For example, input:(\"HeLlO\") should return the list [0, 2, 4]."
   ]
  },
  {
   "cell_type": "code",
   "execution_count": null,
   "metadata": {},
   "outputs": [],
   "source": [
    "line = input()\n",
    "new =[]\n",
    "for i,p in enumerate(line):\n",
    "    if p.isupper():\n",
    "        new.append(i)\n",
    "print(new)"
   ]
  },
  {
   "cell_type": "markdown",
   "metadata": {},
   "source": [
    "### Task 5 (1.5 points)\n",
    "\n",
    "You have two lists, the first contains the names of the guests, and the second contains their favorite dishes. You need to print out their preferences so that a sentence like “Eric loves borsch” is displayed. It is guaranteed that the lists are of the same length.\n",
    "\n",
    "INPUT FORMAT:\n",
    "\n",
    "     Two lines.\n",
    "     The first line contains names separated by a space.\n",
    "     The second line contains the names of the dishes separated by a space.\n",
    "\n",
    "OUTPUT FORMAT:\n",
    "\n",
    "     A set of strings like '{name} likes {dish}\n",
    "     \n",
    " Example:\n",
    " \n",
    " Line1 = Peter Kate John\n",
    " \n",
    " Line2 = Pudding Fish Cake\n",
    " \n",
    " Output: \n",
    " \n",
    "         Peter likes Pudding\n",
    " \n",
    "         Kate likes Fish\n",
    "         \n",
    "         John likes Cake"
   ]
  },
  {
   "cell_type": "code",
   "execution_count": null,
   "metadata": {},
   "outputs": [],
   "source": [
    "names = input().split()\n",
    "food = input().split()\n",
    "l = ''\n",
    "for i in range(len(names)):\n",
    "    l+=(f'{names[i]} loves {food[i]}, ')\n",
    "print(l)"
   ]
  },
  {
   "cell_type": "markdown",
   "metadata": {},
   "source": [
    "### Task 6 (1.5 points)\n",
    "\n",
    "🗺️ You would be given a map of the world in a type of string:\n",
    "\n",
    "string s = \"01000000X000X011X0X\"\n",
    "\n",
    "'0' : uninfected\n",
    "\n",
    "'1' : infected\n",
    "\n",
    "'X' : ocean\n",
    "\n",
    "⚫ The virus can't spread in the other side of the ocean.\n",
    "\n",
    "⚫ If one person is infected every person in this continent gets infected too.\n",
    "\n",
    "⚫ Your task is to find the percentage of human population that got infected in the end.\n",
    "\n",
    "☑️ Return the percentage % of the total population that got infected.\n",
    "\n",
    "❗❗ The first and the last continent are not connected!\n",
    "\n",
    "💡 Example:\n",
    "\n",
    " start: map1 = \"01000000X000X011X0X\"\n",
    " \n",
    " end:   map1 = \"11111111X000X111X0X\"\n",
    " \n",
    " total = 15\n",
    " \n",
    " infected = 11\n",
    " \n",
    " percentage = 100*11/15 = 73.33333333333333\n",
    "\n",
    "➕ For maps without oceans \"X\" the whole world is connected.\n",
    "\n",
    "➕ For maps without \"0\" and \"1\" return 0 as there is no population.\n"
   ]
  },
  {
   "cell_type": "code",
   "execution_count": null,
   "metadata": {},
   "outputs": [],
   "source": [
    "s = input()\n",
    "for i in s:\n",
    "    if '0' not in s and '1' not in s:\n",
    "        percentage=0\n",
    "s=s.split('X')\n",
    "infected = 0\n",
    "total = 0\n",
    "for i in s:\n",
    "    total+=len(i)\n",
    "    if '1' in i:\n",
    "        infected +=len(i)\n",
    "if total==0:\n",
    "    pass\n",
    "else:\n",
    "    percentage = 100*infected/total\n",
    "print(percentage)"
   ]
  }
 ],
 "metadata": {
  "kernelspec": {
   "display_name": "Python 3",
   "language": "python",
   "name": "python3"
  },
  "language_info": {
   "codemirror_mode": {
    "name": "ipython",
    "version": 3
   },
   "file_extension": ".py",
   "mimetype": "text/x-python",
   "name": "python",
   "nbconvert_exporter": "python",
   "pygments_lexer": "ipython3",
   "version": "3.8.3"
  }
 },
 "nbformat": 4,
 "nbformat_minor": 4
}
